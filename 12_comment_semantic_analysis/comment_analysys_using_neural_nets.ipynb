{
 "cells": [
  {
   "cell_type": "markdown",
   "metadata": {
    "id": "xXuDtoxGTmvh"
   },
   "source": [
    "## Все то же самое, что и в основном файле, но с нейросетями\n",
    "\n",
    "Делалось в Google Colab с использованием GPU"
   ]
  },
  {
   "cell_type": "markdown",
   "metadata": {
    "id": "Ot_6c1DnTmvi"
   },
   "source": [
    "# 1. Общая подготовка"
   ]
  },
  {
   "cell_type": "markdown",
   "metadata": {
    "id": "5t_iwNWr2Wnu"
   },
   "source": [
    "Установка библиотеки transformers (ее нет по умолчанию)"
   ]
  },
  {
   "cell_type": "code",
   "execution_count": null,
   "metadata": {
    "colab": {
     "base_uri": "https://localhost:8080/",
     "height": 340
    },
    "id": "EM7nA52NTwcD",
    "outputId": "bad7c9e7-48d0-41b2-85a7-36eaaff10c9a"
   },
   "outputs": [
    {
     "name": "stdout",
     "output_type": "stream",
     "text": [
      "Requirement already satisfied: transformers in /usr/local/lib/python3.6/dist-packages (3.3.1)\n",
      "Requirement already satisfied: sentencepiece!=0.1.92 in /usr/local/lib/python3.6/dist-packages (from transformers) (0.1.91)\n",
      "Requirement already satisfied: dataclasses; python_version < \"3.7\" in /usr/local/lib/python3.6/dist-packages (from transformers) (0.7)\n",
      "Requirement already satisfied: packaging in /usr/local/lib/python3.6/dist-packages (from transformers) (20.4)\n",
      "Requirement already satisfied: tokenizers==0.8.1.rc2 in /usr/local/lib/python3.6/dist-packages (from transformers) (0.8.1rc2)\n",
      "Requirement already satisfied: regex!=2019.12.17 in /usr/local/lib/python3.6/dist-packages (from transformers) (2019.12.20)\n",
      "Requirement already satisfied: tqdm>=4.27 in /usr/local/lib/python3.6/dist-packages (from transformers) (4.41.1)\n",
      "Requirement already satisfied: requests in /usr/local/lib/python3.6/dist-packages (from transformers) (2.23.0)\n",
      "Requirement already satisfied: filelock in /usr/local/lib/python3.6/dist-packages (from transformers) (3.0.12)\n",
      "Requirement already satisfied: numpy in /usr/local/lib/python3.6/dist-packages (from transformers) (1.18.5)\n",
      "Requirement already satisfied: sacremoses in /usr/local/lib/python3.6/dist-packages (from transformers) (0.0.43)\n",
      "Requirement already satisfied: six in /usr/local/lib/python3.6/dist-packages (from packaging->transformers) (1.15.0)\n",
      "Requirement already satisfied: pyparsing>=2.0.2 in /usr/local/lib/python3.6/dist-packages (from packaging->transformers) (2.4.7)\n",
      "Requirement already satisfied: chardet<4,>=3.0.2 in /usr/local/lib/python3.6/dist-packages (from requests->transformers) (3.0.4)\n",
      "Requirement already satisfied: urllib3!=1.25.0,!=1.25.1,<1.26,>=1.21.1 in /usr/local/lib/python3.6/dist-packages (from requests->transformers) (1.24.3)\n",
      "Requirement already satisfied: idna<3,>=2.5 in /usr/local/lib/python3.6/dist-packages (from requests->transformers) (2.10)\n",
      "Requirement already satisfied: certifi>=2017.4.17 in /usr/local/lib/python3.6/dist-packages (from requests->transformers) (2020.6.20)\n",
      "Requirement already satisfied: click in /usr/local/lib/python3.6/dist-packages (from sacremoses->transformers) (7.1.2)\n",
      "Requirement already satisfied: joblib in /usr/local/lib/python3.6/dist-packages (from sacremoses->transformers) (0.16.0)\n"
     ]
    }
   ],
   "source": [
    "pip install transformers"
   ]
  },
  {
   "cell_type": "code",
   "execution_count": null,
   "metadata": {
    "id": "jxlETWeoTmvi"
   },
   "outputs": [],
   "source": [
    "import pandas as pd\n",
    "import numpy as np\n",
    "import torch\n",
    "import nltk\n",
    "import re\n",
    "import random\n",
    "import time\n",
    "import datetime\n",
    "import transformers\n",
    "import lightgbm as lgb\n",
    "from tqdm import notebook\n",
    "from transformers import BertTokenizer, AdamW, get_linear_schedule_with_warmup, AutoConfig, AutoModelForSequenceClassification\n",
    "from nltk.corpus import stopwords as nltk_stopwords\n",
    "from nltk.stem import SnowballStemmer\n",
    "from sklearn.feature_extraction.text import TfidfVectorizer\n",
    "from sklearn.linear_model import LogisticRegression\n",
    "from sklearn.model_selection import cross_val_score, train_test_split, GridSearchCV\n",
    "from sklearn.metrics import f1_score, confusion_matrix, precision_score, recall_score, classification_report"
   ]
  },
  {
   "cell_type": "markdown",
   "metadata": {
    "id": "HFWtJqz02c0g"
   },
   "source": [
    "Подключаем Google Drive для импорта данных"
   ]
  },
  {
   "cell_type": "code",
   "execution_count": null,
   "metadata": {
    "colab": {
     "base_uri": "https://localhost:8080/",
     "height": 34
    },
    "id": "PkUTFz9yU7_s",
    "outputId": "9a4cd0f1-877a-42eb-f37f-67dbf20b2709"
   },
   "outputs": [
    {
     "name": "stdout",
     "output_type": "stream",
     "text": [
      "Drive already mounted at /content/drive; to attempt to forcibly remount, call drive.mount(\"/content/drive\", force_remount=True).\n"
     ]
    }
   ],
   "source": [
    "from google.colab import drive\n",
    "drive.mount('/content/drive')"
   ]
  },
  {
   "cell_type": "code",
   "execution_count": null,
   "metadata": {
    "id": "XdPRyWgNTmvm"
   },
   "outputs": [],
   "source": [
    "df = pd.read_csv('drive/My Drive/toxic_comments.csv')"
   ]
  },
  {
   "cell_type": "markdown",
   "metadata": {
    "id": "cWwWrWY_Tmvv"
   },
   "source": [
    "Основная идея нижеследующих блоков в том, чтобы обучить модель без нейронок, посмотреть, сможем ли выжать приемлемый результат без них (хорошо бы, если так), а потом повторить обучение на PyTorch+BERT"
   ]
  },
  {
   "cell_type": "code",
   "execution_count": null,
   "metadata": {
    "id": "meTQStIQTmvv"
   },
   "outputs": [],
   "source": [
    "train, test = train_test_split(df, random_state=12345)"
   ]
  },
  {
   "cell_type": "markdown",
   "metadata": {
    "id": "dVmcLoHWzorC"
   },
   "source": [
    "Вспомогательная функция для перевода времени из секунд в Ч:ММ:СС"
   ]
  },
  {
   "cell_type": "code",
   "execution_count": null,
   "metadata": {
    "id": "UbxbjOoGTmvs"
   },
   "outputs": [],
   "source": [
    "def format_time(elapsed):\n",
    "    '''\n",
    "    Takes a time in seconds and returns a string hh:mm:ss\n",
    "    '''\n",
    "    # Round to the nearest second.\n",
    "    elapsed_rounded = int(round((elapsed)))\n",
    "    \n",
    "    # Format as hh:mm:ss\n",
    "    return str(datetime.timedelta(seconds=elapsed_rounded))"
   ]
  },
  {
   "cell_type": "markdown",
   "metadata": {
    "id": "8yuY2zjY3cV-"
   },
   "source": [
    "Вспомогательная функция, к-я позволяет указать, сколько обновлений мы хотим получить на экране во время обучения"
   ]
  },
  {
   "cell_type": "code",
   "execution_count": null,
   "metadata": {
    "id": "D0SloU-WaD0I"
   },
   "outputs": [],
   "source": [
    "def good_update_interval(total_iters, num_desired_updates):\n",
    "    '''\n",
    "    This function will try to pick an intelligent progress update interval \n",
    "    based on the magnitude of the total iterations.\n",
    "\n",
    "    Parameters:\n",
    "      `total_iters` - The number of iterations in the for-loop.\n",
    "      `num_desired_updates` - How many times we want to see an update over the \n",
    "                              course of the for-loop.\n",
    "    '''\n",
    "    # Divide the total iterations by the desired number of updates. Most likely\n",
    "    # this will be some ugly number.\n",
    "    exact_interval = total_iters / num_desired_updates\n",
    "\n",
    "    # The `round` function has the ability to round down a number to, e.g., the\n",
    "    # nearest thousandth: round(exact_interval, -3)\n",
    "    #\n",
    "    # To determine the magnitude to round to, find the magnitude of the total,\n",
    "    # and then go one magnitude below that.\n",
    "\n",
    "    # Get the order of magnitude of the total.\n",
    "    order_of_mag = len(str(total_iters)) - 1\n",
    "\n",
    "    # Our update interval should be rounded to an order of magnitude smaller. \n",
    "    round_mag = order_of_mag - 1\n",
    "\n",
    "    # Round down and cast to an int.\n",
    "    update_interval = int(round(exact_interval, -round_mag))\n",
    "\n",
    "    # Don't allow the interval to be zero!\n",
    "    if update_interval == 0:\n",
    "        update_interval = 1\n",
    "\n",
    "    return update_interval"
   ]
  },
  {
   "cell_type": "markdown",
   "metadata": {
    "id": "nhZdcXf7TmxV"
   },
   "source": [
    "# 3. Нейросеть с умными батчами"
   ]
  },
  {
   "cell_type": "markdown",
   "metadata": {
    "id": "GxmuW-726zDi"
   },
   "source": [
    "## Подготовка"
   ]
  },
  {
   "cell_type": "markdown",
   "metadata": {
    "id": "qU1pQjlt3CJ1"
   },
   "source": [
    "Загрузка токенизатора BERT (нечувствительный к регистру вариант)"
   ]
  },
  {
   "cell_type": "code",
   "execution_count": null,
   "metadata": {
    "colab": {
     "base_uri": "https://localhost:8080/",
     "height": 34
    },
    "id": "lKCtrStgaffu",
    "outputId": "c2a6f168-829d-4cb5-e433-474c15dccd4f"
   },
   "outputs": [
    {
     "name": "stdout",
     "output_type": "stream",
     "text": [
      "Loading BERT tokenizer...\n"
     ]
    }
   ],
   "source": [
    "# Load the BERT tokenizer.\n",
    "print('Loading BERT tokenizer...')\n",
    "tokenizer = BertTokenizer.from_pretrained('bert-base-uncased', do_lower_case=True)"
   ]
  },
  {
   "cell_type": "markdown",
   "metadata": {
    "id": "726N7Qp22qOj"
   },
   "source": [
    "Установка максимального размера эмбеддинга"
   ]
  },
  {
   "cell_type": "code",
   "execution_count": null,
   "metadata": {
    "id": "t8zbLptx2pls"
   },
   "outputs": [],
   "source": [
    "max_len = 400"
   ]
  },
  {
   "cell_type": "markdown",
   "metadata": {
    "id": "kfSy9R7m4Hye"
   },
   "source": [
    "Самая главная функция. Делаем умные батчи"
   ]
  },
  {
   "cell_type": "code",
   "execution_count": null,
   "metadata": {
    "id": "steiPJ94VvfB"
   },
   "outputs": [],
   "source": [
    "def make_smart_batches(text_samples, labels, batch_size):\n",
    "    '''\n",
    "    This function combines all of the required steps to prepare batches.\n",
    "    '''\n",
    "\n",
    "    print('Creating Smart Batches from {:,} examples with batch size {:,}...\\n'.format(len(text_samples), batch_size))\n",
    "\n",
    "    # =========================\n",
    "    #   Tokenize & Truncate\n",
    "    # =========================\n",
    "\n",
    "    full_input_ids = []\n",
    "\n",
    "    # Tokenize all training examples\n",
    "    print('Tokenizing {:,} samples...'.format(len(labels)))\n",
    "\n",
    "    # Choose an interval on which to print progress updates.\n",
    "    update_interval = good_update_interval(total_iters=len(labels), num_desired_updates=10)\n",
    "\n",
    "    # For each training example...\n",
    "    for text in text_samples:\n",
    "        \n",
    "        # Report progress.\n",
    "        if ((len(full_input_ids) % update_interval) == 0):\n",
    "            print('  Tokenized {:,} samples.'.format(len(full_input_ids)))\n",
    "\n",
    "        # Tokenize the sample.\n",
    "        input_ids = tokenizer.encode(text=text,              # Text to encode.\n",
    "                                    add_special_tokens=True, # Do add specials.\n",
    "                                    max_length=max_len,      # Do Truncate!\n",
    "                                    truncation=True,         # Do Truncate!\n",
    "                                    padding=False)           # DO NOT pad.\n",
    "                                    \n",
    "        # Add the tokenized result to our list.\n",
    "        full_input_ids.append(input_ids)\n",
    "        \n",
    "    print('DONE.')\n",
    "    print('{:>10,} samples\\n'.format(len(full_input_ids)))\n",
    "\n",
    "    # =========================\n",
    "    #      Select Batches\n",
    "    # =========================    \n",
    "\n",
    "    # Sort the two lists together by the length of the input sequence.\n",
    "    samples = sorted(zip(full_input_ids, labels), key=lambda x: len(x[0]))\n",
    "\n",
    "    print('{:>10,} samples after sorting\\n'.format(len(samples)))\n",
    "\n",
    "\n",
    "    # List of batches that we'll construct.\n",
    "    batch_ordered_sentences = []\n",
    "    batch_ordered_labels = []\n",
    "\n",
    "    print('Creating batches of size {:}...'.format(batch_size))\n",
    "\n",
    "    # Choose an interval on which to print progress updates.\n",
    "    update_interval = good_update_interval(total_iters=len(samples), num_desired_updates=10)\n",
    "    \n",
    "    # Loop over all of the input samples...    \n",
    "    while len(samples) > 0:\n",
    "        \n",
    "        # Report progress.\n",
    "        if ((len(batch_ordered_sentences) % update_interval) == 0 \\\n",
    "            and not len(batch_ordered_sentences) == 0):\n",
    "            print('  Selected {:,} batches.'.format(len(batch_ordered_sentences)))\n",
    "\n",
    "        # `to_take` is our actual batch size. It will be `batch_size` until \n",
    "        # we get to the last batch, which may be smaller. \n",
    "        to_take = min(batch_size, len(samples))\n",
    "\n",
    "        # Pick a random index in the list of remaining samples to start\n",
    "        # our batch at.\n",
    "        select = random.randint(0, len(samples) - to_take)\n",
    "\n",
    "        # Select a contiguous batch of samples starting at `select`.\n",
    "        #print(\"Selecting batch from {:} to {:}\".format(select, select+to_take))\n",
    "        batch = samples[select:(select + to_take)]\n",
    "\n",
    "        #print(\"Batch length:\", len(batch))\n",
    "\n",
    "        # Each sample is a tuple--split them apart to create a separate list of \n",
    "        # sequences and a list of labels for this batch.\n",
    "        batch_ordered_sentences.append([s[0] for s in batch])\n",
    "        batch_ordered_labels.append([s[1] for s in batch])\n",
    "\n",
    "        # Remove these samples from the list.\n",
    "        del samples[select:select + to_take]\n",
    "\n",
    "    print('\\n  DONE - Selected {:,} batches.\\n'.format(len(batch_ordered_sentences)))\n",
    "\n",
    "    # =========================\n",
    "    #        Add Padding\n",
    "    # =========================    \n",
    "\n",
    "    print('Padding out sequences within each batch...')\n",
    "\n",
    "    py_inputs = []\n",
    "    py_attn_masks = []\n",
    "    py_labels = []\n",
    "\n",
    "    # For each batch...\n",
    "    for (batch_inputs, batch_labels) in zip(batch_ordered_sentences, batch_ordered_labels):\n",
    "\n",
    "        # New version of the batch, this time with padded sequences and now with\n",
    "        # attention masks defined.\n",
    "        batch_padded_inputs = []\n",
    "        batch_attn_masks = []\n",
    "        \n",
    "        # First, find the longest sample in the batch. \n",
    "        # Note that the sequences do currently include the special tokens!\n",
    "        max_size = max([len(sen) for sen in batch_inputs])\n",
    "\n",
    "        # For each input in this batch...\n",
    "        for sen in batch_inputs:\n",
    "            \n",
    "            # How many pad tokens do we need to add?\n",
    "            num_pads = max_size - len(sen)\n",
    "\n",
    "            # Add `num_pads` padding tokens to the end of the sequence.\n",
    "            padded_input = sen + [tokenizer.pad_token_id]*num_pads\n",
    "\n",
    "            # Define the attention mask--it's just a `1` for every real token\n",
    "            # and a `0` for every padding token.\n",
    "            attn_mask = [1] * len(sen) + [0] * num_pads\n",
    "\n",
    "            # Add the padded results to the batch.\n",
    "            batch_padded_inputs.append(padded_input)\n",
    "            batch_attn_masks.append(attn_mask)\n",
    "\n",
    "        # Our batch has been padded, so we need to save this updated batch.\n",
    "        # We also need the inputs to be PyTorch tensors, so we'll do that here.\n",
    "        # Todo - Michael's code specified \"dtype=torch.long\"\n",
    "        py_inputs.append(torch.tensor(batch_padded_inputs))\n",
    "        py_attn_masks.append(torch.tensor(batch_attn_masks))\n",
    "        py_labels.append(torch.tensor(batch_labels))\n",
    "    \n",
    "    print('  DONE.')\n",
    "\n",
    "    # Return the smart-batched dataset!\n",
    "    return (py_inputs, py_attn_masks, py_labels)"
   ]
  },
  {
   "cell_type": "markdown",
   "metadata": {
    "id": "gc5XxMbR4hQ4"
   },
   "source": [
    "Переводим тексты и метки классов в формат списков Python, т.к. функция выше ожидает такой формат"
   ]
  },
  {
   "cell_type": "code",
   "execution_count": null,
   "metadata": {
    "id": "PcxwtsDxYcnT"
   },
   "outputs": [],
   "source": [
    "text_train = train.text.to_list()\n",
    "labels_train = train.toxic.to_list()"
   ]
  },
  {
   "cell_type": "markdown",
   "metadata": {
    "id": "vSsK1OqBByds"
   },
   "source": [
    "Теперь получаем батчи, маски внимания и соответствующие им метки классов при помощи этой функции"
   ]
  },
  {
   "cell_type": "code",
   "execution_count": null,
   "metadata": {
    "colab": {
     "base_uri": "https://localhost:8080/",
     "height": 476
    },
    "id": "GtdkLgiIZYre",
    "outputId": "bc864e50-9f92-4067-cbbf-07c86f8a837b"
   },
   "outputs": [
    {
     "name": "stdout",
     "output_type": "stream",
     "text": [
      "Creating Smart Batches from 119,678 examples with batch size 10...\n",
      "\n",
      "Tokenizing 119,678 samples...\n",
      "  Tokenized 0 samples.\n",
      "  Tokenized 10,000 samples.\n",
      "  Tokenized 20,000 samples.\n",
      "  Tokenized 30,000 samples.\n",
      "  Tokenized 40,000 samples.\n",
      "  Tokenized 50,000 samples.\n",
      "  Tokenized 60,000 samples.\n",
      "  Tokenized 70,000 samples.\n",
      "  Tokenized 80,000 samples.\n",
      "  Tokenized 90,000 samples.\n",
      "  Tokenized 100,000 samples.\n",
      "  Tokenized 110,000 samples.\n",
      "DONE.\n",
      "   119,678 samples\n",
      "\n",
      "   119,678 samples after sorting\n",
      "\n",
      "Creating batches of size 10...\n",
      "  Selected 10,000 batches.\n",
      "\n",
      "  DONE - Selected 11,968 batches.\n",
      "\n",
      "Padding out sequences within each batch...\n",
      "  DONE.\n"
     ]
    }
   ],
   "source": [
    "(py_inputs, py_attn_masks, py_labels) = make_smart_batches(text_train, labels_train, 10)"
   ]
  },
  {
   "cell_type": "markdown",
   "metadata": {
    "id": "MLs6_cte4laU"
   },
   "source": [
    "То же самое делаем для тестовой выборки"
   ]
  },
  {
   "cell_type": "code",
   "execution_count": null,
   "metadata": {
    "id": "rOK0R_I6dDEm"
   },
   "outputs": [],
   "source": [
    "text_test = test.text.to_list()\n",
    "labels_test = test.toxic.to_list()"
   ]
  },
  {
   "cell_type": "code",
   "execution_count": null,
   "metadata": {
    "colab": {
     "base_uri": "https://localhost:8080/",
     "height": 425
    },
    "id": "aNU9mF_4dWri",
    "outputId": "8d97a9ce-3915-4474-bfc6-f50f58a62be7"
   },
   "outputs": [
    {
     "name": "stdout",
     "output_type": "stream",
     "text": [
      "Creating Smart Batches from 39,893 examples with batch size 10...\n",
      "\n",
      "Tokenizing 39,893 samples...\n",
      "  Tokenized 0 samples.\n",
      "  Tokenized 4,000 samples.\n",
      "  Tokenized 8,000 samples.\n",
      "  Tokenized 12,000 samples.\n",
      "  Tokenized 16,000 samples.\n",
      "  Tokenized 20,000 samples.\n",
      "  Tokenized 24,000 samples.\n",
      "  Tokenized 28,000 samples.\n",
      "  Tokenized 32,000 samples.\n",
      "  Tokenized 36,000 samples.\n",
      "DONE.\n",
      "    39,893 samples\n",
      "\n",
      "    39,893 samples after sorting\n",
      "\n",
      "Creating batches of size 10...\n",
      "\n",
      "  DONE - Selected 3,990 batches.\n",
      "\n",
      "Padding out sequences within each batch...\n",
      "  DONE.\n"
     ]
    }
   ],
   "source": [
    "(py_inputs_test, py_attn_masks_test, py_labels_test) = make_smart_batches(text_test, labels_test, 10)"
   ]
  },
  {
   "cell_type": "markdown",
   "metadata": {
    "id": "FERL_--m3wmm"
   },
   "source": [
    "Загрузка конфигурации и самой модели (автоподбор)"
   ]
  },
  {
   "cell_type": "code",
   "execution_count": null,
   "metadata": {
    "colab": {
     "base_uri": "https://localhost:8080/",
     "height": 51
    },
    "id": "8GZPd5vWKrpL",
    "outputId": "89db841d-a122-43e7-91a3-84a84a058cec"
   },
   "outputs": [
    {
     "name": "stdout",
     "output_type": "stream",
     "text": [
      "Config type: <class 'transformers.configuration_bert.BertConfig'> \n",
      "\n"
     ]
    }
   ],
   "source": [
    "# Load the Config object, with an output configured for classification.\n",
    "config = AutoConfig.from_pretrained(pretrained_model_name_or_path='bert-base-uncased',\n",
    "                                    num_labels=2)\n",
    "\n",
    "print('Config type:', str(type(config)), '\\n')\n"
   ]
  },
  {
   "cell_type": "code",
   "execution_count": null,
   "metadata": {
    "colab": {
     "base_uri": "https://localhost:8080/",
     "height": 156
    },
    "id": "J9a3TBRuVaWS",
    "outputId": "e302b404-0119-4d68-9bd8-d3c7b09d5b46"
   },
   "outputs": [
    {
     "name": "stderr",
     "output_type": "stream",
     "text": [
      "Some weights of the model checkpoint at bert-base-uncased were not used when initializing BertForSequenceClassification: ['cls.predictions.bias', 'cls.predictions.transform.dense.weight', 'cls.predictions.transform.dense.bias', 'cls.predictions.decoder.weight', 'cls.seq_relationship.weight', 'cls.seq_relationship.bias', 'cls.predictions.transform.LayerNorm.weight', 'cls.predictions.transform.LayerNorm.bias']\n",
      "- This IS expected if you are initializing BertForSequenceClassification from the checkpoint of a model trained on another task or with another architecture (e.g. initializing a BertForSequenceClassification model from a BertForPretraining model).\n",
      "- This IS NOT expected if you are initializing BertForSequenceClassification from the checkpoint of a model that you expect to be exactly identical (initializing a BertForSequenceClassification model from a BertForSequenceClassification model).\n",
      "Some weights of BertForSequenceClassification were not initialized from the model checkpoint at bert-base-uncased and are newly initialized: ['classifier.weight', 'classifier.bias']\n",
      "You should probably TRAIN this model on a down-stream task to be able to use it for predictions and inference.\n"
     ]
    },
    {
     "name": "stdout",
     "output_type": "stream",
     "text": [
      "\n",
      "Model type: <class 'transformers.modeling_bert.BertForSequenceClassification'>\n"
     ]
    }
   ],
   "source": [
    "# Load the pre-trained model for classification, passing in the `config` from\n",
    "# above.\n",
    "model = AutoModelForSequenceClassification.from_pretrained(\n",
    "    pretrained_model_name_or_path='bert-base-uncased',\n",
    "    config=config)\n",
    "\n",
    "print('\\nModel type:', str(type(model)))\n"
   ]
  },
  {
   "cell_type": "markdown",
   "metadata": {
    "id": "d-wIKJFIAxLC"
   },
   "source": [
    "Некий оптимизатор"
   ]
  },
  {
   "cell_type": "code",
   "execution_count": null,
   "metadata": {
    "id": "bWBQ5JABAwOH"
   },
   "outputs": [],
   "source": [
    "# Note: AdamW is a class from the huggingface library (as opposed to pytorch) \n",
    "# I believe the 'W' stands for 'Weight Decay fix\"\n",
    "optimizer = AdamW(model.parameters(),\n",
    "                  lr = 5e-5, # This is the value Michael used.\n",
    "                  eps = 1e-8 # args.adam_epsilon  - default is 1e-8.\n",
    "                )\n"
   ]
  },
  {
   "cell_type": "markdown",
   "metadata": {
    "id": "DR31pJPb27cl"
   },
   "source": [
    "Задать количество эпох для обучения"
   ]
  },
  {
   "cell_type": "code",
   "execution_count": null,
   "metadata": {
    "id": "epKXw0Y9e_ob"
   },
   "outputs": [],
   "source": [
    "# Number of training epochs.\n",
    "epochs = 3\n",
    "\n",
    "# Total number of training steps is [number of batches] x [number of epochs]. \n",
    "# Note that it's the number of *batches*, not *samples*!\n",
    "total_steps = len(py_inputs) * epochs\n",
    "\n",
    "# Create the learning rate scheduler.\n",
    "scheduler = get_linear_schedule_with_warmup(optimizer, \n",
    "                                            num_warmup_steps = 0, # Default value in run_glue.py\n",
    "                                            num_training_steps = total_steps)"
   ]
  },
  {
   "cell_type": "markdown",
   "metadata": {
    "id": "UZZA_TOa38c9"
   },
   "source": [
    "Перекидываем вычисления на GPU (если блокнот открыт в режиме CPU-only, здесь вас ждет фиаско)"
   ]
  },
  {
   "cell_type": "code",
   "execution_count": null,
   "metadata": {
    "colab": {
     "base_uri": "https://localhost:8080/",
     "height": 85
    },
    "id": "dm4vs7woUYPd",
    "outputId": "f8d85e16-8f65-49cf-d836-53fa9ba26bcd"
   },
   "outputs": [
    {
     "name": "stdout",
     "output_type": "stream",
     "text": [
      "\n",
      "Loading model to GPU...\n",
      "  GPU: Tesla T4\n",
      "    DONE.\n"
     ]
    }
   ],
   "source": [
    "print('\\nLoading model to GPU...')\n",
    "\n",
    "device = torch.device('cuda')\n",
    "\n",
    "print('  GPU:', torch.cuda.get_device_name(0))\n",
    "\n",
    "desc = model.to(device)\n",
    "\n",
    "print('    DONE.')"
   ]
  },
  {
   "cell_type": "markdown",
   "metadata": {
    "id": "fOv3-Nx7ukOI"
   },
   "source": [
    "## Обучение"
   ]
  },
  {
   "cell_type": "code",
   "execution_count": null,
   "metadata": {
    "colab": {
     "base_uri": "https://localhost:8080/",
     "height": 1000
    },
    "id": "OkBqxbG3ujdj",
    "outputId": "828e44fc-0bfc-4059-dea2-6f76fdfca214"
   },
   "outputs": [
    {
     "name": "stdout",
     "output_type": "stream",
     "text": [
      "\n",
      "======== Epoch 1 / 3 ========\n",
      "Training on 11,968 batches...\n",
      "  Batch   1,000  of   11,968.    Elapsed: 0:02:59.  Remaining: 0:32:45\n",
      "  Batch   2,000  of   11,968.    Elapsed: 0:06:38.  Remaining: 0:33:02\n",
      "  Batch   3,000  of   11,968.    Elapsed: 0:10:10.  Remaining: 0:30:24\n",
      "  Batch   4,000  of   11,968.    Elapsed: 0:13:45.  Remaining: 0:27:24\n",
      "  Batch   5,000  of   11,968.    Elapsed: 0:17:21.  Remaining: 0:24:10\n",
      "  Batch   6,000  of   11,968.    Elapsed: 0:20:58.  Remaining: 0:20:52\n",
      "  Batch   7,000  of   11,968.    Elapsed: 0:24:30.  Remaining: 0:17:23\n",
      "  Batch   8,000  of   11,968.    Elapsed: 0:27:56.  Remaining: 0:13:51\n",
      "  Batch   9,000  of   11,968.    Elapsed: 0:31:17.  Remaining: 0:10:19\n",
      "  Batch  10,000  of   11,968.    Elapsed: 0:34:45.  Remaining: 0:06:50\n",
      "  Batch  11,000  of   11,968.    Elapsed: 0:38:11.  Remaining: 0:03:22\n",
      "\n",
      "  Average training loss: 0.25\n",
      "  Training epcoh took: 0:41:41\n",
      "\n",
      "======== Epoch 2 / 3 ========\n",
      "Creating Smart Batches from 119,678 examples with batch size 10...\n",
      "\n",
      "Tokenizing 119,678 samples...\n",
      "  Tokenized 0 samples.\n",
      "  Tokenized 10,000 samples.\n",
      "  Tokenized 20,000 samples.\n",
      "  Tokenized 30,000 samples.\n",
      "  Tokenized 40,000 samples.\n",
      "  Tokenized 50,000 samples.\n",
      "  Tokenized 60,000 samples.\n",
      "  Tokenized 70,000 samples.\n",
      "  Tokenized 80,000 samples.\n",
      "  Tokenized 90,000 samples.\n",
      "  Tokenized 100,000 samples.\n",
      "  Tokenized 110,000 samples.\n",
      "DONE.\n",
      "   119,678 samples\n",
      "\n",
      "   119,678 samples after sorting\n",
      "\n",
      "Creating batches of size 10...\n",
      "  Selected 10,000 batches.\n",
      "\n",
      "  DONE - Selected 11,968 batches.\n",
      "\n",
      "Padding out sequences within each batch...\n",
      "  DONE.\n",
      "Training on 11,968 batches...\n",
      "  Batch   1,000  of   11,968.    Elapsed: 0:03:29.  Remaining: 0:38:15\n",
      "  Batch   2,000  of   11,968.    Elapsed: 0:06:47.  Remaining: 0:33:50\n",
      "  Batch   3,000  of   11,968.    Elapsed: 0:10:22.  Remaining: 0:30:59\n",
      "  Batch   4,000  of   11,968.    Elapsed: 0:14:00.  Remaining: 0:27:54\n",
      "  Batch   5,000  of   11,968.    Elapsed: 0:17:24.  Remaining: 0:24:15\n",
      "  Batch   6,000  of   11,968.    Elapsed: 0:21:05.  Remaining: 0:20:58\n",
      "  Batch   7,000  of   11,968.    Elapsed: 0:24:25.  Remaining: 0:17:20\n",
      "  Batch   8,000  of   11,968.    Elapsed: 0:28:02.  Remaining: 0:13:54\n",
      "  Batch   9,000  of   11,968.    Elapsed: 0:31:27.  Remaining: 0:10:22\n",
      "  Batch  10,000  of   11,968.    Elapsed: 0:34:59.  Remaining: 0:06:53\n",
      "  Batch  11,000  of   11,968.    Elapsed: 0:38:30.  Remaining: 0:03:23\n",
      "\n",
      "  Average training loss: 0.33\n",
      "  Training epcoh took: 0:42:02\n",
      "\n",
      "======== Epoch 3 / 3 ========\n",
      "Creating Smart Batches from 119,678 examples with batch size 10...\n",
      "\n",
      "Tokenizing 119,678 samples...\n",
      "  Tokenized 0 samples.\n",
      "  Tokenized 10,000 samples.\n",
      "  Tokenized 20,000 samples.\n",
      "  Tokenized 30,000 samples.\n",
      "  Tokenized 40,000 samples.\n",
      "  Tokenized 50,000 samples.\n",
      "  Tokenized 60,000 samples.\n",
      "  Tokenized 70,000 samples.\n",
      "  Tokenized 80,000 samples.\n",
      "  Tokenized 90,000 samples.\n",
      "  Tokenized 100,000 samples.\n",
      "  Tokenized 110,000 samples.\n",
      "DONE.\n",
      "   119,678 samples\n",
      "\n",
      "   119,678 samples after sorting\n",
      "\n",
      "Creating batches of size 10...\n",
      "  Selected 10,000 batches.\n",
      "\n",
      "  DONE - Selected 11,968 batches.\n",
      "\n",
      "Padding out sequences within each batch...\n",
      "  DONE.\n",
      "Training on 11,968 batches...\n",
      "  Batch   1,000  of   11,968.    Elapsed: 0:03:13.  Remaining: 0:35:16\n",
      "  Batch   2,000  of   11,968.    Elapsed: 0:06:43.  Remaining: 0:33:27\n",
      "  Batch   3,000  of   11,968.    Elapsed: 0:10:16.  Remaining: 0:30:42\n",
      "  Batch   4,000  of   11,968.    Elapsed: 0:13:38.  Remaining: 0:27:09\n",
      "  Batch   5,000  of   11,968.    Elapsed: 0:17:03.  Remaining: 0:23:45\n",
      "  Batch   6,000  of   11,968.    Elapsed: 0:20:39.  Remaining: 0:20:32\n",
      "  Batch   7,000  of   11,968.    Elapsed: 0:24:03.  Remaining: 0:17:04\n",
      "  Batch   8,000  of   11,968.    Elapsed: 0:27:39.  Remaining: 0:13:43\n",
      "  Batch   9,000  of   11,968.    Elapsed: 0:31:03.  Remaining: 0:10:14\n",
      "  Batch  10,000  of   11,968.    Elapsed: 0:34:44.  Remaining: 0:06:50\n",
      "  Batch  11,000  of   11,968.    Elapsed: 0:38:16.  Remaining: 0:03:22\n",
      "\n",
      "  Average training loss: 0.22\n",
      "  Training epcoh took: 0:41:45\n",
      "\n",
      "Training complete!\n",
      "Total training took 2:10:20 (h:mm:ss)\n"
     ]
    }
   ],
   "source": [
    "seed_val = 321\n",
    "\n",
    "random.seed(seed_val)\n",
    "np.random.seed(seed_val)\n",
    "torch.manual_seed(seed_val)\n",
    "torch.cuda.manual_seed_all(seed_val)\n",
    "\n",
    "# We'll store a number of quantities such as training and validation loss, \n",
    "# validation accuracy, and timings.\n",
    "training_stats = []\n",
    "\n",
    "# Update every `update_interval` batches.\n",
    "update_interval = good_update_interval(total_iters=len(py_inputs), num_desired_updates=10)\n",
    "\n",
    "# Measure the total training time for the whole run.\n",
    "total_t0 = time.time()\n",
    "\n",
    "# For each epoch...\n",
    "for epoch_i in range(0, epochs):\n",
    "    \n",
    "    # ========================================\n",
    "    #               Training\n",
    "    # ========================================\n",
    "    \n",
    "    # Perform one full pass over the training set.\n",
    "\n",
    "    print(\"\")\n",
    "    print('======== Epoch {:} / {:} ========'.format(epoch_i + 1, epochs))\n",
    "    \n",
    "    # At the start of each epoch (except for the first) we need to re-randomize\n",
    "    # our training data.\n",
    "    if epoch_i > 0:\n",
    "        # Use our `make_smart_batches` function (from 6.1.) to re-shuffle the \n",
    "        # dataset into new batches.\n",
    "        (py_inputs, py_attn_masks, py_labels) = make_smart_batches(text_train, labels_train, 10)\n",
    "    \n",
    "    print('Training on {:,} batches...'.format(len(py_inputs)))\n",
    "\n",
    "    # Measure how long the training epoch takes.\n",
    "    t0 = time.time()\n",
    "\n",
    "    # Reset the total loss for this epoch.\n",
    "    total_train_loss = 0\n",
    "\n",
    "    # Put the model into training mode. Don't be mislead--the call to \n",
    "    # `train` just changes the *mode*, it doesn't *perform* the training.\n",
    "    # `dropout` and `batchnorm` layers behave differently during training\n",
    "    # vs. test (source: https://stackoverflow.com/questions/51433378/what-does-model-train-do-in-pytorch)\n",
    "    model.train()\n",
    "\n",
    "    # For each batch of training data...\n",
    "    for step in range(0, len(py_inputs)):\n",
    "\n",
    "        # Progress update every, e.g., 100 batches.\n",
    "        if step % update_interval == 0 and not step == 0:\n",
    "            # Calculate elapsed time in minutes.\n",
    "            elapsed = format_time(time.time() - t0)\n",
    "            \n",
    "            # Calculate the time remaining based on our progress.\n",
    "            steps_per_sec = (time.time() - t0) / step\n",
    "            remaining_sec = steps_per_sec * (len(py_inputs) - step)\n",
    "            remaining = format_time(remaining_sec)\n",
    "\n",
    "            # Report progress.\n",
    "            print('  Batch {:>7,}  of  {:>7,}.    Elapsed: {:}.  Remaining: {:}'.format(step, len(py_inputs), elapsed, remaining))\n",
    "\n",
    "        # Copy the current training batch to the GPU using the `to` method.\n",
    "        b_input_ids = py_inputs[step].to(device)\n",
    "        b_input_mask = py_attn_masks[step].to(device)\n",
    "        b_labels = py_labels[step].to(device)\n",
    "\n",
    "        # Always clear any previously calculated gradients before performing a\n",
    "        # backward pass.\n",
    "        model.zero_grad()        \n",
    "\n",
    "        # Perform a forward pass (evaluate the model on this training batch).\n",
    "        # The call returns the loss (because we provided labels) and the \n",
    "        # \"logits\"--the model outputs prior to activation.\n",
    "        loss, logits = model(b_input_ids, \n",
    "                             token_type_ids=None, \n",
    "                             attention_mask=b_input_mask, \n",
    "                             labels=b_labels)\n",
    "\n",
    "        # Accumulate the training loss over all of the batches so that we can\n",
    "        # calculate the average loss at the end. `loss` is a Tensor containing a\n",
    "        # single value; the `.item()` function just returns the Python value \n",
    "        # from the tensor.\n",
    "        total_train_loss += loss.item()\n",
    "\n",
    "        # Perform a backward pass to calculate the gradients.\n",
    "        loss.backward()\n",
    "\n",
    "        # Clip the norm of the gradients to 1.0.\n",
    "        # This is to help prevent the \"exploding gradients\" problem.\n",
    "        torch.nn.utils.clip_grad_norm_(model.parameters(), 1.0)\n",
    "\n",
    "        # Update parameters and take a step using the computed gradient.\n",
    "        # The optimizer dictates the \"update rule\"--how the parameters are\n",
    "        # modified based on their gradients, the learning rate, etc.\n",
    "        optimizer.step()\n",
    "\n",
    "        # Update the learning rate.\n",
    "        scheduler.step()\n",
    "\n",
    "    # Calculate the average loss over all of the batches.\n",
    "    avg_train_loss = total_train_loss / len(py_inputs)            \n",
    "    \n",
    "    # Measure how long this epoch took.\n",
    "    training_time = format_time(time.time() - t0)\n",
    "\n",
    "    print(\"\")\n",
    "    print(\"  Average training loss: {0:.2f}\".format(avg_train_loss))\n",
    "    print(\"  Training epcoh took: {:}\".format(training_time))\n",
    "        \n",
    "    # Record all statistics from this epoch.\n",
    "    training_stats.append(\n",
    "        {\n",
    "            'epoch': epoch_i + 1,\n",
    "            'Training Loss': avg_train_loss,\n",
    "            'Training Time': training_time,\n",
    "        }\n",
    "    )\n",
    "\n",
    "print(\"\")\n",
    "print(\"Training complete!\")\n",
    "\n",
    "print(\"Total training took {:} (h:mm:ss)\".format(format_time(time.time()-total_t0)))"
   ]
  },
  {
   "cell_type": "markdown",
   "metadata": {
    "id": "f8LDfAC8vHYu"
   },
   "source": [
    "## Проверка на тестовой выборке"
   ]
  },
  {
   "cell_type": "code",
   "execution_count": null,
   "metadata": {
    "colab": {
     "base_uri": "https://localhost:8080/",
     "height": 204
    },
    "id": "rTGIED_gvF6H",
    "outputId": "52827f7e-c109-4bd5-89ec-8ecd61f796ce"
   },
   "outputs": [
    {
     "name": "stdout",
     "output_type": "stream",
     "text": [
      "Predicting labels for 3,990 test sentences...\n",
      "  Batch     400  of    3,990.    Elapsed: 0:00:22.  Remaining: 0:03:21\n",
      "  Batch     800  of    3,990.    Elapsed: 0:00:45.  Remaining: 0:02:58\n",
      "  Batch   1,200  of    3,990.    Elapsed: 0:01:08.  Remaining: 0:02:38\n",
      "  Batch   1,600  of    3,990.    Elapsed: 0:01:31.  Remaining: 0:02:16\n",
      "  Batch   2,000  of    3,990.    Elapsed: 0:01:56.  Remaining: 0:01:56\n",
      "  Batch   2,400  of    3,990.    Elapsed: 0:02:18.  Remaining: 0:01:31\n",
      "  Batch   2,800  of    3,990.    Elapsed: 0:02:41.  Remaining: 0:01:08\n",
      "  Batch   3,200  of    3,990.    Elapsed: 0:03:06.  Remaining: 0:00:46\n",
      "  Batch   3,600  of    3,990.    Elapsed: 0:03:30.  Remaining: 0:00:23\n",
      "    DONE.\n"
     ]
    }
   ],
   "source": [
    "# Prediction on test set\n",
    "\n",
    "print('Predicting labels for {:,} test sentences...'.format(len(py_labels_test)))\n",
    "\n",
    "# Put model in evaluation mode\n",
    "model.eval()\n",
    "\n",
    "# Tracking variables \n",
    "predictions, true_labels = [], []\n",
    "\n",
    "# Choose an interval on which to print progress updates.\n",
    "update_interval = good_update_interval(total_iters=len(py_inputs_test), num_desired_updates=10)\n",
    "\n",
    "# Measure elapsed time.\n",
    "t0 = time.time()\n",
    "\n",
    "# Put model in evaluation mode\n",
    "model.eval()\n",
    "\n",
    "# For each batch of training data...\n",
    "for step in range(0, len(py_inputs_test)):\n",
    "\n",
    "    # Progress update every 100 batches.\n",
    "    if step % update_interval == 0 and not step == 0:\n",
    "        # Calculate elapsed time in minutes.\n",
    "        elapsed = format_time(time.time() - t0)\n",
    "        \n",
    "        # Calculate the time remaining based on our progress.\n",
    "        steps_per_sec = (time.time() - t0) / step\n",
    "        remaining_sec = steps_per_sec * (len(py_inputs_test) - step)\n",
    "        remaining = format_time(remaining_sec)\n",
    "\n",
    "        # Report progress.\n",
    "        print('  Batch {:>7,}  of  {:>7,}.    Elapsed: {:}.  Remaining: {:}'.format(step, len(py_inputs_test), elapsed, remaining))\n",
    "\n",
    "    # Copy the batch to the GPU.\n",
    "    b_input_ids = py_inputs_test[step].to(device)\n",
    "    b_input_mask = py_attn_masks_test[step].to(device)\n",
    "    b_labels = py_labels_test[step].to(device)\n",
    "  \n",
    "    # Telling the model not to compute or store gradients, saving memory and \n",
    "    # speeding up prediction\n",
    "    with torch.no_grad():\n",
    "        # Forward pass, calculate logit predictions\n",
    "        outputs = model(b_input_ids, token_type_ids=None, \n",
    "                        attention_mask=b_input_mask)\n",
    "\n",
    "    logits = outputs[0]\n",
    "\n",
    "    # Move logits and labels to CPU\n",
    "    logits = logits.detach().cpu().numpy()\n",
    "    label_ids = b_labels.to('cpu').numpy()\n",
    "  \n",
    "    # Store predictions and true labels\n",
    "    predictions.append(logits)\n",
    "    true_labels.append(label_ids)\n",
    "\n",
    "print('    DONE.')"
   ]
  },
  {
   "cell_type": "markdown",
   "metadata": {
    "id": "XIJWz0Fd5woL"
   },
   "source": [
    "Склеиваем результаты батчей:"
   ]
  },
  {
   "cell_type": "code",
   "execution_count": null,
   "metadata": {
    "id": "sjdyNsE45zLY"
   },
   "outputs": [],
   "source": [
    "# Combine the results across the batches.\n",
    "predictions = np.concatenate(predictions, axis=0)\n",
    "true_labels = np.concatenate(true_labels, axis=0)\n",
    "\n",
    "# Choose the label with the highest score as our prediction.\n",
    "preds = np.argmax(predictions, axis=1).flatten()"
   ]
  },
  {
   "cell_type": "markdown",
   "metadata": {
    "id": "ec9krCHv41eJ"
   },
   "source": [
    "Результат:"
   ]
  },
  {
   "cell_type": "code",
   "execution_count": null,
   "metadata": {
    "colab": {
     "base_uri": "https://localhost:8080/",
     "height": 34
    },
    "id": "6KvRrQIY40J8",
    "outputId": "9859f209-63c8-4653-9e76-03148a4089c4"
   },
   "outputs": [
    {
     "data": {
      "text/plain": [
       "0.7714521452145214"
      ]
     },
     "execution_count": 23,
     "metadata": {
      "tags": []
     },
     "output_type": "execute_result"
    }
   ],
   "source": [
    "f1_score(true_labels, preds)"
   ]
  },
  {
   "cell_type": "markdown",
   "metadata": {
    "id": "7jTWf8b145E3"
   },
   "source": [
    "Отчет по классам"
   ]
  },
  {
   "cell_type": "code",
   "execution_count": null,
   "metadata": {
    "colab": {
     "base_uri": "https://localhost:8080/",
     "height": 170
    },
    "id": "oqG6ILOs46gC",
    "outputId": "002432d2-95e9-4ee4-cb11-684359f30e62"
   },
   "outputs": [
    {
     "name": "stdout",
     "output_type": "stream",
     "text": [
      "              precision    recall  f1-score   support\n",
      "\n",
      "           0       0.97      0.99      0.98     35806\n",
      "           1       0.88      0.69      0.77      4087\n",
      "\n",
      "    accuracy                           0.96     39893\n",
      "   macro avg       0.92      0.84      0.87     39893\n",
      "weighted avg       0.96      0.96      0.96     39893\n",
      "\n"
     ]
    }
   ],
   "source": [
    "print(classification_report(true_labels, preds))"
   ]
  },
  {
   "cell_type": "code",
   "execution_count": null,
   "metadata": {
    "colab": {
     "base_uri": "https://localhost:8080/",
     "height": 51
    },
    "id": "RNP-AV7l49ow",
    "outputId": "d7deecfd-5d1b-4440-92e8-f0101dae460d"
   },
   "outputs": [
    {
     "name": "stdout",
     "output_type": "stream",
     "text": [
      "[[35426   380]\n",
      " [ 1282  2805]]\n"
     ]
    }
   ],
   "source": [
    "print(confusion_matrix(true_labels, preds))"
   ]
  }
 ],
 "metadata": {
  "accelerator": "GPU",
  "colab": {
   "collapsed_sections": [
    "D2NRUmQYTmvy"
   ],
   "name": "texts v2.ipynb",
   "provenance": []
  },
  "kernelspec": {
   "display_name": "Python 3",
   "language": "python",
   "name": "python3"
  },
  "language_info": {
   "codemirror_mode": {
    "name": "ipython",
    "version": 3
   },
   "file_extension": ".py",
   "mimetype": "text/x-python",
   "name": "python",
   "nbconvert_exporter": "python",
   "pygments_lexer": "ipython3",
   "version": "3.7.9"
  }
 },
 "nbformat": 4,
 "nbformat_minor": 1
}
