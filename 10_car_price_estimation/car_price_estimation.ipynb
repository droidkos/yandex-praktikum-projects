{
 "cells": [
  {
   "cell_type": "markdown",
   "metadata": {},
   "source": [
    "Сервис по продаже автомобилей с пробегом «Не бит, не крашен» разрабатывает приложение для привлечения новых клиентов. В нём можно быстро узнать рыночную стоимость своего автомобиля. В нашем распоряжении исторические данные: технические характеристики, комплектации и цены автомобилей. Нужно построить модель для определения стоимости. \n",
    "\n",
    "Заказчику важны:\n",
    "\n",
    "- качество предсказания;\n",
    "- скорость предсказания;\n",
    "- время обучения."
   ]
  },
  {
   "cell_type": "markdown",
   "metadata": {},
   "source": [
    "### Описание данных\n",
    "\n",
    "**Признаки**\n",
    "- DateCrawled — дата скачивания анкеты из базы\n",
    "- VehicleType — тип автомобильного кузова\n",
    "- RegistrationYear — год регистрации автомобиля\n",
    "- Gearbox — тип коробки передач\n",
    "- Power — мощность (л. с.)\n",
    "- Model — модель автомобиля\n",
    "- Kilometer — пробег (км)\n",
    "- RegistrationMonth — месяц регистрации автомобиля\n",
    "- FuelType — тип топлива\n",
    "- Brand — марка автомобиля\n",
    "- NotRepaired — была машина в ремонте или нет\n",
    "- DateCreated — дата создания анкеты\n",
    "- NumberOfPictures — количество фотографий автомобиля\n",
    "- PostalCode — почтовый индекс владельца анкеты (пользователя)\n",
    "- LastSeen — дата последней активности пользователя\n",
    "\n",
    "**Целевой признак**\n",
    "- Price — цена (евро)"
   ]
  },
  {
   "cell_type": "markdown",
   "metadata": {},
   "source": [
    "# 1. Подготовка данных"
   ]
  },
  {
   "cell_type": "code",
   "execution_count": 1,
   "metadata": {},
   "outputs": [],
   "source": [
    "import pandas as pd\n",
    "import numpy as np\n",
    "import seaborn as sns\n",
    "import lightgbm as lgb\n",
    "import matplotlib.pyplot as plt\n",
    "from IPython.display import clear_output\n",
    "from sklearn.preprocessing import OrdinalEncoder\n",
    "from sklearn.impute import SimpleImputer\n",
    "from sklearn.model_selection import train_test_split, GridSearchCV, cross_val_score\n",
    "from sklearn.linear_model import LinearRegression\n",
    "from sklearn.ensemble import RandomForestRegressor\n",
    "import datetime\n",
    "from catboost import CatBoostRegressor\n",
    "from catboost.utils import eval_metric\n",
    "from sklearn.dummy import DummyRegressor\n",
    "import xgboost as xgb"
   ]
  },
  {
   "cell_type": "code",
   "execution_count": 2,
   "metadata": {},
   "outputs": [],
   "source": [
    "autos = pd.read_csv('datasets/autos.csv')"
   ]
  },
  {
   "cell_type": "code",
   "execution_count": 3,
   "metadata": {},
   "outputs": [
    {
     "name": "stdout",
     "output_type": "stream",
     "text": [
      "<class 'pandas.core.frame.DataFrame'>\n",
      "RangeIndex: 354369 entries, 0 to 354368\n",
      "Data columns (total 16 columns):\n",
      " #   Column             Non-Null Count   Dtype \n",
      "---  ------             --------------   ----- \n",
      " 0   DateCrawled        354369 non-null  object\n",
      " 1   Price              354369 non-null  int64 \n",
      " 2   VehicleType        316879 non-null  object\n",
      " 3   RegistrationYear   354369 non-null  int64 \n",
      " 4   Gearbox            334536 non-null  object\n",
      " 5   Power              354369 non-null  int64 \n",
      " 6   Model              334664 non-null  object\n",
      " 7   Kilometer          354369 non-null  int64 \n",
      " 8   RegistrationMonth  354369 non-null  int64 \n",
      " 9   FuelType           321474 non-null  object\n",
      " 10  Brand              354369 non-null  object\n",
      " 11  NotRepaired        283215 non-null  object\n",
      " 12  DateCreated        354369 non-null  object\n",
      " 13  NumberOfPictures   354369 non-null  int64 \n",
      " 14  PostalCode         354369 non-null  int64 \n",
      " 15  LastSeen           354369 non-null  object\n",
      "dtypes: int64(7), object(9)\n",
      "memory usage: 43.3+ MB\n"
     ]
    }
   ],
   "source": [
    "autos.info()"
   ]
  },
  {
   "cell_type": "code",
   "execution_count": 4,
   "metadata": {},
   "outputs": [
    {
     "data": {
      "text/html": [
       "<div>\n",
       "<style scoped>\n",
       "    .dataframe tbody tr th:only-of-type {\n",
       "        vertical-align: middle;\n",
       "    }\n",
       "\n",
       "    .dataframe tbody tr th {\n",
       "        vertical-align: top;\n",
       "    }\n",
       "\n",
       "    .dataframe thead th {\n",
       "        text-align: right;\n",
       "    }\n",
       "</style>\n",
       "<table border=\"1\" class=\"dataframe\">\n",
       "  <thead>\n",
       "    <tr style=\"text-align: right;\">\n",
       "      <th></th>\n",
       "      <th>DateCrawled</th>\n",
       "      <th>Price</th>\n",
       "      <th>VehicleType</th>\n",
       "      <th>RegistrationYear</th>\n",
       "      <th>Gearbox</th>\n",
       "      <th>Power</th>\n",
       "      <th>Model</th>\n",
       "      <th>Kilometer</th>\n",
       "      <th>RegistrationMonth</th>\n",
       "      <th>FuelType</th>\n",
       "      <th>Brand</th>\n",
       "      <th>NotRepaired</th>\n",
       "      <th>DateCreated</th>\n",
       "      <th>NumberOfPictures</th>\n",
       "      <th>PostalCode</th>\n",
       "      <th>LastSeen</th>\n",
       "    </tr>\n",
       "  </thead>\n",
       "  <tbody>\n",
       "    <tr>\n",
       "      <th>0</th>\n",
       "      <td>2016-03-24 11:52:17</td>\n",
       "      <td>480</td>\n",
       "      <td>NaN</td>\n",
       "      <td>1993</td>\n",
       "      <td>manual</td>\n",
       "      <td>0</td>\n",
       "      <td>golf</td>\n",
       "      <td>150000</td>\n",
       "      <td>0</td>\n",
       "      <td>petrol</td>\n",
       "      <td>volkswagen</td>\n",
       "      <td>NaN</td>\n",
       "      <td>2016-03-24 00:00:00</td>\n",
       "      <td>0</td>\n",
       "      <td>70435</td>\n",
       "      <td>2016-04-07 03:16:57</td>\n",
       "    </tr>\n",
       "    <tr>\n",
       "      <th>1</th>\n",
       "      <td>2016-03-24 10:58:45</td>\n",
       "      <td>18300</td>\n",
       "      <td>coupe</td>\n",
       "      <td>2011</td>\n",
       "      <td>manual</td>\n",
       "      <td>190</td>\n",
       "      <td>NaN</td>\n",
       "      <td>125000</td>\n",
       "      <td>5</td>\n",
       "      <td>gasoline</td>\n",
       "      <td>audi</td>\n",
       "      <td>yes</td>\n",
       "      <td>2016-03-24 00:00:00</td>\n",
       "      <td>0</td>\n",
       "      <td>66954</td>\n",
       "      <td>2016-04-07 01:46:50</td>\n",
       "    </tr>\n",
       "    <tr>\n",
       "      <th>2</th>\n",
       "      <td>2016-03-14 12:52:21</td>\n",
       "      <td>9800</td>\n",
       "      <td>suv</td>\n",
       "      <td>2004</td>\n",
       "      <td>auto</td>\n",
       "      <td>163</td>\n",
       "      <td>grand</td>\n",
       "      <td>125000</td>\n",
       "      <td>8</td>\n",
       "      <td>gasoline</td>\n",
       "      <td>jeep</td>\n",
       "      <td>NaN</td>\n",
       "      <td>2016-03-14 00:00:00</td>\n",
       "      <td>0</td>\n",
       "      <td>90480</td>\n",
       "      <td>2016-04-05 12:47:46</td>\n",
       "    </tr>\n",
       "    <tr>\n",
       "      <th>3</th>\n",
       "      <td>2016-03-17 16:54:04</td>\n",
       "      <td>1500</td>\n",
       "      <td>small</td>\n",
       "      <td>2001</td>\n",
       "      <td>manual</td>\n",
       "      <td>75</td>\n",
       "      <td>golf</td>\n",
       "      <td>150000</td>\n",
       "      <td>6</td>\n",
       "      <td>petrol</td>\n",
       "      <td>volkswagen</td>\n",
       "      <td>no</td>\n",
       "      <td>2016-03-17 00:00:00</td>\n",
       "      <td>0</td>\n",
       "      <td>91074</td>\n",
       "      <td>2016-03-17 17:40:17</td>\n",
       "    </tr>\n",
       "    <tr>\n",
       "      <th>4</th>\n",
       "      <td>2016-03-31 17:25:20</td>\n",
       "      <td>3600</td>\n",
       "      <td>small</td>\n",
       "      <td>2008</td>\n",
       "      <td>manual</td>\n",
       "      <td>69</td>\n",
       "      <td>fabia</td>\n",
       "      <td>90000</td>\n",
       "      <td>7</td>\n",
       "      <td>gasoline</td>\n",
       "      <td>skoda</td>\n",
       "      <td>no</td>\n",
       "      <td>2016-03-31 00:00:00</td>\n",
       "      <td>0</td>\n",
       "      <td>60437</td>\n",
       "      <td>2016-04-06 10:17:21</td>\n",
       "    </tr>\n",
       "    <tr>\n",
       "      <th>5</th>\n",
       "      <td>2016-04-04 17:36:23</td>\n",
       "      <td>650</td>\n",
       "      <td>sedan</td>\n",
       "      <td>1995</td>\n",
       "      <td>manual</td>\n",
       "      <td>102</td>\n",
       "      <td>3er</td>\n",
       "      <td>150000</td>\n",
       "      <td>10</td>\n",
       "      <td>petrol</td>\n",
       "      <td>bmw</td>\n",
       "      <td>yes</td>\n",
       "      <td>2016-04-04 00:00:00</td>\n",
       "      <td>0</td>\n",
       "      <td>33775</td>\n",
       "      <td>2016-04-06 19:17:07</td>\n",
       "    </tr>\n",
       "    <tr>\n",
       "      <th>6</th>\n",
       "      <td>2016-04-01 20:48:51</td>\n",
       "      <td>2200</td>\n",
       "      <td>convertible</td>\n",
       "      <td>2004</td>\n",
       "      <td>manual</td>\n",
       "      <td>109</td>\n",
       "      <td>2_reihe</td>\n",
       "      <td>150000</td>\n",
       "      <td>8</td>\n",
       "      <td>petrol</td>\n",
       "      <td>peugeot</td>\n",
       "      <td>no</td>\n",
       "      <td>2016-04-01 00:00:00</td>\n",
       "      <td>0</td>\n",
       "      <td>67112</td>\n",
       "      <td>2016-04-05 18:18:39</td>\n",
       "    </tr>\n",
       "    <tr>\n",
       "      <th>7</th>\n",
       "      <td>2016-03-21 18:54:38</td>\n",
       "      <td>0</td>\n",
       "      <td>sedan</td>\n",
       "      <td>1980</td>\n",
       "      <td>manual</td>\n",
       "      <td>50</td>\n",
       "      <td>other</td>\n",
       "      <td>40000</td>\n",
       "      <td>7</td>\n",
       "      <td>petrol</td>\n",
       "      <td>volkswagen</td>\n",
       "      <td>no</td>\n",
       "      <td>2016-03-21 00:00:00</td>\n",
       "      <td>0</td>\n",
       "      <td>19348</td>\n",
       "      <td>2016-03-25 16:47:58</td>\n",
       "    </tr>\n",
       "    <tr>\n",
       "      <th>8</th>\n",
       "      <td>2016-04-04 23:42:13</td>\n",
       "      <td>14500</td>\n",
       "      <td>bus</td>\n",
       "      <td>2014</td>\n",
       "      <td>manual</td>\n",
       "      <td>125</td>\n",
       "      <td>c_max</td>\n",
       "      <td>30000</td>\n",
       "      <td>8</td>\n",
       "      <td>petrol</td>\n",
       "      <td>ford</td>\n",
       "      <td>NaN</td>\n",
       "      <td>2016-04-04 00:00:00</td>\n",
       "      <td>0</td>\n",
       "      <td>94505</td>\n",
       "      <td>2016-04-04 23:42:13</td>\n",
       "    </tr>\n",
       "    <tr>\n",
       "      <th>9</th>\n",
       "      <td>2016-03-17 10:53:50</td>\n",
       "      <td>999</td>\n",
       "      <td>small</td>\n",
       "      <td>1998</td>\n",
       "      <td>manual</td>\n",
       "      <td>101</td>\n",
       "      <td>golf</td>\n",
       "      <td>150000</td>\n",
       "      <td>0</td>\n",
       "      <td>NaN</td>\n",
       "      <td>volkswagen</td>\n",
       "      <td>NaN</td>\n",
       "      <td>2016-03-17 00:00:00</td>\n",
       "      <td>0</td>\n",
       "      <td>27472</td>\n",
       "      <td>2016-03-31 17:17:06</td>\n",
       "    </tr>\n",
       "  </tbody>\n",
       "</table>\n",
       "</div>"
      ],
      "text/plain": [
       "           DateCrawled  Price  VehicleType  RegistrationYear Gearbox  Power  \\\n",
       "0  2016-03-24 11:52:17    480          NaN              1993  manual      0   \n",
       "1  2016-03-24 10:58:45  18300        coupe              2011  manual    190   \n",
       "2  2016-03-14 12:52:21   9800          suv              2004    auto    163   \n",
       "3  2016-03-17 16:54:04   1500        small              2001  manual     75   \n",
       "4  2016-03-31 17:25:20   3600        small              2008  manual     69   \n",
       "5  2016-04-04 17:36:23    650        sedan              1995  manual    102   \n",
       "6  2016-04-01 20:48:51   2200  convertible              2004  manual    109   \n",
       "7  2016-03-21 18:54:38      0        sedan              1980  manual     50   \n",
       "8  2016-04-04 23:42:13  14500          bus              2014  manual    125   \n",
       "9  2016-03-17 10:53:50    999        small              1998  manual    101   \n",
       "\n",
       "     Model  Kilometer  RegistrationMonth  FuelType       Brand NotRepaired  \\\n",
       "0     golf     150000                  0    petrol  volkswagen         NaN   \n",
       "1      NaN     125000                  5  gasoline        audi         yes   \n",
       "2    grand     125000                  8  gasoline        jeep         NaN   \n",
       "3     golf     150000                  6    petrol  volkswagen          no   \n",
       "4    fabia      90000                  7  gasoline       skoda          no   \n",
       "5      3er     150000                 10    petrol         bmw         yes   \n",
       "6  2_reihe     150000                  8    petrol     peugeot          no   \n",
       "7    other      40000                  7    petrol  volkswagen          no   \n",
       "8    c_max      30000                  8    petrol        ford         NaN   \n",
       "9     golf     150000                  0       NaN  volkswagen         NaN   \n",
       "\n",
       "           DateCreated  NumberOfPictures  PostalCode             LastSeen  \n",
       "0  2016-03-24 00:00:00                 0       70435  2016-04-07 03:16:57  \n",
       "1  2016-03-24 00:00:00                 0       66954  2016-04-07 01:46:50  \n",
       "2  2016-03-14 00:00:00                 0       90480  2016-04-05 12:47:46  \n",
       "3  2016-03-17 00:00:00                 0       91074  2016-03-17 17:40:17  \n",
       "4  2016-03-31 00:00:00                 0       60437  2016-04-06 10:17:21  \n",
       "5  2016-04-04 00:00:00                 0       33775  2016-04-06 19:17:07  \n",
       "6  2016-04-01 00:00:00                 0       67112  2016-04-05 18:18:39  \n",
       "7  2016-03-21 00:00:00                 0       19348  2016-03-25 16:47:58  \n",
       "8  2016-04-04 00:00:00                 0       94505  2016-04-04 23:42:13  \n",
       "9  2016-03-17 00:00:00                 0       27472  2016-03-31 17:17:06  "
      ]
     },
     "execution_count": 4,
     "metadata": {},
     "output_type": "execute_result"
    }
   ],
   "source": [
    "autos.head(10)"
   ]
  },
  {
   "cell_type": "markdown",
   "metadata": {},
   "source": [
    "В части данных есть пропуски. Обобщим информацию о них:"
   ]
  },
  {
   "cell_type": "code",
   "execution_count": 5,
   "metadata": {},
   "outputs": [
    {
     "data": {
      "text/plain": [
       "DateCrawled              0\n",
       "Price                    0\n",
       "VehicleType          37490\n",
       "RegistrationYear         0\n",
       "Gearbox              19833\n",
       "Power                    0\n",
       "Model                19705\n",
       "Kilometer                0\n",
       "RegistrationMonth        0\n",
       "FuelType             32895\n",
       "Brand                    0\n",
       "NotRepaired          71154\n",
       "DateCreated              0\n",
       "NumberOfPictures         0\n",
       "PostalCode               0\n",
       "LastSeen                 0\n",
       "dtype: int64"
      ]
     },
     "execution_count": 5,
     "metadata": {},
     "output_type": "execute_result"
    }
   ],
   "source": [
    "autos.isnull().sum()"
   ]
  },
  {
   "cell_type": "markdown",
   "metadata": {},
   "source": [
    "Здесь стоит отметить, что пропуски носят разный характер. Так, в столбце NotRepaired не можем заполнить их каким-либо образом, так как пропуски носят неслучайный характер - признак \"была в ремонте\" индивидуален для каждой конкретной машины, а признак критичный - придется отбросить пропуски. В то же время как такие колонки, как VehicleType, Gearbox и FuelType могут быть заполнены значениями, взятыми из записей об автомобилей той же модели с похожими характеристиками. Для этого можно попробовать KNN Imputer. \n",
    "\n",
    "По столбцу \"Модель\" данные тоже лучше отбросить, могут быть машины с похожим пробегом и годом выпуска, тут лучше не угадывать"
   ]
  },
  {
   "cell_type": "code",
   "execution_count": 6,
   "metadata": {},
   "outputs": [],
   "source": [
    "autos.dropna(subset=['NotRepaired', 'Model'], inplace=True)"
   ]
  },
  {
   "cell_type": "code",
   "execution_count": 7,
   "metadata": {},
   "outputs": [
    {
     "data": {
      "text/html": [
       "<div>\n",
       "<style scoped>\n",
       "    .dataframe tbody tr th:only-of-type {\n",
       "        vertical-align: middle;\n",
       "    }\n",
       "\n",
       "    .dataframe tbody tr th {\n",
       "        vertical-align: top;\n",
       "    }\n",
       "\n",
       "    .dataframe thead th {\n",
       "        text-align: right;\n",
       "    }\n",
       "</style>\n",
       "<table border=\"1\" class=\"dataframe\">\n",
       "  <thead>\n",
       "    <tr style=\"text-align: right;\">\n",
       "      <th></th>\n",
       "      <th>Price</th>\n",
       "      <th>RegistrationYear</th>\n",
       "      <th>Power</th>\n",
       "      <th>Kilometer</th>\n",
       "      <th>RegistrationMonth</th>\n",
       "      <th>NumberOfPictures</th>\n",
       "      <th>PostalCode</th>\n",
       "    </tr>\n",
       "  </thead>\n",
       "  <tbody>\n",
       "    <tr>\n",
       "      <th>count</th>\n",
       "      <td>272564.000000</td>\n",
       "      <td>272564.000000</td>\n",
       "      <td>272564.000000</td>\n",
       "      <td>272564.000000</td>\n",
       "      <td>272564.000000</td>\n",
       "      <td>272564.0</td>\n",
       "      <td>272564.000000</td>\n",
       "    </tr>\n",
       "    <tr>\n",
       "      <th>mean</th>\n",
       "      <td>4914.249703</td>\n",
       "      <td>2003.547640</td>\n",
       "      <td>116.698995</td>\n",
       "      <td>127726.552296</td>\n",
       "      <td>6.072629</td>\n",
       "      <td>0.0</td>\n",
       "      <td>51148.739749</td>\n",
       "    </tr>\n",
       "    <tr>\n",
       "      <th>std</th>\n",
       "      <td>4658.004959</td>\n",
       "      <td>30.934818</td>\n",
       "      <td>161.194646</td>\n",
       "      <td>37015.341073</td>\n",
       "      <td>3.546299</td>\n",
       "      <td>0.0</td>\n",
       "      <td>25845.458707</td>\n",
       "    </tr>\n",
       "    <tr>\n",
       "      <th>min</th>\n",
       "      <td>0.000000</td>\n",
       "      <td>1600.000000</td>\n",
       "      <td>0.000000</td>\n",
       "      <td>5000.000000</td>\n",
       "      <td>0.000000</td>\n",
       "      <td>0.0</td>\n",
       "      <td>1067.000000</td>\n",
       "    </tr>\n",
       "    <tr>\n",
       "      <th>25%</th>\n",
       "      <td>1350.000000</td>\n",
       "      <td>1999.000000</td>\n",
       "      <td>75.000000</td>\n",
       "      <td>125000.000000</td>\n",
       "      <td>3.000000</td>\n",
       "      <td>0.0</td>\n",
       "      <td>30826.000000</td>\n",
       "    </tr>\n",
       "    <tr>\n",
       "      <th>50%</th>\n",
       "      <td>3250.000000</td>\n",
       "      <td>2004.000000</td>\n",
       "      <td>109.000000</td>\n",
       "      <td>150000.000000</td>\n",
       "      <td>6.000000</td>\n",
       "      <td>0.0</td>\n",
       "      <td>50226.000000</td>\n",
       "    </tr>\n",
       "    <tr>\n",
       "      <th>75%</th>\n",
       "      <td>7000.000000</td>\n",
       "      <td>2008.000000</td>\n",
       "      <td>147.000000</td>\n",
       "      <td>150000.000000</td>\n",
       "      <td>9.000000</td>\n",
       "      <td>0.0</td>\n",
       "      <td>72108.000000</td>\n",
       "    </tr>\n",
       "    <tr>\n",
       "      <th>max</th>\n",
       "      <td>20000.000000</td>\n",
       "      <td>9999.000000</td>\n",
       "      <td>20000.000000</td>\n",
       "      <td>150000.000000</td>\n",
       "      <td>12.000000</td>\n",
       "      <td>0.0</td>\n",
       "      <td>99998.000000</td>\n",
       "    </tr>\n",
       "  </tbody>\n",
       "</table>\n",
       "</div>"
      ],
      "text/plain": [
       "               Price  RegistrationYear          Power      Kilometer  \\\n",
       "count  272564.000000     272564.000000  272564.000000  272564.000000   \n",
       "mean     4914.249703       2003.547640     116.698995  127726.552296   \n",
       "std      4658.004959         30.934818     161.194646   37015.341073   \n",
       "min         0.000000       1600.000000       0.000000    5000.000000   \n",
       "25%      1350.000000       1999.000000      75.000000  125000.000000   \n",
       "50%      3250.000000       2004.000000     109.000000  150000.000000   \n",
       "75%      7000.000000       2008.000000     147.000000  150000.000000   \n",
       "max     20000.000000       9999.000000   20000.000000  150000.000000   \n",
       "\n",
       "       RegistrationMonth  NumberOfPictures     PostalCode  \n",
       "count      272564.000000          272564.0  272564.000000  \n",
       "mean            6.072629               0.0   51148.739749  \n",
       "std             3.546299               0.0   25845.458707  \n",
       "min             0.000000               0.0    1067.000000  \n",
       "25%             3.000000               0.0   30826.000000  \n",
       "50%             6.000000               0.0   50226.000000  \n",
       "75%             9.000000               0.0   72108.000000  \n",
       "max            12.000000               0.0   99998.000000  "
      ]
     },
     "execution_count": 7,
     "metadata": {},
     "output_type": "execute_result"
    }
   ],
   "source": [
    "autos.describe()"
   ]
  },
  {
   "cell_type": "markdown",
   "metadata": {},
   "source": [
    "- Минимальная цена 0 - странно.\n",
    "- Минимальный год регистрации - 1000, такого точно быть не может. \n",
    "- Минимальная мощность 0 - машина не на ходу или просто ошибка? Скорее второе.\n",
    "- Минимальный месяц регистрации 0 - можно предположить, что считают с 0 до 11, но максимальный месяц 12 - скорее нет. Данный признак вообще вряд ли важен для обучения - отбросим. \n",
    "- Количество фотографий - ноль вообще везде. Отбрасываем.\n",
    "- Почтовый код - однозначно отбрасываем.\n",
    "- DateCrawled - отбрасываем, признак связан с объявлением, а не с автомобилем\n",
    "- LastSeen - отбрасываем по той же причине"
   ]
  },
  {
   "cell_type": "code",
   "execution_count": 8,
   "metadata": {},
   "outputs": [
    {
     "data": {
      "text/html": [
       "<div>\n",
       "<style scoped>\n",
       "    .dataframe tbody tr th:only-of-type {\n",
       "        vertical-align: middle;\n",
       "    }\n",
       "\n",
       "    .dataframe tbody tr th {\n",
       "        vertical-align: top;\n",
       "    }\n",
       "\n",
       "    .dataframe thead th {\n",
       "        text-align: right;\n",
       "    }\n",
       "</style>\n",
       "<table border=\"1\" class=\"dataframe\">\n",
       "  <thead>\n",
       "    <tr style=\"text-align: right;\">\n",
       "      <th></th>\n",
       "      <th>DateCrawled</th>\n",
       "      <th>Price</th>\n",
       "      <th>VehicleType</th>\n",
       "      <th>RegistrationYear</th>\n",
       "      <th>Gearbox</th>\n",
       "      <th>Power</th>\n",
       "      <th>Model</th>\n",
       "      <th>Kilometer</th>\n",
       "      <th>RegistrationMonth</th>\n",
       "      <th>FuelType</th>\n",
       "      <th>Brand</th>\n",
       "      <th>NotRepaired</th>\n",
       "      <th>DateCreated</th>\n",
       "      <th>NumberOfPictures</th>\n",
       "      <th>PostalCode</th>\n",
       "      <th>LastSeen</th>\n",
       "    </tr>\n",
       "  </thead>\n",
       "  <tbody>\n",
       "    <tr>\n",
       "      <th>3</th>\n",
       "      <td>2016-03-17 16:54:04</td>\n",
       "      <td>1500</td>\n",
       "      <td>small</td>\n",
       "      <td>2001</td>\n",
       "      <td>manual</td>\n",
       "      <td>75</td>\n",
       "      <td>golf</td>\n",
       "      <td>150000</td>\n",
       "      <td>6</td>\n",
       "      <td>petrol</td>\n",
       "      <td>volkswagen</td>\n",
       "      <td>no</td>\n",
       "      <td>2016-03-17 00:00:00</td>\n",
       "      <td>0</td>\n",
       "      <td>91074</td>\n",
       "      <td>2016-03-17 17:40:17</td>\n",
       "    </tr>\n",
       "    <tr>\n",
       "      <th>4</th>\n",
       "      <td>2016-03-31 17:25:20</td>\n",
       "      <td>3600</td>\n",
       "      <td>small</td>\n",
       "      <td>2008</td>\n",
       "      <td>manual</td>\n",
       "      <td>69</td>\n",
       "      <td>fabia</td>\n",
       "      <td>90000</td>\n",
       "      <td>7</td>\n",
       "      <td>gasoline</td>\n",
       "      <td>skoda</td>\n",
       "      <td>no</td>\n",
       "      <td>2016-03-31 00:00:00</td>\n",
       "      <td>0</td>\n",
       "      <td>60437</td>\n",
       "      <td>2016-04-06 10:17:21</td>\n",
       "    </tr>\n",
       "    <tr>\n",
       "      <th>5</th>\n",
       "      <td>2016-04-04 17:36:23</td>\n",
       "      <td>650</td>\n",
       "      <td>sedan</td>\n",
       "      <td>1995</td>\n",
       "      <td>manual</td>\n",
       "      <td>102</td>\n",
       "      <td>3er</td>\n",
       "      <td>150000</td>\n",
       "      <td>10</td>\n",
       "      <td>petrol</td>\n",
       "      <td>bmw</td>\n",
       "      <td>yes</td>\n",
       "      <td>2016-04-04 00:00:00</td>\n",
       "      <td>0</td>\n",
       "      <td>33775</td>\n",
       "      <td>2016-04-06 19:17:07</td>\n",
       "    </tr>\n",
       "    <tr>\n",
       "      <th>6</th>\n",
       "      <td>2016-04-01 20:48:51</td>\n",
       "      <td>2200</td>\n",
       "      <td>convertible</td>\n",
       "      <td>2004</td>\n",
       "      <td>manual</td>\n",
       "      <td>109</td>\n",
       "      <td>2_reihe</td>\n",
       "      <td>150000</td>\n",
       "      <td>8</td>\n",
       "      <td>petrol</td>\n",
       "      <td>peugeot</td>\n",
       "      <td>no</td>\n",
       "      <td>2016-04-01 00:00:00</td>\n",
       "      <td>0</td>\n",
       "      <td>67112</td>\n",
       "      <td>2016-04-05 18:18:39</td>\n",
       "    </tr>\n",
       "    <tr>\n",
       "      <th>7</th>\n",
       "      <td>2016-03-21 18:54:38</td>\n",
       "      <td>0</td>\n",
       "      <td>sedan</td>\n",
       "      <td>1980</td>\n",
       "      <td>manual</td>\n",
       "      <td>50</td>\n",
       "      <td>other</td>\n",
       "      <td>40000</td>\n",
       "      <td>7</td>\n",
       "      <td>petrol</td>\n",
       "      <td>volkswagen</td>\n",
       "      <td>no</td>\n",
       "      <td>2016-03-21 00:00:00</td>\n",
       "      <td>0</td>\n",
       "      <td>19348</td>\n",
       "      <td>2016-03-25 16:47:58</td>\n",
       "    </tr>\n",
       "  </tbody>\n",
       "</table>\n",
       "</div>"
      ],
      "text/plain": [
       "           DateCrawled  Price  VehicleType  RegistrationYear Gearbox  Power  \\\n",
       "3  2016-03-17 16:54:04   1500        small              2001  manual     75   \n",
       "4  2016-03-31 17:25:20   3600        small              2008  manual     69   \n",
       "5  2016-04-04 17:36:23    650        sedan              1995  manual    102   \n",
       "6  2016-04-01 20:48:51   2200  convertible              2004  manual    109   \n",
       "7  2016-03-21 18:54:38      0        sedan              1980  manual     50   \n",
       "\n",
       "     Model  Kilometer  RegistrationMonth  FuelType       Brand NotRepaired  \\\n",
       "3     golf     150000                  6    petrol  volkswagen          no   \n",
       "4    fabia      90000                  7  gasoline       skoda          no   \n",
       "5      3er     150000                 10    petrol         bmw         yes   \n",
       "6  2_reihe     150000                  8    petrol     peugeot          no   \n",
       "7    other      40000                  7    petrol  volkswagen          no   \n",
       "\n",
       "           DateCreated  NumberOfPictures  PostalCode             LastSeen  \n",
       "3  2016-03-17 00:00:00                 0       91074  2016-03-17 17:40:17  \n",
       "4  2016-03-31 00:00:00                 0       60437  2016-04-06 10:17:21  \n",
       "5  2016-04-04 00:00:00                 0       33775  2016-04-06 19:17:07  \n",
       "6  2016-04-01 00:00:00                 0       67112  2016-04-05 18:18:39  \n",
       "7  2016-03-21 00:00:00                 0       19348  2016-03-25 16:47:58  "
      ]
     },
     "execution_count": 8,
     "metadata": {},
     "output_type": "execute_result"
    }
   ],
   "source": [
    "autos.head()"
   ]
  },
  {
   "cell_type": "markdown",
   "metadata": {},
   "source": [
    "Отбрасываем однозначно бесполезные признаки"
   ]
  },
  {
   "cell_type": "code",
   "execution_count": 9,
   "metadata": {},
   "outputs": [],
   "source": [
    "DateCreated = pd.to_datetime(autos.loc[:, 'DateCreated']) # это пригодится дальше"
   ]
  },
  {
   "cell_type": "code",
   "execution_count": 10,
   "metadata": {},
   "outputs": [],
   "source": [
    "autos.drop(['DateCrawled', 'RegistrationMonth', 'NumberOfPictures', 'PostalCode', 'LastSeen', 'DateCreated'], axis=1, inplace=True)"
   ]
  },
  {
   "cell_type": "markdown",
   "metadata": {},
   "source": [
    "Попробуем заполнить пропуски через KNN Imputer"
   ]
  },
  {
   "cell_type": "code",
   "execution_count": 11,
   "metadata": {},
   "outputs": [],
   "source": [
    "# have_nans = ['VehicleType', 'Gearbox', 'FuelType']"
   ]
  },
  {
   "cell_type": "markdown",
   "metadata": {},
   "source": [
    "В процессе выполнения выяснилось, что KNN не работает с категориальными признаками, и нужно кодирование. В свою очередь, OrdinalEncoder не работает с пропусками. По моему прошлому опыту, заполнение пропусков не оказывает большого влияния на модель, и проще все отбросить. Безусловно, это существенная часть данных, однако мы уже были вынуждены отбросить пропуски в колонке NotRepaired, а в ней было наибольшее количество пропусков.\n",
    "\n",
    "Тем не менее, я решил попробовать KNN по достаточно громоздкой схеме. Итак, первым делом заполняем пропуски выбранным значением"
   ]
  },
  {
   "cell_type": "code",
   "execution_count": 12,
   "metadata": {},
   "outputs": [],
   "source": [
    "# autos.fillna('unknown', inplace=True)"
   ]
  },
  {
   "cell_type": "markdown",
   "metadata": {},
   "source": [
    "Теперь переводим категориальные признаки в числовой формат"
   ]
  },
  {
   "cell_type": "code",
   "execution_count": 13,
   "metadata": {},
   "outputs": [],
   "source": [
    "# encoder = OrdinalEncoder()\n",
    "# autos.loc[:, autos.dtypes == 'object'] = encoder.fit_transform(autos.loc[:, autos.dtypes == 'object'])"
   ]
  },
  {
   "cell_type": "markdown",
   "metadata": {},
   "source": [
    "Теперь можно бы использовать KNN, предварительно заменив unknown обратно на np.nan, но его тоже закодировали, так что применяем такой костыль: смотрим, как именно закодировались признаки, затем вручную меняем числа на пропуски"
   ]
  },
  {
   "cell_type": "code",
   "execution_count": 14,
   "metadata": {},
   "outputs": [],
   "source": [
    "# encoder.categories_"
   ]
  },
  {
   "cell_type": "code",
   "execution_count": 15,
   "metadata": {},
   "outputs": [],
   "source": [
    "# autos.loc[:, 'VehicleType'] = autos.loc[:, 'VehicleType'].replace(7, np.nan)\n",
    "# autos.loc[:, 'Gearbox'] = autos.loc[:, 'Gearbox'].replace(2, np.nan)\n",
    "# autos.loc[:, 'FuelType'] = autos.loc[:, 'FuelType'].replace(7, np.nan)"
   ]
  },
  {
   "cell_type": "markdown",
   "metadata": {},
   "source": [
    "Теперь impute. Он в ходе экспериментов оказался НЕМНОГО лучше (но лучше), чем SimpleImputer (мода или среднее) или выбрасывание вообще всех подряд пропусков"
   ]
  },
  {
   "cell_type": "markdown",
   "metadata": {},
   "source": [
    "**v2** __*Теперь использую преобразование типов вместо предыдущей схемы!*__"
   ]
  },
  {
   "cell_type": "code",
   "execution_count": 16,
   "metadata": {},
   "outputs": [
    {
     "data": {
      "text/plain": [
       "Price                int64\n",
       "VehicleType         object\n",
       "RegistrationYear     int64\n",
       "Gearbox             object\n",
       "Power                int64\n",
       "Model               object\n",
       "Kilometer            int64\n",
       "FuelType            object\n",
       "Brand               object\n",
       "NotRepaired         object\n",
       "dtype: object"
      ]
     },
     "execution_count": 16,
     "metadata": {},
     "output_type": "execute_result"
    }
   ],
   "source": [
    "autos.dtypes"
   ]
  },
  {
   "cell_type": "code",
   "execution_count": 17,
   "metadata": {},
   "outputs": [],
   "source": [
    "autos.fillna('nan', inplace=True)"
   ]
  },
  {
   "cell_type": "code",
   "execution_count": 18,
   "metadata": {},
   "outputs": [],
   "source": [
    "autos_copy = autos.copy() # это для кодировщика ниже.."
   ]
  },
  {
   "cell_type": "code",
   "execution_count": 19,
   "metadata": {},
   "outputs": [],
   "source": [
    "autos.loc[:, ['VehicleType', 'Gearbox', 'Model', 'FuelType', 'Brand']] = \\\n",
    "autos.loc[:, ['VehicleType', 'Gearbox', 'Model', 'FuelType', 'Brand']].astype('category')\n",
    "autos.loc[:, 'NotRepaired'] = autos.loc[:, 'NotRepaired'].astype('bool')"
   ]
  },
  {
   "cell_type": "code",
   "execution_count": 20,
   "metadata": {},
   "outputs": [],
   "source": [
    "# knn = KNNImputer(n_neighbors=4)\n",
    "# knn.fit(autos)"
   ]
  },
  {
   "cell_type": "markdown",
   "metadata": {},
   "source": [
    "Тут столкнулся с проблемой нехватки памяти (винда берется делать, но скорость просто никакая, линукс хочет 64 гига под эту операцию), слишком большая матрица получается, ограничение смог обойти, обрабатывая данные по кускам.\n",
    "\n",
    "В функцию встроил небольшой таймер, показывает, сколько времени примерно осталось"
   ]
  },
  {
   "cell_type": "code",
   "execution_count": 21,
   "metadata": {},
   "outputs": [],
   "source": [
    "# start = datetime.datetime.now()\n",
    "# i = 0\n",
    "# while True: \n",
    "#     if i < autos.shape[0]:\n",
    "#         autos.iloc[i:i+5000, :] = knn.transform(autos.iloc[i:i+5000, :])\n",
    "#         elapsed = (datetime.datetime.now() - start).seconds\n",
    "#         parsed = i + 5000\n",
    "#         clear_output()\n",
    "#         print(f'Осталось {autos.shape[0] - parsed} строк')\n",
    "#         print(f'Ждем еще около {(autos.shape[0] - parsed) // (parsed / elapsed)} секунд!')\n",
    "#         i += 5000\n",
    "#     else:\n",
    "#         i -=5000\n",
    "#         autos.iloc[i:autos.shape[0], :] = knn.transform(autos.iloc[i:autos.shape[0], :])\n",
    "#         clear_output()\n",
    "#         print(f'Посчитались за {(datetime.datetime.now() - start).seconds} секунд')\n",
    "#         break"
   ]
  },
  {
   "cell_type": "markdown",
   "metadata": {},
   "source": [
    "**v2** решил я избавиться от этого метода, он с категориальными признаками тоже не завелся, а кодировать ради KNN и декодировать обратно для обучения моделей показалось слишком сложным. к тому же KNN очень долго отрабатывал"
   ]
  },
  {
   "cell_type": "code",
   "execution_count": 22,
   "metadata": {},
   "outputs": [
    {
     "data": {
      "text/plain": [
       "Price                  int64\n",
       "VehicleType         category\n",
       "RegistrationYear       int64\n",
       "Gearbox             category\n",
       "Power                  int64\n",
       "Model               category\n",
       "Kilometer              int64\n",
       "FuelType            category\n",
       "Brand               category\n",
       "NotRepaired             bool\n",
       "dtype: object"
      ]
     },
     "execution_count": 22,
     "metadata": {},
     "output_type": "execute_result"
    }
   ],
   "source": [
    "autos.dtypes"
   ]
  },
  {
   "cell_type": "code",
   "execution_count": 23,
   "metadata": {},
   "outputs": [
    {
     "data": {
      "text/plain": [
       "<AxesSubplot:>"
      ]
     },
     "execution_count": 23,
     "metadata": {},
     "output_type": "execute_result"
    },
    {
     "data": {
      "image/png": "[encoded data removed]",
      "text/plain": [
       "<Figure size 576x360 with 2 Axes>"
      ]
     },
     "metadata": {
      "needs_background": "light"
     },
     "output_type": "display_data"
    }
   ],
   "source": [
    "plt.figure(figsize=(8,5))\n",
    "sns.heatmap(autos.corr(), cmap='RdBu', cbar=True, annot=True)"
   ]
  },
  {
   "cell_type": "markdown",
   "metadata": {},
   "source": [
    "Видно, что сильнее всего на цену влияет километраж, тип топлива и КПП, а также факт того, была ли машина в ремонте (т.е. не зря выбросили пропуски по ремонту)\n",
    "\n",
    "**v2** теперь не очень-то видно, остались только количественные признаки, ну да ладно\n",
    "\n",
    "Еще раз обобщим количественные данные:"
   ]
  },
  {
   "cell_type": "code",
   "execution_count": 24,
   "metadata": {},
   "outputs": [
    {
     "data": {
      "text/html": [
       "<div>\n",
       "<style scoped>\n",
       "    .dataframe tbody tr th:only-of-type {\n",
       "        vertical-align: middle;\n",
       "    }\n",
       "\n",
       "    .dataframe tbody tr th {\n",
       "        vertical-align: top;\n",
       "    }\n",
       "\n",
       "    .dataframe thead th {\n",
       "        text-align: right;\n",
       "    }\n",
       "</style>\n",
       "<table border=\"1\" class=\"dataframe\">\n",
       "  <thead>\n",
       "    <tr style=\"text-align: right;\">\n",
       "      <th></th>\n",
       "      <th>Price</th>\n",
       "      <th>RegistrationYear</th>\n",
       "      <th>Power</th>\n",
       "      <th>Kilometer</th>\n",
       "    </tr>\n",
       "  </thead>\n",
       "  <tbody>\n",
       "    <tr>\n",
       "      <th>count</th>\n",
       "      <td>272564.000000</td>\n",
       "      <td>272564.000000</td>\n",
       "      <td>272564.000000</td>\n",
       "      <td>272564.000000</td>\n",
       "    </tr>\n",
       "    <tr>\n",
       "      <th>mean</th>\n",
       "      <td>4914.249703</td>\n",
       "      <td>2003.547640</td>\n",
       "      <td>116.698995</td>\n",
       "      <td>127726.552296</td>\n",
       "    </tr>\n",
       "    <tr>\n",
       "      <th>std</th>\n",
       "      <td>4658.004959</td>\n",
       "      <td>30.934818</td>\n",
       "      <td>161.194646</td>\n",
       "      <td>37015.341073</td>\n",
       "    </tr>\n",
       "    <tr>\n",
       "      <th>min</th>\n",
       "      <td>0.000000</td>\n",
       "      <td>1600.000000</td>\n",
       "      <td>0.000000</td>\n",
       "      <td>5000.000000</td>\n",
       "    </tr>\n",
       "    <tr>\n",
       "      <th>25%</th>\n",
       "      <td>1350.000000</td>\n",
       "      <td>1999.000000</td>\n",
       "      <td>75.000000</td>\n",
       "      <td>125000.000000</td>\n",
       "    </tr>\n",
       "    <tr>\n",
       "      <th>50%</th>\n",
       "      <td>3250.000000</td>\n",
       "      <td>2004.000000</td>\n",
       "      <td>109.000000</td>\n",
       "      <td>150000.000000</td>\n",
       "    </tr>\n",
       "    <tr>\n",
       "      <th>75%</th>\n",
       "      <td>7000.000000</td>\n",
       "      <td>2008.000000</td>\n",
       "      <td>147.000000</td>\n",
       "      <td>150000.000000</td>\n",
       "    </tr>\n",
       "    <tr>\n",
       "      <th>max</th>\n",
       "      <td>20000.000000</td>\n",
       "      <td>9999.000000</td>\n",
       "      <td>20000.000000</td>\n",
       "      <td>150000.000000</td>\n",
       "    </tr>\n",
       "  </tbody>\n",
       "</table>\n",
       "</div>"
      ],
      "text/plain": [
       "               Price  RegistrationYear          Power      Kilometer\n",
       "count  272564.000000     272564.000000  272564.000000  272564.000000\n",
       "mean     4914.249703       2003.547640     116.698995  127726.552296\n",
       "std      4658.004959         30.934818     161.194646   37015.341073\n",
       "min         0.000000       1600.000000       0.000000    5000.000000\n",
       "25%      1350.000000       1999.000000      75.000000  125000.000000\n",
       "50%      3250.000000       2004.000000     109.000000  150000.000000\n",
       "75%      7000.000000       2008.000000     147.000000  150000.000000\n",
       "max     20000.000000       9999.000000   20000.000000  150000.000000"
      ]
     },
     "execution_count": 24,
     "metadata": {},
     "output_type": "execute_result"
    }
   ],
   "source": [
    "autos.describe()"
   ]
  },
  {
   "cell_type": "markdown",
   "metadata": {},
   "source": [
    "Уберем экстремальные значения. Начнем с года регистрации, здесь присутствуют как неправдоподобно низкие (1000), так и неправдоподобно высокие (9999) значения. Чтобы не \"прицеливаться\" вручную, уберем верхние и нижние полпроцента"
   ]
  },
  {
   "cell_type": "code",
   "execution_count": 25,
   "metadata": {},
   "outputs": [],
   "source": [
    "autos = autos.query('RegistrationYear.quantile(0.005) < RegistrationYear < RegistrationYear.quantile(0.995)')"
   ]
  },
  {
   "cell_type": "markdown",
   "metadata": {},
   "source": [
    "Теперь то же самое сделаем со столбцом Power. Очевидно, что машин с нулевой мощностью двигателя не может быть в принципе, как и с 20000 л.с. Также уберем по 0.5% с каждой стороны"
   ]
  },
  {
   "cell_type": "code",
   "execution_count": 26,
   "metadata": {},
   "outputs": [],
   "source": [
    "autos = autos.query('Power.quantile(0.005) < Power < Power.quantile(0.995)')"
   ]
  },
  {
   "cell_type": "code",
   "execution_count": 27,
   "metadata": {},
   "outputs": [],
   "source": [
    "autos.reset_index(inplace=True, drop=True)"
   ]
  },
  {
   "cell_type": "markdown",
   "metadata": {},
   "source": [
    "На данном датасет уже готов к построению модели. Датасет несколько \"похудел\" за время предобработки, однако это было скорее всего неизбежно. Остался лишь столбец с целевым признаком. Его распределение выглядит так:"
   ]
  },
  {
   "cell_type": "code",
   "execution_count": 28,
   "metadata": {},
   "outputs": [
    {
     "data": {
      "text/plain": [
       "<AxesSubplot:xlabel='Price'>"
      ]
     },
     "execution_count": 28,
     "metadata": {},
     "output_type": "execute_result"
    },
    {
     "data": {
      "image/png": "[encoded data removed]",
      "text/plain": [
       "<Figure size 432x288 with 1 Axes>"
      ]
     },
     "metadata": {
      "needs_background": "light"
     },
     "output_type": "display_data"
    }
   ],
   "source": [
    "sns.distplot(autos.Price)"
   ]
  },
  {
   "cell_type": "markdown",
   "metadata": {},
   "source": [
    "Мы видим достаточно большой хвост около нуля, непонятно, ошибка это или нет, но если их убрать, качество модели улучшится ненамного, поэтому пусть остается, возможно, продается автохлам, цены указаны в евро, в принципе, убитые жигули можно и за 200 евро найти\n",
    "\n",
    "Но вообще в реальной задаче стоило бы уточнить происхождение данных, может, там какая-то обналичка идет или еще чего, поэтому так много низких цен."
   ]
  },
  {
   "cell_type": "markdown",
   "metadata": {},
   "source": [
    "# 2. Обучение моделей"
   ]
  },
  {
   "cell_type": "markdown",
   "metadata": {},
   "source": [
    "Указываем таргет, делим выборки"
   ]
  },
  {
   "cell_type": "code",
   "execution_count": 29,
   "metadata": {},
   "outputs": [],
   "source": [
    "features = autos.drop('Price', axis=1)\n",
    "target = autos['Price']"
   ]
  },
  {
   "cell_type": "code",
   "execution_count": 30,
   "metadata": {},
   "outputs": [],
   "source": [
    "X_train, X_test, y_train, y_test = train_test_split(features, target, random_state=9)"
   ]
  },
  {
   "cell_type": "code",
   "execution_count": 31,
   "metadata": {},
   "outputs": [
    {
     "name": "stdout",
     "output_type": "stream",
     "text": [
      "X_train (188566, 9)\n",
      "y_train (188566,)\n",
      "X_test (62856, 9)\n",
      "y_test (62856,)\n"
     ]
    }
   ],
   "source": [
    "print('X_train', X_train.shape)\n",
    "print('y_train', y_train.shape)\n",
    "print('X_test', X_test.shape)\n",
    "print('y_test', y_test.shape)"
   ]
  },
  {
   "cell_type": "markdown",
   "metadata": {},
   "source": [
    "Начнем с обычной линейной регрессии, чтобы было с чем сравнивать"
   ]
  },
  {
   "cell_type": "markdown",
   "metadata": {},
   "source": [
    "### Линейная регрессия"
   ]
  },
  {
   "cell_type": "markdown",
   "metadata": {},
   "source": [
    "**v2** линейная регрессия и лес не работают с категориальными фичами, пришлось создавать отдельный набор трейн/тест с кодировкой категориальных признаков\n",
    "\n",
    "Кроме того, не удавалось зафитить кодировщик на трейне и потом использовать этот же кодировщик для трансформации фич в тесте. Пришлось переводить данные обратно к dtype object"
   ]
  },
  {
   "cell_type": "code",
   "execution_count": 32,
   "metadata": {},
   "outputs": [],
   "source": [
    "autos_copy = autos.copy()\n",
    "autos_copy.loc[:, ['VehicleType', 'Gearbox', 'Model', 'FuelType', 'Brand']] = \\\n",
    "autos_copy.loc[:, ['VehicleType', 'Gearbox', 'Model', 'FuelType', 'Brand']].astype('object')"
   ]
  },
  {
   "cell_type": "code",
   "execution_count": 33,
   "metadata": {},
   "outputs": [],
   "source": [
    "encoder = OrdinalEncoder()\n",
    "autos_copy = pd.DataFrame(encoder.fit_transform(autos_copy), columns=autos_copy.columns)"
   ]
  },
  {
   "cell_type": "code",
   "execution_count": 34,
   "metadata": {},
   "outputs": [],
   "source": [
    "features_copy = autos_copy.drop('Price', axis=1)\n",
    "target_copy = autos_copy['Price']\n",
    "X_train_sklearn, X_test_sklearn, y_train_sklearn, y_test_sklearn = train_test_split(features_copy, target_copy, random_state=9)"
   ]
  },
  {
   "cell_type": "code",
   "execution_count": 53,
   "metadata": {},
   "outputs": [
    {
     "name": "stdout",
     "output_type": "stream",
     "text": [
      "X_train (188566, 9)\n",
      "y_train (188566,)\n",
      "X_test (62856, 9)\n",
      "y_test (62856,)\n"
     ]
    }
   ],
   "source": [
    "print('X_train', X_train_sklearn.shape)\n",
    "print('y_train', y_train_sklearn.shape)\n",
    "print('X_test', X_test_sklearn.shape)\n",
    "print('y_test', y_test_sklearn.shape)"
   ]
  },
  {
   "cell_type": "code",
   "execution_count": 35,
   "metadata": {},
   "outputs": [
    {
     "data": {
      "text/plain": [
       "array([-2972.78068897, -2991.48988781, -2993.44462654, -2982.38311133,\n",
       "       -2998.15888212])"
      ]
     },
     "execution_count": 35,
     "metadata": {},
     "output_type": "execute_result"
    }
   ],
   "source": [
    "lin1 = LinearRegression()\n",
    "cross_val_score(lin1, X_train_sklearn, y_train, scoring='neg_root_mean_squared_error')"
   ]
  },
  {
   "cell_type": "markdown",
   "metadata": {},
   "source": [
    "(масштабирование изменений не дало) \n",
    "\n",
    "Попробуем еще модель случайного леса (тоже ведь ансамбль)"
   ]
  },
  {
   "cell_type": "markdown",
   "metadata": {},
   "source": [
    "### Случайный лес"
   ]
  },
  {
   "cell_type": "code",
   "execution_count": 36,
   "metadata": {},
   "outputs": [
    {
     "data": {
      "text/plain": [
       "array([-1894.10136713, -1915.69325619, -1909.64825903, -1917.84747949,\n",
       "       -1929.82553701])"
      ]
     },
     "execution_count": 36,
     "metadata": {},
     "output_type": "execute_result"
    }
   ],
   "source": [
    "forest = RandomForestRegressor(max_depth=10)\n",
    "cross_val_score(forest, X_train_sklearn, y_train, scoring='neg_root_mean_squared_error')"
   ]
  },
  {
   "cell_type": "markdown",
   "metadata": {},
   "source": [
    "Лучше, чем линейная регрессия, но и обучается дольше. Теперь перейдем к бустингу"
   ]
  },
  {
   "cell_type": "markdown",
   "metadata": {},
   "source": [
    "### Модель бустинга LightGBM"
   ]
  },
  {
   "cell_type": "markdown",
   "metadata": {},
   "source": [
    "Модели LGBM. Не нашел в библиотеке аналога GridSearch, можно было сделать перебор гиперпараметров, используя циклы, либо попробовать скрестить модель регрессии LGBM с GridSearch из sklearn, я выбрал второе"
   ]
  },
  {
   "cell_type": "code",
   "execution_count": 37,
   "metadata": {},
   "outputs": [],
   "source": [
    "model = lgb.LGBMRegressor()\n",
    "param_grid = {\n",
    "    'learning_rate': np.arange(0.1, 1, 0.1),\n",
    "    'max_depth': np.arange(1, 11, 2),\n",
    "    'verbose': [-1],      # спамит сообщениями, если не указать\n",
    "    'num_leaves': [40],   # ругается, если не выставить этот параметр\n",
    "    'n_estimators': [50, 100, 300],\n",
    "}\n",
    "\n",
    "cv = GridSearchCV(model, param_grid, cv=5, scoring='neg_root_mean_squared_error')"
   ]
  },
  {
   "cell_type": "code",
   "execution_count": 38,
   "metadata": {},
   "outputs": [
    {
     "name": "stdout",
     "output_type": "stream",
     "text": [
      "Wall time: 6min 11s\n"
     ]
    },
    {
     "data": {
      "text/plain": [
       "GridSearchCV(cv=5, estimator=LGBMRegressor(),\n",
       "             param_grid={'learning_rate': array([0.1, 0.2, 0.3, 0.4, 0.5, 0.6, 0.7, 0.8, 0.9]),\n",
       "                         'max_depth': array([1, 3, 5, 7, 9]),\n",
       "                         'n_estimators': [50, 100, 300], 'num_leaves': [40],\n",
       "                         'verbose': [-1]},\n",
       "             scoring='neg_root_mean_squared_error')"
      ]
     },
     "execution_count": 38,
     "metadata": {},
     "output_type": "execute_result"
    }
   ],
   "source": [
    "%%time\n",
    "cv.fit(X_train, y_train)"
   ]
  },
  {
   "cell_type": "code",
   "execution_count": 39,
   "metadata": {},
   "outputs": [
    {
     "data": {
      "text/plain": [
       "-1649.2784960140932"
      ]
     },
     "execution_count": 39,
     "metadata": {},
     "output_type": "execute_result"
    }
   ],
   "source": [
    "cv.best_score_"
   ]
  },
  {
   "cell_type": "code",
   "execution_count": 40,
   "metadata": {},
   "outputs": [
    {
     "data": {
      "text/plain": [
       "{'learning_rate': 0.2,\n",
       " 'max_depth': 9,\n",
       " 'n_estimators': 300,\n",
       " 'num_leaves': 40,\n",
       " 'verbose': -1}"
      ]
     },
     "execution_count": 40,
     "metadata": {},
     "output_type": "execute_result"
    }
   ],
   "source": [
    "cv.best_params_"
   ]
  },
  {
   "cell_type": "markdown",
   "metadata": {},
   "source": [
    "### Модель бустинга CatBoost"
   ]
  },
  {
   "cell_type": "code",
   "execution_count": 41,
   "metadata": {},
   "outputs": [
    {
     "name": "stdout",
     "output_type": "stream",
     "text": [
      "\n",
      "bestTest = 2737.338057\n",
      "bestIteration = 49\n",
      "\n",
      "0:\tloss: 2737.3380571\tbest: 2737.3380571 (0)\ttotal: 757ms\tremaining: 22s\n",
      "\n",
      "bestTest = 2357.466189\n",
      "bestIteration = 49\n",
      "\n",
      "1:\tloss: 2357.4661885\tbest: 2357.4661885 (1)\ttotal: 1.3s\tremaining: 18.2s\n",
      "\n",
      "bestTest = 2432.440468\n",
      "bestIteration = 99\n",
      "\n",
      "2:\tloss: 2432.4404683\tbest: 2357.4661885 (1)\ttotal: 2.29s\tremaining: 20.6s\n",
      "\n",
      "bestTest = 2286.439262\n",
      "bestIteration = 99\n",
      "\n",
      "3:\tloss: 2286.4392622\tbest: 2286.4392622 (3)\ttotal: 3.27s\tremaining: 21.2s\n",
      "\n",
      "bestTest = 2273.618755\n",
      "bestIteration = 299\n",
      "\n",
      "4:\tloss: 2273.6187549\tbest: 2273.6187549 (4)\ttotal: 5.97s\tremaining: 29.8s\n",
      "\n",
      "bestTest = 2229.648532\n",
      "bestIteration = 299\n",
      "\n",
      "5:\tloss: 2229.6485321\tbest: 2229.6485321 (5)\ttotal: 8.8s\tremaining: 35.2s\n",
      "\n",
      "bestTest = 2162.03781\n",
      "bestIteration = 49\n",
      "\n",
      "6:\tloss: 2162.0378096\tbest: 2162.0378096 (6)\ttotal: 9.55s\tremaining: 31.4s\n",
      "\n",
      "bestTest = 1964.971181\n",
      "bestIteration = 49\n",
      "\n",
      "7:\tloss: 1964.9711814\tbest: 1964.9711814 (7)\ttotal: 10.4s\tremaining: 28.5s\n",
      "\n",
      "bestTest = 2037.74007\n",
      "bestIteration = 99\n",
      "\n",
      "8:\tloss: 2037.7400699\tbest: 1964.9711814 (7)\ttotal: 11.8s\tremaining: 27.5s\n",
      "\n",
      "bestTest = 1907.28064\n",
      "bestIteration = 99\n",
      "\n",
      "9:\tloss: 1907.2806399\tbest: 1907.2806399 (9)\ttotal: 13.2s\tremaining: 26.3s\n",
      "\n",
      "bestTest = 1904.091703\n",
      "bestIteration = 299\n",
      "\n",
      "10:\tloss: 1904.0917032\tbest: 1904.0917032 (10)\ttotal: 23.1s\tremaining: 39.9s\n",
      "\n",
      "bestTest = 1830.05832\n",
      "bestIteration = 299\n",
      "\n",
      "11:\tloss: 1830.0583197\tbest: 1830.0583197 (11)\ttotal: 33.4s\tremaining: 50.1s\n",
      "\n",
      "bestTest = 2023.123076\n",
      "bestIteration = 49\n",
      "\n",
      "12:\tloss: 2023.1230760\tbest: 1830.0583197 (11)\ttotal: 34.5s\tremaining: 45.1s\n",
      "\n",
      "bestTest = 1871.290619\n",
      "bestIteration = 49\n",
      "\n",
      "13:\tloss: 1871.2906187\tbest: 1830.0583197 (11)\ttotal: 35.7s\tremaining: 40.8s\n",
      "\n",
      "bestTest = 1927.524105\n",
      "bestIteration = 99\n",
      "\n",
      "14:\tloss: 1927.5241048\tbest: 1830.0583197 (11)\ttotal: 37.8s\tremaining: 37.8s\n",
      "\n",
      "bestTest = 1830.734245\n",
      "bestIteration = 99\n",
      "\n",
      "15:\tloss: 1830.7342450\tbest: 1830.0583197 (11)\ttotal: 40s\tremaining: 35s\n",
      "\n",
      "bestTest = 1816.634145\n",
      "bestIteration = 299\n",
      "\n",
      "16:\tloss: 1816.6341446\tbest: 1816.6341446 (16)\ttotal: 57.7s\tremaining: 44.1s\n",
      "\n",
      "bestTest = 1774.752633\n",
      "bestIteration = 297\n",
      "\n",
      "17:\tloss: 1774.7526326\tbest: 1774.7526326 (17)\ttotal: 1m 14s\tremaining: 50s\n",
      "\n",
      "bestTest = 1962.577758\n",
      "bestIteration = 49\n",
      "\n",
      "18:\tloss: 1962.5777583\tbest: 1774.7526326 (17)\ttotal: 1m 17s\tremaining: 44.6s\n",
      "\n",
      "bestTest = 1820.371216\n",
      "bestIteration = 49\n",
      "\n",
      "19:\tloss: 1820.3712158\tbest: 1774.7526326 (17)\ttotal: 1m 19s\tremaining: 39.6s\n",
      "\n",
      "bestTest = 1876.423965\n",
      "bestIteration = 99\n",
      "\n",
      "20:\tloss: 1876.4239650\tbest: 1774.7526326 (17)\ttotal: 1m 23s\tremaining: 35.7s\n",
      "\n",
      "bestTest = 1786.213508\n",
      "bestIteration = 99\n",
      "\n",
      "21:\tloss: 1786.2135083\tbest: 1774.7526326 (17)\ttotal: 1m 27s\tremaining: 31.7s\n",
      "\n",
      "bestTest = 1770.093759\n",
      "bestIteration = 298\n",
      "\n",
      "22:\tloss: 1770.0937592\tbest: 1770.0937592 (22)\ttotal: 1m 55s\tremaining: 35s\n",
      "\n",
      "bestTest = 1750.830532\n",
      "bestIteration = 269\n",
      "\n",
      "23:\tloss: 1750.8305318\tbest: 1750.8305318 (23)\ttotal: 2m 23s\tremaining: 35.8s\n",
      "\n",
      "bestTest = 1902.51504\n",
      "bestIteration = 49\n",
      "\n",
      "24:\tloss: 1902.5150403\tbest: 1750.8305318 (23)\ttotal: 2m 25s\tremaining: 29.2s\n",
      "\n",
      "bestTest = 1781.896765\n",
      "bestIteration = 49\n",
      "\n",
      "25:\tloss: 1781.8967652\tbest: 1750.8305318 (23)\ttotal: 2m 28s\tremaining: 22.8s\n",
      "\n",
      "bestTest = 1819.689345\n",
      "bestIteration = 99\n",
      "\n",
      "26:\tloss: 1819.6893445\tbest: 1750.8305318 (23)\ttotal: 2m 33s\tremaining: 17s\n",
      "\n",
      "bestTest = 1751.755419\n",
      "bestIteration = 99\n",
      "\n",
      "27:\tloss: 1751.7554190\tbest: 1750.8305318 (23)\ttotal: 2m 38s\tremaining: 11.3s\n",
      "\n",
      "bestTest = 1734.210152\n",
      "bestIteration = 299\n",
      "\n",
      "28:\tloss: 1734.2101517\tbest: 1734.2101517 (28)\ttotal: 3m 18s\tremaining: 6.86s\n",
      "\n",
      "bestTest = 1747.020887\n",
      "bestIteration = 274\n",
      "\n",
      "29:\tloss: 1747.0208869\tbest: 1734.2101517 (28)\ttotal: 3m 57s\tremaining: 0us\n",
      "Estimating final quality...\n",
      "Wall time: 7min 2s\n"
     ]
    }
   ],
   "source": [
    "%%time\n",
    "cat_model = CatBoostRegressor(cat_features=[column for column in autos.columns \\\n",
    "                                            if autos[column].dtype not in ['int64','bool']] )\n",
    "                                            # иначе TypeError: data type 'category' not understood ¯\\_(ツ)_/¯\n",
    "cats_gs = cat_model.grid_search({'learning_rate': np.arange(0.1, 1, 0.6),\n",
    "                                 'depth': np.arange(1, 11, 2), 'n_estimators': [50, 100, 300]}, X_train, y_train)"
   ]
  },
  {
   "cell_type": "code",
   "execution_count": 42,
   "metadata": {
    "scrolled": false
   },
   "outputs": [
    {
     "name": "stdout",
     "output_type": "stream",
     "text": [
      "{'depth': 9, 'iterations': 300, 'learning_rate': 0.1}\n"
     ]
    }
   ],
   "source": [
    "print(cats_gs['params'])"
   ]
  },
  {
   "cell_type": "markdown",
   "metadata": {},
   "source": [
    "### Модель XGBoost"
   ]
  },
  {
   "cell_type": "code",
   "execution_count": 43,
   "metadata": {},
   "outputs": [],
   "source": [
    "xmodel = xgb.XGBRegressor(objective='reg:squarederror', n_jobs=8)\n",
    "x_param_grid = {\n",
    "    'learning_rate': np.arange(0.1, 1, 0.1),\n",
    "    'max_depth': np.arange(1, 11, 2),\n",
    "    'n_estimators': [50, 100, 300],\n",
    "}\n",
    "\n",
    "xcv = GridSearchCV(xmodel, x_param_grid, cv=5, scoring='neg_root_mean_squared_error')"
   ]
  },
  {
   "cell_type": "code",
   "execution_count": 44,
   "metadata": {},
   "outputs": [
    {
     "name": "stdout",
     "output_type": "stream",
     "text": [
      "Wall time: 25min 9s\n"
     ]
    },
    {
     "data": {
      "text/plain": [
       "GridSearchCV(cv=5,\n",
       "             estimator=XGBRegressor(n_jobs=8, objective='reg:squarederror'),\n",
       "             param_grid={'learning_rate': array([0.1, 0.2, 0.3, 0.4, 0.5, 0.6, 0.7, 0.8, 0.9]),\n",
       "                         'max_depth': array([1, 3, 5, 7, 9]),\n",
       "                         'n_estimators': [50, 100, 300]},\n",
       "             scoring='neg_root_mean_squared_error')"
      ]
     },
     "execution_count": 44,
     "metadata": {},
     "output_type": "execute_result"
    }
   ],
   "source": [
    "%%time\n",
    "xcv.fit(X_train_sklearn, y_train)"
   ]
  },
  {
   "cell_type": "code",
   "execution_count": 45,
   "metadata": {},
   "outputs": [
    {
     "data": {
      "text/plain": [
       "-1641.9839035237237"
      ]
     },
     "execution_count": 45,
     "metadata": {},
     "output_type": "execute_result"
    }
   ],
   "source": [
    "xcv.best_score_"
   ]
  },
  {
   "cell_type": "markdown",
   "metadata": {},
   "source": [
    "# 3. Анализ моделей"
   ]
  },
  {
   "cell_type": "markdown",
   "metadata": {},
   "source": [
    "Обучим модели с оптимальными гиперпараметрами и сравним скорость обучения"
   ]
  },
  {
   "cell_type": "code",
   "execution_count": 46,
   "metadata": {},
   "outputs": [],
   "source": [
    "results={}"
   ]
  },
  {
   "cell_type": "markdown",
   "metadata": {},
   "source": [
    "### Модель бустинга LightGBM"
   ]
  },
  {
   "cell_type": "code",
   "execution_count": 47,
   "metadata": {},
   "outputs": [],
   "source": [
    "lgb_final = lgb.LGBMRegressor(**cv.best_params_)\n",
    "start_train = datetime.datetime.now()\n",
    "lgb_final.fit(X_train, y_train)\n",
    "end_train = datetime.datetime.now()\n",
    "start_pred = datetime.datetime.now()\n",
    "lgb_pred = lgb_final.predict(X_test)\n",
    "end_pred = datetime.datetime.now()\n",
    "lgb_score = eval_metric([y_test], [lgb_pred], 'RMSE')\n",
    "results['LightGBM'] = [(end_train-start_train).seconds, (end_pred-start_pred).microseconds//1000, int(*lgb_score)]"
   ]
  },
  {
   "cell_type": "markdown",
   "metadata": {},
   "source": [
    "### Модель бустинга CatBoost"
   ]
  },
  {
   "cell_type": "code",
   "execution_count": 48,
   "metadata": {},
   "outputs": [],
   "source": [
    "cat_final = CatBoostRegressor(**cats_gs['params'], cat_features=[column for column in autos.columns \\\n",
    "                                                if autos[column].dtype not in ['int64','bool']] )\n",
    "start_train = datetime.datetime.now()\n",
    "cat_final.fit(X_train, y_train)\n",
    "end_train = datetime.datetime.now()\n",
    "start_pred = datetime.datetime.now()\n",
    "cat_pred = cat_final.predict(X_test)\n",
    "end_pred = datetime.datetime.now()\n",
    "cat_score = eval_metric([y_test], [cat_pred], 'RMSE')\n",
    "results['CatBoost'] = [(end_train-start_train).seconds, (end_pred-start_pred).microseconds//1000, int(*cat_score)]\n",
    "clear_output()"
   ]
  },
  {
   "cell_type": "markdown",
   "metadata": {},
   "source": [
    "### Модель бустинга XGBoost"
   ]
  },
  {
   "cell_type": "code",
   "execution_count": 50,
   "metadata": {},
   "outputs": [],
   "source": [
    "xgb_final = xgb.XGBRegressor(objective='reg:squarederror', n_jobs=8, **xcv.best_params_)\n",
    "start_train = datetime.datetime.now()\n",
    "xgb_final.fit(X_train_sklearn, y_train)\n",
    "end_train = datetime.datetime.now()\n",
    "start_pred = datetime.datetime.now()\n",
    "xgb_pred = xgb_final.predict(X_test_sklearn)\n",
    "end_pred = datetime.datetime.now()\n",
    "xgb_score = eval_metric([y_test], [xgb_pred], 'RMSE')\n",
    "results['XGBoost'] = [(end_train-start_train).seconds, (end_pred-start_pred).microseconds//1000, int(*xgb_score)]"
   ]
  },
  {
   "cell_type": "markdown",
   "metadata": {},
   "source": [
    "### Итоговая таблица"
   ]
  },
  {
   "cell_type": "code",
   "execution_count": 51,
   "metadata": {},
   "outputs": [
    {
     "data": {
      "text/html": [
       "<div>\n",
       "<style scoped>\n",
       "    .dataframe tbody tr th:only-of-type {\n",
       "        vertical-align: middle;\n",
       "    }\n",
       "\n",
       "    .dataframe tbody tr th {\n",
       "        vertical-align: top;\n",
       "    }\n",
       "\n",
       "    .dataframe thead th {\n",
       "        text-align: right;\n",
       "    }\n",
       "</style>\n",
       "<table border=\"1\" class=\"dataframe\">\n",
       "  <thead>\n",
       "    <tr style=\"text-align: right;\">\n",
       "      <th></th>\n",
       "      <th>LightGBM</th>\n",
       "      <th>CatBoost</th>\n",
       "      <th>XGBoost</th>\n",
       "    </tr>\n",
       "  </thead>\n",
       "  <tbody>\n",
       "    <tr>\n",
       "      <th>Время обучения, с</th>\n",
       "      <td>1</td>\n",
       "      <td>43</td>\n",
       "      <td>9</td>\n",
       "    </tr>\n",
       "    <tr>\n",
       "      <th>Время предсказания, мс</th>\n",
       "      <td>170</td>\n",
       "      <td>106</td>\n",
       "      <td>259</td>\n",
       "    </tr>\n",
       "    <tr>\n",
       "      <th>RMSE (тест)</th>\n",
       "      <td>1647</td>\n",
       "      <td>1685</td>\n",
       "      <td>1645</td>\n",
       "    </tr>\n",
       "  </tbody>\n",
       "</table>\n",
       "</div>"
      ],
      "text/plain": [
       "                        LightGBM  CatBoost  XGBoost\n",
       "Время обучения, с              1        43        9\n",
       "Время предсказания, мс       170       106      259\n",
       "RMSE (тест)                 1647      1685     1645"
      ]
     },
     "execution_count": 51,
     "metadata": {},
     "output_type": "execute_result"
    }
   ],
   "source": [
    "pd.DataFrame(results, index=['Время обучения, с', 'Время предсказания, мс', 'RMSE (тест)'])"
   ]
  },
  {
   "cell_type": "markdown",
   "metadata": {},
   "source": [
    "**v2** Первая модель обучается в несколько раз быстрее, однако CatBoost делает предсказания быстрее. Стоит уточнить у заказчика ожидаемый объем нагрузки на готовую модель. В случае высоконагруженной системы с большим потоком клиентов может быть целесообразнее потратить больше времени на обучение, но в процессе работы быстрее отдавать результат (хотя это лишь мое предположения, я модели в продакшн не запускал, не знаю, как там оно). XGBoost учится быстрее CatBoost, но дает худшее время вредсказания (хотя RMSE в итоге получился очень неплохой). "
   ]
  },
  {
   "cell_type": "markdown",
   "metadata": {},
   "source": [
    "### Проверка на адекватность"
   ]
  },
  {
   "cell_type": "code",
   "execution_count": 52,
   "metadata": {},
   "outputs": [
    {
     "data": {
      "text/plain": [
       "[4663.278400768442]"
      ]
     },
     "execution_count": 52,
     "metadata": {},
     "output_type": "execute_result"
    }
   ],
   "source": [
    "dummy = DummyRegressor()\n",
    "dummy.fit(X_train, y_train)\n",
    "dum_pred = dummy.predict(X_test)\n",
    "eval_metric([y_test], [dum_pred], 'RMSE')"
   ]
  },
  {
   "cell_type": "markdown",
   "metadata": {},
   "source": [
    "## Общий вывод\n",
    "\n",
    "В ходе выполнения проекта была разработана модель для предсказания цены автомобиля исходя из его параметров. В ходе предобработки данных были исключены наблюдения с отсутствующими данными о факте ремонта автомобиля, поскольку данный показатель является критичным для многих покупателей. Пропуски в остальных признаках были заполнены по принципу ближайших соседей. Также были исключены из выборки строки с экстремальными (неадекватными) значениями признаков.\n",
    "\n",
    "Далее при помощи кросс-валидации и автоматического перебора гиперпараметров выбрали оптимальную модель. Поскольку результаты моделей из двух разных библиотек оказались схожими, трудно принять однозначное решение, склоняюсь к первой модели, LightGBM, поскольку эта модель представляет наилучший компромисс между точностью и скоростью обучения и предсказаний, однако в ситуации, когда критически важна скорость именно предсказания, может быть более полезно применить модель из CatBoost (тут нужно уточнять у заказчика).\n",
    "\n",
    "На финальном этапе проверили качество предсказаний модели на тестовой выборке, также модель успешно прошла проверку на адекватность."
   ]
  }
 ],
 "metadata": {
  "kernelspec": {
   "display_name": "Python 3",
   "language": "python",
   "name": "python3"
  },
  "language_info": {
   "codemirror_mode": {
    "name": "ipython",
    "version": 3
   },
   "file_extension": ".py",
   "mimetype": "text/x-python",
   "name": "python",
   "nbconvert_exporter": "python",
   "pygments_lexer": "ipython3",
   "version": "3.7.9"
  }
 },
 "nbformat": 4,
 "nbformat_minor": 2
}
