{
 "cells": [
  {
   "cell_type": "markdown",
   "metadata": {},
   "source": [
    "# Оптимизация производственных расходов металлургического комбината\n",
    "\n",
    "### Цель проекта\n",
    "\n",
    "Заказчик решил уменьшить потребление электроэнергии на этапе обработки стали. Необходимо построить модель, которая предскажет температуру стали.\n",
    "\n",
    "### Описание данных\n",
    "\n",
    "Данные состоят из файлов, полученных из разных источников:\n",
    "\n",
    "- `data_arc.csv` — данные об электродах;\n",
    "- `data_bulk.csv` — данные о подаче сыпучих материалов (объём);\n",
    "- `data_bulk_time.csv` *—* данные о подаче сыпучих материалов (время);\n",
    "- `data_gas.csv` — данные о продувке сплава газом;\n",
    "- `data_temp.csv` — результаты измерения температуры;\n",
    "- `data_wire.csv` — данные о проволочных материалах (объём);\n",
    "- `data_wire_time.csv` — данные о проволочных материалах (время).\n",
    "\n",
    "Во всех файлах столбец `key` содержит номер партии. В файлах может быть несколько строк с одинаковым значением `key`: они соответствуют разным итерациям обработки.\n",
    "\n"
   ]
  },
  {
   "cell_type": "markdown",
   "metadata": {},
   "source": [
    "## Примерный план работы:\n",
    "\n",
    "1. Ознакомиться с данными и провести исследовательский анализ. Провести предобработку данных.\n",
    "2. Создать признаки (features/target). Разделить выборку на обучающую и тестовую (планирую использовать кросс-валидацию, но если по каким-то причином ее провести будет невозможно, то дополнительно выделить валидационную выборку)\n",
    "3. Выбрать несколько моделей (точно будет бустинг, мб еще что-то линейное), обучить их, подобрать для них оптимальные гиперпараметры (например, подбором по сетке)\n",
    "4. Сравнить точность моделей на целевой метрике, выбрать оптимальную и проверить ее на тестовой выборке\n",
    "5. Сделать выводы"
   ]
  },
  {
   "cell_type": "markdown",
   "metadata": {},
   "source": [
    "# Шаг 1. Знакомство с данными и исследовательский анализ"
   ]
  },
  {
   "cell_type": "code",
   "execution_count": 1,
   "metadata": {},
   "outputs": [],
   "source": [
    "import pandas as pd\n",
    "import numpy as np\n",
    "import matplotlib.pyplot as plt\n",
    "import seaborn as sns\n",
    "import re\n",
    "import datetime\n",
    "import plotly.figure_factory as ff\n",
    "import lightgbm as lgb\n",
    "import xgboost as xgb\n",
    "import plotly.express as px\n",
    "from functools import reduce\n",
    "from sklearn.model_selection import train_test_split, GridSearchCV, cross_val_score\n",
    "from sklearn.metrics import mean_absolute_error\n",
    "from sklearn.linear_model import LinearRegression, Lasso\n",
    "from sklearn.dummy import DummyRegressor\n",
    "from catboost import CatBoostRegressor\n",
    "from IPython.display import clear_output"
   ]
  },
  {
   "cell_type": "markdown",
   "metadata": {},
   "source": [
    "Загружаем данные из файлов:"
   ]
  },
  {
   "cell_type": "code",
   "execution_count": 2,
   "metadata": {},
   "outputs": [],
   "source": [
    "arc_data = pd.read_csv('/home/konstantin/datasets/final_steel/data_arc.csv')\n",
    "bulk_data = pd.read_csv('/home/konstantin/datasets/final_steel/data_bulk.csv')\n",
    "bulk_time = pd.read_csv('/home/konstantin/datasets/final_steel/data_bulk_time.csv')\n",
    "gas_data = pd.read_csv('/home/konstantin/datasets/final_steel/data_gas.csv')\n",
    "temp_data = pd.read_csv('/home/konstantin/datasets/final_steel/data_temp.csv')\n",
    "wire_data = pd.read_csv('/home/konstantin/datasets/final_steel/data_wire.csv')\n",
    "wire_time = pd.read_csv('/home/konstantin/datasets/final_steel/data_wire_time.csv')"
   ]
  },
  {
   "cell_type": "markdown",
   "metadata": {},
   "source": [
    "### Данные об электродах"
   ]
  },
  {
   "cell_type": "code",
   "execution_count": 3,
   "metadata": {},
   "outputs": [
    {
     "data": {
      "text/html": [
       "<div>\n",
       "<style scoped>\n",
       "    .dataframe tbody tr th:only-of-type {\n",
       "        vertical-align: middle;\n",
       "    }\n",
       "\n",
       "    .dataframe tbody tr th {\n",
       "        vertical-align: top;\n",
       "    }\n",
       "\n",
       "    .dataframe thead th {\n",
       "        text-align: right;\n",
       "    }\n",
       "</style>\n",
       "<table border=\"1\" class=\"dataframe\">\n",
       "  <thead>\n",
       "    <tr style=\"text-align: right;\">\n",
       "      <th></th>\n",
       "      <th>key</th>\n",
       "      <th>Начало нагрева дугой</th>\n",
       "      <th>Конец нагрева дугой</th>\n",
       "      <th>Активная мощность</th>\n",
       "      <th>Реактивная мощность</th>\n",
       "    </tr>\n",
       "  </thead>\n",
       "  <tbody>\n",
       "    <tr>\n",
       "      <th>0</th>\n",
       "      <td>1</td>\n",
       "      <td>2019-05-03 11:02:14</td>\n",
       "      <td>2019-05-03 11:06:02</td>\n",
       "      <td>0.976059</td>\n",
       "      <td>0.687084</td>\n",
       "    </tr>\n",
       "    <tr>\n",
       "      <th>1</th>\n",
       "      <td>1</td>\n",
       "      <td>2019-05-03 11:07:28</td>\n",
       "      <td>2019-05-03 11:10:33</td>\n",
       "      <td>0.805607</td>\n",
       "      <td>0.520285</td>\n",
       "    </tr>\n",
       "    <tr>\n",
       "      <th>2</th>\n",
       "      <td>1</td>\n",
       "      <td>2019-05-03 11:11:44</td>\n",
       "      <td>2019-05-03 11:14:36</td>\n",
       "      <td>0.744363</td>\n",
       "      <td>0.498805</td>\n",
       "    </tr>\n",
       "    <tr>\n",
       "      <th>3</th>\n",
       "      <td>1</td>\n",
       "      <td>2019-05-03 11:18:14</td>\n",
       "      <td>2019-05-03 11:24:19</td>\n",
       "      <td>1.659363</td>\n",
       "      <td>1.062669</td>\n",
       "    </tr>\n",
       "    <tr>\n",
       "      <th>4</th>\n",
       "      <td>1</td>\n",
       "      <td>2019-05-03 11:26:09</td>\n",
       "      <td>2019-05-03 11:28:37</td>\n",
       "      <td>0.692755</td>\n",
       "      <td>0.414397</td>\n",
       "    </tr>\n",
       "  </tbody>\n",
       "</table>\n",
       "</div>"
      ],
      "text/plain": [
       "   key Начало нагрева дугой  Конец нагрева дугой  Активная мощность  \\\n",
       "0    1  2019-05-03 11:02:14  2019-05-03 11:06:02           0.976059   \n",
       "1    1  2019-05-03 11:07:28  2019-05-03 11:10:33           0.805607   \n",
       "2    1  2019-05-03 11:11:44  2019-05-03 11:14:36           0.744363   \n",
       "3    1  2019-05-03 11:18:14  2019-05-03 11:24:19           1.659363   \n",
       "4    1  2019-05-03 11:26:09  2019-05-03 11:28:37           0.692755   \n",
       "\n",
       "   Реактивная мощность  \n",
       "0             0.687084  \n",
       "1             0.520285  \n",
       "2             0.498805  \n",
       "3             1.062669  \n",
       "4             0.414397  "
      ]
     },
     "execution_count": 3,
     "metadata": {},
     "output_type": "execute_result"
    }
   ],
   "source": [
    "arc_data.head()"
   ]
  },
  {
   "cell_type": "markdown",
   "metadata": {},
   "source": [
    "Столбцы имеют русские наименования, однако это не самый оптимальный вариант для работы поскольку, во-первых, они содержат пробелы, что мешает, к примеру, обращаться к столбцам через точку (\"dataframe.column\"), во-вторых, лишний раз заставляет переключать раскладку при написании кода. Здесь и далее будем переводить их на английский:"
   ]
  },
  {
   "cell_type": "code",
   "execution_count": 4,
   "metadata": {},
   "outputs": [],
   "source": [
    "arc_data.columns = ['key', 'start_heat', 'end_heat', 'active_pow', 'reactive_pow']"
   ]
  },
  {
   "cell_type": "code",
   "execution_count": 5,
   "metadata": {},
   "outputs": [
    {
     "name": "stdout",
     "output_type": "stream",
     "text": [
      "<class 'pandas.core.frame.DataFrame'>\n",
      "RangeIndex: 14876 entries, 0 to 14875\n",
      "Data columns (total 5 columns):\n",
      " #   Column        Non-Null Count  Dtype  \n",
      "---  ------        --------------  -----  \n",
      " 0   key           14876 non-null  int64  \n",
      " 1   start_heat    14876 non-null  object \n",
      " 2   end_heat      14876 non-null  object \n",
      " 3   active_pow    14876 non-null  float64\n",
      " 4   reactive_pow  14876 non-null  float64\n",
      "dtypes: float64(2), int64(1), object(2)\n",
      "memory usage: 581.2+ KB\n"
     ]
    }
   ],
   "source": [
    "arc_data.info()"
   ]
  },
  {
   "cell_type": "markdown",
   "metadata": {},
   "source": [
    "Пропуски в таблице отсутствуют. Мы видим, что столбцы \"начало\" и \"конец нагрева дугой\" содержат время, однако имеют универсальный тип данных \"object\". Целесообразно назначить им соответствующий dtype"
   ]
  },
  {
   "cell_type": "code",
   "execution_count": 6,
   "metadata": {},
   "outputs": [],
   "source": [
    "arc_data.loc[:, ['start_heat', 'end_heat']] = arc_data.loc[:, ['start_heat', 'end_heat']].astype('datetime64')"
   ]
  },
  {
   "cell_type": "code",
   "execution_count": 7,
   "metadata": {},
   "outputs": [
    {
     "data": {
      "text/html": [
       "<div>\n",
       "<style scoped>\n",
       "    .dataframe tbody tr th:only-of-type {\n",
       "        vertical-align: middle;\n",
       "    }\n",
       "\n",
       "    .dataframe tbody tr th {\n",
       "        vertical-align: top;\n",
       "    }\n",
       "\n",
       "    .dataframe thead th {\n",
       "        text-align: right;\n",
       "    }\n",
       "</style>\n",
       "<table border=\"1\" class=\"dataframe\">\n",
       "  <thead>\n",
       "    <tr style=\"text-align: right;\">\n",
       "      <th></th>\n",
       "      <th>key</th>\n",
       "      <th>active_pow</th>\n",
       "      <th>reactive_pow</th>\n",
       "    </tr>\n",
       "  </thead>\n",
       "  <tbody>\n",
       "    <tr>\n",
       "      <th>count</th>\n",
       "      <td>14876.000000</td>\n",
       "      <td>14876.000000</td>\n",
       "      <td>14876.000000</td>\n",
       "    </tr>\n",
       "    <tr>\n",
       "      <th>mean</th>\n",
       "      <td>1615.220422</td>\n",
       "      <td>0.670441</td>\n",
       "      <td>0.452592</td>\n",
       "    </tr>\n",
       "    <tr>\n",
       "      <th>std</th>\n",
       "      <td>934.571502</td>\n",
       "      <td>0.408159</td>\n",
       "      <td>5.878702</td>\n",
       "    </tr>\n",
       "    <tr>\n",
       "      <th>min</th>\n",
       "      <td>1.000000</td>\n",
       "      <td>0.030002</td>\n",
       "      <td>-715.504924</td>\n",
       "    </tr>\n",
       "    <tr>\n",
       "      <th>25%</th>\n",
       "      <td>806.000000</td>\n",
       "      <td>0.395297</td>\n",
       "      <td>0.290991</td>\n",
       "    </tr>\n",
       "    <tr>\n",
       "      <th>50%</th>\n",
       "      <td>1617.000000</td>\n",
       "      <td>0.555517</td>\n",
       "      <td>0.415962</td>\n",
       "    </tr>\n",
       "    <tr>\n",
       "      <th>75%</th>\n",
       "      <td>2429.000000</td>\n",
       "      <td>0.857034</td>\n",
       "      <td>0.637371</td>\n",
       "    </tr>\n",
       "    <tr>\n",
       "      <th>max</th>\n",
       "      <td>3241.000000</td>\n",
       "      <td>3.731596</td>\n",
       "      <td>2.676388</td>\n",
       "    </tr>\n",
       "  </tbody>\n",
       "</table>\n",
       "</div>"
      ],
      "text/plain": [
       "                key    active_pow  reactive_pow\n",
       "count  14876.000000  14876.000000  14876.000000\n",
       "mean    1615.220422      0.670441      0.452592\n",
       "std      934.571502      0.408159      5.878702\n",
       "min        1.000000      0.030002   -715.504924\n",
       "25%      806.000000      0.395297      0.290991\n",
       "50%     1617.000000      0.555517      0.415962\n",
       "75%     2429.000000      0.857034      0.637371\n",
       "max     3241.000000      3.731596      2.676388"
      ]
     },
     "execution_count": 7,
     "metadata": {},
     "output_type": "execute_result"
    }
   ],
   "source": [
    "arc_data.describe()"
   ]
  },
  {
   "cell_type": "markdown",
   "metadata": {},
   "source": [
    "Видим, что минимум реактивной мощности находится сильно ниже нуля. Реактивная мощность может быть отрицательной, однако данное значение очень похоже на выброс. Здесь нам поможет график:"
   ]
  },
  {
   "cell_type": "code",
   "execution_count": 8,
   "metadata": {},
   "outputs": [
    {
     "data": {
      "text/plain": [
       "<AxesSubplot:xlabel='reactive_pow'>"
      ]
     },
     "execution_count": 8,
     "metadata": {},
     "output_type": "execute_result"
    },
    {
     "data": {
      "image/png": "[encoded data removed]",
      "text/plain": [
       "<Figure size 432x288 with 1 Axes>"
      ]
     },
     "metadata": {
      "needs_background": "light"
     },
     "output_type": "display_data"
    }
   ],
   "source": [
    "sns.boxplot(x=arc_data.reactive_pow)"
   ]
  },
  {
   "cell_type": "markdown",
   "metadata": {},
   "source": [
    "Как видим, это классический выброс. Удалим его. Построим графики активной и реактивной мощностей без учета этого значения:"
   ]
  },
  {
   "cell_type": "code",
   "execution_count": 9,
   "metadata": {},
   "outputs": [],
   "source": [
    "arc_data = arc_data.query('reactive_pow > -700')"
   ]
  },
  {
   "cell_type": "code",
   "execution_count": 10,
   "metadata": {},
   "outputs": [
    {
     "data": {
      "image/png": "[encoded data removed]",
      "text/plain": [
       "<Figure size 720x288 with 2 Axes>"
      ]
     },
     "metadata": {
      "needs_background": "light"
     },
     "output_type": "display_data"
    }
   ],
   "source": [
    "plt.figure(figsize=(10,4))\n",
    "ax1 = plt.subplot(211)\n",
    "sns.boxplot(data=arc_data, x='reactive_pow')\n",
    "plt.title(\"Распределения активной и реактивной нагрузок\")\n",
    "plt.subplot(212, sharex=ax1)\n",
    "sns.boxplot(data=arc_data, x='active_pow')\n",
    "plt.show()"
   ]
  },
  {
   "cell_type": "markdown",
   "metadata": {},
   "source": [
    "Видим, что обычно мощность электродов составляет от 0.4 до 0.8, и в обычно активная мощность немного больше реактивной, что хорошо, поскольку реактивная мощность паразитна"
   ]
  },
  {
   "cell_type": "markdown",
   "metadata": {},
   "source": [
    "Создадим добавочный признак: длительность нагрева при каждой итерации"
   ]
  },
  {
   "cell_type": "code",
   "execution_count": 11,
   "metadata": {},
   "outputs": [],
   "source": [
    "arc_data['duration'] = (arc_data['end_heat'] - arc_data['start_heat']).apply(lambda x: x.seconds)"
   ]
  },
  {
   "cell_type": "code",
   "execution_count": 12,
   "metadata": {},
   "outputs": [
    {
     "data": {
      "text/html": [
       "<div>\n",
       "<style scoped>\n",
       "    .dataframe tbody tr th:only-of-type {\n",
       "        vertical-align: middle;\n",
       "    }\n",
       "\n",
       "    .dataframe tbody tr th {\n",
       "        vertical-align: top;\n",
       "    }\n",
       "\n",
       "    .dataframe thead th {\n",
       "        text-align: right;\n",
       "    }\n",
       "</style>\n",
       "<table border=\"1\" class=\"dataframe\">\n",
       "  <thead>\n",
       "    <tr style=\"text-align: right;\">\n",
       "      <th></th>\n",
       "      <th>key</th>\n",
       "      <th>start_heat</th>\n",
       "      <th>end_heat</th>\n",
       "      <th>active_pow</th>\n",
       "      <th>reactive_pow</th>\n",
       "      <th>duration</th>\n",
       "    </tr>\n",
       "  </thead>\n",
       "  <tbody>\n",
       "    <tr>\n",
       "      <th>0</th>\n",
       "      <td>1</td>\n",
       "      <td>2019-05-03 11:02:14</td>\n",
       "      <td>2019-05-03 11:06:02</td>\n",
       "      <td>0.976059</td>\n",
       "      <td>0.687084</td>\n",
       "      <td>228</td>\n",
       "    </tr>\n",
       "    <tr>\n",
       "      <th>1</th>\n",
       "      <td>1</td>\n",
       "      <td>2019-05-03 11:07:28</td>\n",
       "      <td>2019-05-03 11:10:33</td>\n",
       "      <td>0.805607</td>\n",
       "      <td>0.520285</td>\n",
       "      <td>185</td>\n",
       "    </tr>\n",
       "    <tr>\n",
       "      <th>2</th>\n",
       "      <td>1</td>\n",
       "      <td>2019-05-03 11:11:44</td>\n",
       "      <td>2019-05-03 11:14:36</td>\n",
       "      <td>0.744363</td>\n",
       "      <td>0.498805</td>\n",
       "      <td>172</td>\n",
       "    </tr>\n",
       "    <tr>\n",
       "      <th>3</th>\n",
       "      <td>1</td>\n",
       "      <td>2019-05-03 11:18:14</td>\n",
       "      <td>2019-05-03 11:24:19</td>\n",
       "      <td>1.659363</td>\n",
       "      <td>1.062669</td>\n",
       "      <td>365</td>\n",
       "    </tr>\n",
       "    <tr>\n",
       "      <th>4</th>\n",
       "      <td>1</td>\n",
       "      <td>2019-05-03 11:26:09</td>\n",
       "      <td>2019-05-03 11:28:37</td>\n",
       "      <td>0.692755</td>\n",
       "      <td>0.414397</td>\n",
       "      <td>148</td>\n",
       "    </tr>\n",
       "  </tbody>\n",
       "</table>\n",
       "</div>"
      ],
      "text/plain": [
       "   key          start_heat            end_heat  active_pow  reactive_pow  \\\n",
       "0    1 2019-05-03 11:02:14 2019-05-03 11:06:02    0.976059      0.687084   \n",
       "1    1 2019-05-03 11:07:28 2019-05-03 11:10:33    0.805607      0.520285   \n",
       "2    1 2019-05-03 11:11:44 2019-05-03 11:14:36    0.744363      0.498805   \n",
       "3    1 2019-05-03 11:18:14 2019-05-03 11:24:19    1.659363      1.062669   \n",
       "4    1 2019-05-03 11:26:09 2019-05-03 11:28:37    0.692755      0.414397   \n",
       "\n",
       "   duration  \n",
       "0       228  \n",
       "1       185  \n",
       "2       172  \n",
       "3       365  \n",
       "4       148  "
      ]
     },
     "execution_count": 12,
     "metadata": {},
     "output_type": "execute_result"
    }
   ],
   "source": [
    "arc_data.head()"
   ]
  },
  {
   "cell_type": "markdown",
   "metadata": {},
   "source": [
    "Теперь сгруппируем данные по номеру партии и вычислим сколько циклов было затрачено на каждую из них, а также общую \n",
    "активную и реактивную затраченную мощность"
   ]
  },
  {
   "cell_type": "code",
   "execution_count": 13,
   "metadata": {},
   "outputs": [],
   "source": [
    "arc_pivot = arc_data.pivot_table(index='key', values=['duration', 'active_pow', 'reactive_pow'], aggfunc=['count', 'sum'])\n",
    "arc_pivot.drop(arc_pivot.columns[[0,1]], axis=1, inplace=True)"
   ]
  },
  {
   "cell_type": "code",
   "execution_count": 14,
   "metadata": {},
   "outputs": [
    {
     "data": {
      "text/html": [
       "<div>\n",
       "<style scoped>\n",
       "    .dataframe tbody tr th:only-of-type {\n",
       "        vertical-align: middle;\n",
       "    }\n",
       "\n",
       "    .dataframe tbody tr th {\n",
       "        vertical-align: top;\n",
       "    }\n",
       "\n",
       "    .dataframe thead tr th {\n",
       "        text-align: left;\n",
       "    }\n",
       "\n",
       "    .dataframe thead tr:last-of-type th {\n",
       "        text-align: right;\n",
       "    }\n",
       "</style>\n",
       "<table border=\"1\" class=\"dataframe\">\n",
       "  <thead>\n",
       "    <tr>\n",
       "      <th></th>\n",
       "      <th>count</th>\n",
       "      <th colspan=\"3\" halign=\"left\">sum</th>\n",
       "    </tr>\n",
       "    <tr>\n",
       "      <th></th>\n",
       "      <th>reactive_pow</th>\n",
       "      <th>active_pow</th>\n",
       "      <th>duration</th>\n",
       "      <th>reactive_pow</th>\n",
       "    </tr>\n",
       "    <tr>\n",
       "      <th>key</th>\n",
       "      <th></th>\n",
       "      <th></th>\n",
       "      <th></th>\n",
       "      <th></th>\n",
       "    </tr>\n",
       "  </thead>\n",
       "  <tbody>\n",
       "    <tr>\n",
       "      <th>1</th>\n",
       "      <td>5</td>\n",
       "      <td>4.878147</td>\n",
       "      <td>1098</td>\n",
       "      <td>3.183241</td>\n",
       "    </tr>\n",
       "    <tr>\n",
       "      <th>2</th>\n",
       "      <td>4</td>\n",
       "      <td>3.052598</td>\n",
       "      <td>811</td>\n",
       "      <td>1.998112</td>\n",
       "    </tr>\n",
       "    <tr>\n",
       "      <th>3</th>\n",
       "      <td>5</td>\n",
       "      <td>2.525882</td>\n",
       "      <td>655</td>\n",
       "      <td>1.599076</td>\n",
       "    </tr>\n",
       "    <tr>\n",
       "      <th>4</th>\n",
       "      <td>4</td>\n",
       "      <td>3.209250</td>\n",
       "      <td>741</td>\n",
       "      <td>2.060298</td>\n",
       "    </tr>\n",
       "    <tr>\n",
       "      <th>5</th>\n",
       "      <td>4</td>\n",
       "      <td>3.347173</td>\n",
       "      <td>869</td>\n",
       "      <td>2.252643</td>\n",
       "    </tr>\n",
       "    <tr>\n",
       "      <th>6</th>\n",
       "      <td>4</td>\n",
       "      <td>3.955108</td>\n",
       "      <td>952</td>\n",
       "      <td>2.689175</td>\n",
       "    </tr>\n",
       "    <tr>\n",
       "      <th>7</th>\n",
       "      <td>4</td>\n",
       "      <td>2.547375</td>\n",
       "      <td>673</td>\n",
       "      <td>1.561295</td>\n",
       "    </tr>\n",
       "    <tr>\n",
       "      <th>8</th>\n",
       "      <td>4</td>\n",
       "      <td>3.762755</td>\n",
       "      <td>913</td>\n",
       "      <td>2.680698</td>\n",
       "    </tr>\n",
       "    <tr>\n",
       "      <th>9</th>\n",
       "      <td>5</td>\n",
       "      <td>2.081951</td>\n",
       "      <td>625</td>\n",
       "      <td>1.478671</td>\n",
       "    </tr>\n",
       "    <tr>\n",
       "      <th>10</th>\n",
       "      <td>6</td>\n",
       "      <td>2.923622</td>\n",
       "      <td>825</td>\n",
       "      <td>2.496116</td>\n",
       "    </tr>\n",
       "  </tbody>\n",
       "</table>\n",
       "</div>"
      ],
      "text/plain": [
       "           count        sum                      \n",
       "    reactive_pow active_pow duration reactive_pow\n",
       "key                                              \n",
       "1              5   4.878147     1098     3.183241\n",
       "2              4   3.052598      811     1.998112\n",
       "3              5   2.525882      655     1.599076\n",
       "4              4   3.209250      741     2.060298\n",
       "5              4   3.347173      869     2.252643\n",
       "6              4   3.955108      952     2.689175\n",
       "7              4   2.547375      673     1.561295\n",
       "8              4   3.762755      913     2.680698\n",
       "9              5   2.081951      625     1.478671\n",
       "10             6   2.923622      825     2.496116"
      ]
     },
     "execution_count": 14,
     "metadata": {},
     "output_type": "execute_result"
    }
   ],
   "source": [
    "arc_pivot.head(10)"
   ]
  },
  {
   "cell_type": "markdown",
   "metadata": {},
   "source": [
    "Избавимся от мультииндекса и назначим столбцам более удобные названия:"
   ]
  },
  {
   "cell_type": "code",
   "execution_count": 15,
   "metadata": {},
   "outputs": [],
   "source": [
    "arc_pivot.columns = ['cycles', 'sum_active', 'sum_time', 'sum_reactive']"
   ]
  },
  {
   "cell_type": "code",
   "execution_count": 16,
   "metadata": {},
   "outputs": [
    {
     "data": {
      "text/html": [
       "<div>\n",
       "<style scoped>\n",
       "    .dataframe tbody tr th:only-of-type {\n",
       "        vertical-align: middle;\n",
       "    }\n",
       "\n",
       "    .dataframe tbody tr th {\n",
       "        vertical-align: top;\n",
       "    }\n",
       "\n",
       "    .dataframe thead th {\n",
       "        text-align: right;\n",
       "    }\n",
       "</style>\n",
       "<table border=\"1\" class=\"dataframe\">\n",
       "  <thead>\n",
       "    <tr style=\"text-align: right;\">\n",
       "      <th></th>\n",
       "      <th>cycles</th>\n",
       "      <th>sum_active</th>\n",
       "      <th>sum_time</th>\n",
       "      <th>sum_reactive</th>\n",
       "    </tr>\n",
       "  </thead>\n",
       "  <tbody>\n",
       "    <tr>\n",
       "      <th>count</th>\n",
       "      <td>3214.000000</td>\n",
       "      <td>3214.000000</td>\n",
       "      <td>3214.000000</td>\n",
       "      <td>3214.000000</td>\n",
       "    </tr>\n",
       "    <tr>\n",
       "      <th>mean</th>\n",
       "      <td>4.628189</td>\n",
       "      <td>3.102984</td>\n",
       "      <td>794.545115</td>\n",
       "      <td>2.317442</td>\n",
       "    </tr>\n",
       "    <tr>\n",
       "      <th>std</th>\n",
       "      <td>1.608866</td>\n",
       "      <td>1.397556</td>\n",
       "      <td>332.491076</td>\n",
       "      <td>1.054316</td>\n",
       "    </tr>\n",
       "    <tr>\n",
       "      <th>min</th>\n",
       "      <td>1.000000</td>\n",
       "      <td>0.186226</td>\n",
       "      <td>57.000000</td>\n",
       "      <td>0.158247</td>\n",
       "    </tr>\n",
       "    <tr>\n",
       "      <th>25%</th>\n",
       "      <td>4.000000</td>\n",
       "      <td>2.126339</td>\n",
       "      <td>571.000000</td>\n",
       "      <td>1.599018</td>\n",
       "    </tr>\n",
       "    <tr>\n",
       "      <th>50%</th>\n",
       "      <td>4.000000</td>\n",
       "      <td>2.990537</td>\n",
       "      <td>770.000000</td>\n",
       "      <td>2.229869</td>\n",
       "    </tr>\n",
       "    <tr>\n",
       "      <th>75%</th>\n",
       "      <td>6.000000</td>\n",
       "      <td>3.901147</td>\n",
       "      <td>983.000000</td>\n",
       "      <td>2.899141</td>\n",
       "    </tr>\n",
       "    <tr>\n",
       "      <th>max</th>\n",
       "      <td>16.000000</td>\n",
       "      <td>17.496497</td>\n",
       "      <td>4189.000000</td>\n",
       "      <td>12.587990</td>\n",
       "    </tr>\n",
       "  </tbody>\n",
       "</table>\n",
       "</div>"
      ],
      "text/plain": [
       "            cycles   sum_active     sum_time  sum_reactive\n",
       "count  3214.000000  3214.000000  3214.000000   3214.000000\n",
       "mean      4.628189     3.102984   794.545115      2.317442\n",
       "std       1.608866     1.397556   332.491076      1.054316\n",
       "min       1.000000     0.186226    57.000000      0.158247\n",
       "25%       4.000000     2.126339   571.000000      1.599018\n",
       "50%       4.000000     2.990537   770.000000      2.229869\n",
       "75%       6.000000     3.901147   983.000000      2.899141\n",
       "max      16.000000    17.496497  4189.000000     12.587990"
      ]
     },
     "execution_count": 16,
     "metadata": {},
     "output_type": "execute_result"
    }
   ],
   "source": [
    "arc_pivot.describe()"
   ]
  },
  {
   "cell_type": "markdown",
   "metadata": {},
   "source": [
    "### Данные о подаче сыпучих материалов"
   ]
  },
  {
   "cell_type": "markdown",
   "metadata": {},
   "source": [
    "Перейдем к данным о подаче сыпучих материалов"
   ]
  },
  {
   "cell_type": "code",
   "execution_count": 17,
   "metadata": {},
   "outputs": [
    {
     "data": {
      "text/html": [
       "<div>\n",
       "<style scoped>\n",
       "    .dataframe tbody tr th:only-of-type {\n",
       "        vertical-align: middle;\n",
       "    }\n",
       "\n",
       "    .dataframe tbody tr th {\n",
       "        vertical-align: top;\n",
       "    }\n",
       "\n",
       "    .dataframe thead th {\n",
       "        text-align: right;\n",
       "    }\n",
       "</style>\n",
       "<table border=\"1\" class=\"dataframe\">\n",
       "  <thead>\n",
       "    <tr style=\"text-align: right;\">\n",
       "      <th></th>\n",
       "      <th>key</th>\n",
       "      <th>Bulk 1</th>\n",
       "      <th>Bulk 2</th>\n",
       "      <th>Bulk 3</th>\n",
       "      <th>Bulk 4</th>\n",
       "      <th>Bulk 5</th>\n",
       "      <th>Bulk 6</th>\n",
       "      <th>Bulk 7</th>\n",
       "      <th>Bulk 8</th>\n",
       "      <th>Bulk 9</th>\n",
       "      <th>Bulk 10</th>\n",
       "      <th>Bulk 11</th>\n",
       "      <th>Bulk 12</th>\n",
       "      <th>Bulk 13</th>\n",
       "      <th>Bulk 14</th>\n",
       "      <th>Bulk 15</th>\n",
       "    </tr>\n",
       "  </thead>\n",
       "  <tbody>\n",
       "    <tr>\n",
       "      <th>0</th>\n",
       "      <td>1</td>\n",
       "      <td>NaN</td>\n",
       "      <td>NaN</td>\n",
       "      <td>NaN</td>\n",
       "      <td>43.0</td>\n",
       "      <td>NaN</td>\n",
       "      <td>NaN</td>\n",
       "      <td>NaN</td>\n",
       "      <td>NaN</td>\n",
       "      <td>NaN</td>\n",
       "      <td>NaN</td>\n",
       "      <td>NaN</td>\n",
       "      <td>206.0</td>\n",
       "      <td>NaN</td>\n",
       "      <td>150.0</td>\n",
       "      <td>154.0</td>\n",
       "    </tr>\n",
       "    <tr>\n",
       "      <th>1</th>\n",
       "      <td>2</td>\n",
       "      <td>NaN</td>\n",
       "      <td>NaN</td>\n",
       "      <td>NaN</td>\n",
       "      <td>73.0</td>\n",
       "      <td>NaN</td>\n",
       "      <td>NaN</td>\n",
       "      <td>NaN</td>\n",
       "      <td>NaN</td>\n",
       "      <td>NaN</td>\n",
       "      <td>NaN</td>\n",
       "      <td>NaN</td>\n",
       "      <td>206.0</td>\n",
       "      <td>NaN</td>\n",
       "      <td>149.0</td>\n",
       "      <td>154.0</td>\n",
       "    </tr>\n",
       "    <tr>\n",
       "      <th>2</th>\n",
       "      <td>3</td>\n",
       "      <td>NaN</td>\n",
       "      <td>NaN</td>\n",
       "      <td>NaN</td>\n",
       "      <td>34.0</td>\n",
       "      <td>NaN</td>\n",
       "      <td>NaN</td>\n",
       "      <td>NaN</td>\n",
       "      <td>NaN</td>\n",
       "      <td>NaN</td>\n",
       "      <td>NaN</td>\n",
       "      <td>NaN</td>\n",
       "      <td>205.0</td>\n",
       "      <td>NaN</td>\n",
       "      <td>152.0</td>\n",
       "      <td>153.0</td>\n",
       "    </tr>\n",
       "    <tr>\n",
       "      <th>3</th>\n",
       "      <td>4</td>\n",
       "      <td>NaN</td>\n",
       "      <td>NaN</td>\n",
       "      <td>NaN</td>\n",
       "      <td>81.0</td>\n",
       "      <td>NaN</td>\n",
       "      <td>NaN</td>\n",
       "      <td>NaN</td>\n",
       "      <td>NaN</td>\n",
       "      <td>NaN</td>\n",
       "      <td>NaN</td>\n",
       "      <td>NaN</td>\n",
       "      <td>207.0</td>\n",
       "      <td>NaN</td>\n",
       "      <td>153.0</td>\n",
       "      <td>154.0</td>\n",
       "    </tr>\n",
       "    <tr>\n",
       "      <th>4</th>\n",
       "      <td>5</td>\n",
       "      <td>NaN</td>\n",
       "      <td>NaN</td>\n",
       "      <td>NaN</td>\n",
       "      <td>78.0</td>\n",
       "      <td>NaN</td>\n",
       "      <td>NaN</td>\n",
       "      <td>NaN</td>\n",
       "      <td>NaN</td>\n",
       "      <td>NaN</td>\n",
       "      <td>NaN</td>\n",
       "      <td>NaN</td>\n",
       "      <td>203.0</td>\n",
       "      <td>NaN</td>\n",
       "      <td>151.0</td>\n",
       "      <td>152.0</td>\n",
       "    </tr>\n",
       "  </tbody>\n",
       "</table>\n",
       "</div>"
      ],
      "text/plain": [
       "   key  Bulk 1  Bulk 2  Bulk 3  Bulk 4  Bulk 5  Bulk 6  Bulk 7  Bulk 8  \\\n",
       "0    1     NaN     NaN     NaN    43.0     NaN     NaN     NaN     NaN   \n",
       "1    2     NaN     NaN     NaN    73.0     NaN     NaN     NaN     NaN   \n",
       "2    3     NaN     NaN     NaN    34.0     NaN     NaN     NaN     NaN   \n",
       "3    4     NaN     NaN     NaN    81.0     NaN     NaN     NaN     NaN   \n",
       "4    5     NaN     NaN     NaN    78.0     NaN     NaN     NaN     NaN   \n",
       "\n",
       "   Bulk 9  Bulk 10  Bulk 11  Bulk 12  Bulk 13  Bulk 14  Bulk 15  \n",
       "0     NaN      NaN      NaN    206.0      NaN    150.0    154.0  \n",
       "1     NaN      NaN      NaN    206.0      NaN    149.0    154.0  \n",
       "2     NaN      NaN      NaN    205.0      NaN    152.0    153.0  \n",
       "3     NaN      NaN      NaN    207.0      NaN    153.0    154.0  \n",
       "4     NaN      NaN      NaN    203.0      NaN    151.0    152.0  "
      ]
     },
     "execution_count": 17,
     "metadata": {},
     "output_type": "execute_result"
    }
   ],
   "source": [
    "bulk_data.head()"
   ]
  },
  {
   "cell_type": "markdown",
   "metadata": {},
   "source": [
    "Меняем названия столбцов:"
   ]
  },
  {
   "cell_type": "code",
   "execution_count": 18,
   "metadata": {},
   "outputs": [],
   "source": [
    "bulk_data.columns = [re.sub(' ', '_', column).lower() for column in bulk_data.columns]"
   ]
  },
  {
   "cell_type": "code",
   "execution_count": 19,
   "metadata": {},
   "outputs": [
    {
     "name": "stdout",
     "output_type": "stream",
     "text": [
      "<class 'pandas.core.frame.DataFrame'>\n",
      "RangeIndex: 3129 entries, 0 to 3128\n",
      "Data columns (total 16 columns):\n",
      " #   Column   Non-Null Count  Dtype  \n",
      "---  ------   --------------  -----  \n",
      " 0   key      3129 non-null   int64  \n",
      " 1   bulk_1   252 non-null    float64\n",
      " 2   bulk_2   22 non-null     float64\n",
      " 3   bulk_3   1298 non-null   float64\n",
      " 4   bulk_4   1014 non-null   float64\n",
      " 5   bulk_5   77 non-null     float64\n",
      " 6   bulk_6   576 non-null    float64\n",
      " 7   bulk_7   25 non-null     float64\n",
      " 8   bulk_8   1 non-null      float64\n",
      " 9   bulk_9   19 non-null     float64\n",
      " 10  bulk_10  176 non-null    float64\n",
      " 11  bulk_11  177 non-null    float64\n",
      " 12  bulk_12  2450 non-null   float64\n",
      " 13  bulk_13  18 non-null     float64\n",
      " 14  bulk_14  2806 non-null   float64\n",
      " 15  bulk_15  2248 non-null   float64\n",
      "dtypes: float64(15), int64(1)\n",
      "memory usage: 391.2 KB\n"
     ]
    }
   ],
   "source": [
    "bulk_data.info()"
   ]
  },
  {
   "cell_type": "markdown",
   "metadata": {},
   "source": [
    "Заметим, что в данных очень много пропусков. В данном случае это скорее всего означает, что конкретная добавка не использовался в конкретной партии, что дает нам основания заполнить их нулями"
   ]
  },
  {
   "cell_type": "code",
   "execution_count": 20,
   "metadata": {},
   "outputs": [],
   "source": [
    "bulk_data.fillna(0, inplace=True)"
   ]
  },
  {
   "cell_type": "markdown",
   "metadata": {},
   "source": [
    "Временн*ы*е таблицы (bulk_time, wire_time) вообще, на мой взляд, использовать в модели необязательно, их рассматривать не будем"
   ]
  },
  {
   "cell_type": "markdown",
   "metadata": {},
   "source": [
    "### Данные о продувке сплава газом"
   ]
  },
  {
   "cell_type": "code",
   "execution_count": 21,
   "metadata": {},
   "outputs": [
    {
     "name": "stdout",
     "output_type": "stream",
     "text": [
      "<class 'pandas.core.frame.DataFrame'>\n",
      "RangeIndex: 3239 entries, 0 to 3238\n",
      "Data columns (total 2 columns):\n",
      " #   Column  Non-Null Count  Dtype  \n",
      "---  ------  --------------  -----  \n",
      " 0   key     3239 non-null   int64  \n",
      " 1   Газ 1   3239 non-null   float64\n",
      "dtypes: float64(1), int64(1)\n",
      "memory usage: 50.7 KB\n"
     ]
    }
   ],
   "source": [
    "gas_data.info()"
   ]
  },
  {
   "cell_type": "code",
   "execution_count": 22,
   "metadata": {},
   "outputs": [],
   "source": [
    "gas_data.rename({'Газ 1': 'gas'}, axis=1, inplace=True)"
   ]
  },
  {
   "cell_type": "code",
   "execution_count": 23,
   "metadata": {},
   "outputs": [
    {
     "data": {
      "text/html": [
       "<div>\n",
       "<style scoped>\n",
       "    .dataframe tbody tr th:only-of-type {\n",
       "        vertical-align: middle;\n",
       "    }\n",
       "\n",
       "    .dataframe tbody tr th {\n",
       "        vertical-align: top;\n",
       "    }\n",
       "\n",
       "    .dataframe thead th {\n",
       "        text-align: right;\n",
       "    }\n",
       "</style>\n",
       "<table border=\"1\" class=\"dataframe\">\n",
       "  <thead>\n",
       "    <tr style=\"text-align: right;\">\n",
       "      <th></th>\n",
       "      <th>key</th>\n",
       "      <th>gas</th>\n",
       "    </tr>\n",
       "  </thead>\n",
       "  <tbody>\n",
       "    <tr>\n",
       "      <th>0</th>\n",
       "      <td>1</td>\n",
       "      <td>29.749986</td>\n",
       "    </tr>\n",
       "    <tr>\n",
       "      <th>1</th>\n",
       "      <td>2</td>\n",
       "      <td>12.555561</td>\n",
       "    </tr>\n",
       "    <tr>\n",
       "      <th>2</th>\n",
       "      <td>3</td>\n",
       "      <td>28.554793</td>\n",
       "    </tr>\n",
       "    <tr>\n",
       "      <th>3</th>\n",
       "      <td>4</td>\n",
       "      <td>18.841219</td>\n",
       "    </tr>\n",
       "    <tr>\n",
       "      <th>4</th>\n",
       "      <td>5</td>\n",
       "      <td>5.413692</td>\n",
       "    </tr>\n",
       "  </tbody>\n",
       "</table>\n",
       "</div>"
      ],
      "text/plain": [
       "   key        gas\n",
       "0    1  29.749986\n",
       "1    2  12.555561\n",
       "2    3  28.554793\n",
       "3    4  18.841219\n",
       "4    5   5.413692"
      ]
     },
     "execution_count": 23,
     "metadata": {},
     "output_type": "execute_result"
    }
   ],
   "source": [
    "gas_data.head()"
   ]
  },
  {
   "cell_type": "code",
   "execution_count": 24,
   "metadata": {},
   "outputs": [
    {
     "data": {
      "text/html": [
       "<div>\n",
       "<style scoped>\n",
       "    .dataframe tbody tr th:only-of-type {\n",
       "        vertical-align: middle;\n",
       "    }\n",
       "\n",
       "    .dataframe tbody tr th {\n",
       "        vertical-align: top;\n",
       "    }\n",
       "\n",
       "    .dataframe thead th {\n",
       "        text-align: right;\n",
       "    }\n",
       "</style>\n",
       "<table border=\"1\" class=\"dataframe\">\n",
       "  <thead>\n",
       "    <tr style=\"text-align: right;\">\n",
       "      <th></th>\n",
       "      <th>key</th>\n",
       "      <th>gas</th>\n",
       "    </tr>\n",
       "  </thead>\n",
       "  <tbody>\n",
       "    <tr>\n",
       "      <th>count</th>\n",
       "      <td>3239.000000</td>\n",
       "      <td>3239.000000</td>\n",
       "    </tr>\n",
       "    <tr>\n",
       "      <th>mean</th>\n",
       "      <td>1621.861377</td>\n",
       "      <td>11.002062</td>\n",
       "    </tr>\n",
       "    <tr>\n",
       "      <th>std</th>\n",
       "      <td>935.386334</td>\n",
       "      <td>6.220327</td>\n",
       "    </tr>\n",
       "    <tr>\n",
       "      <th>min</th>\n",
       "      <td>1.000000</td>\n",
       "      <td>0.008399</td>\n",
       "    </tr>\n",
       "    <tr>\n",
       "      <th>25%</th>\n",
       "      <td>812.500000</td>\n",
       "      <td>7.043089</td>\n",
       "    </tr>\n",
       "    <tr>\n",
       "      <th>50%</th>\n",
       "      <td>1622.000000</td>\n",
       "      <td>9.836267</td>\n",
       "    </tr>\n",
       "    <tr>\n",
       "      <th>75%</th>\n",
       "      <td>2431.500000</td>\n",
       "      <td>13.769915</td>\n",
       "    </tr>\n",
       "    <tr>\n",
       "      <th>max</th>\n",
       "      <td>3241.000000</td>\n",
       "      <td>77.995040</td>\n",
       "    </tr>\n",
       "  </tbody>\n",
       "</table>\n",
       "</div>"
      ],
      "text/plain": [
       "               key          gas\n",
       "count  3239.000000  3239.000000\n",
       "mean   1621.861377    11.002062\n",
       "std     935.386334     6.220327\n",
       "min       1.000000     0.008399\n",
       "25%     812.500000     7.043089\n",
       "50%    1622.000000     9.836267\n",
       "75%    2431.500000    13.769915\n",
       "max    3241.000000    77.995040"
      ]
     },
     "execution_count": 24,
     "metadata": {},
     "output_type": "execute_result"
    }
   ],
   "source": [
    "gas_data.describe()"
   ]
  },
  {
   "cell_type": "markdown",
   "metadata": {},
   "source": [
    "### Данные о проволочных материалах"
   ]
  },
  {
   "cell_type": "markdown",
   "metadata": {},
   "source": [
    "Рассмотрим таблицу с данными:"
   ]
  },
  {
   "cell_type": "code",
   "execution_count": 25,
   "metadata": {},
   "outputs": [
    {
     "data": {
      "text/html": [
       "<div>\n",
       "<style scoped>\n",
       "    .dataframe tbody tr th:only-of-type {\n",
       "        vertical-align: middle;\n",
       "    }\n",
       "\n",
       "    .dataframe tbody tr th {\n",
       "        vertical-align: top;\n",
       "    }\n",
       "\n",
       "    .dataframe thead th {\n",
       "        text-align: right;\n",
       "    }\n",
       "</style>\n",
       "<table border=\"1\" class=\"dataframe\">\n",
       "  <thead>\n",
       "    <tr style=\"text-align: right;\">\n",
       "      <th></th>\n",
       "      <th>key</th>\n",
       "      <th>Wire 1</th>\n",
       "      <th>Wire 2</th>\n",
       "      <th>Wire 3</th>\n",
       "      <th>Wire 4</th>\n",
       "      <th>Wire 5</th>\n",
       "      <th>Wire 6</th>\n",
       "      <th>Wire 7</th>\n",
       "      <th>Wire 8</th>\n",
       "      <th>Wire 9</th>\n",
       "    </tr>\n",
       "  </thead>\n",
       "  <tbody>\n",
       "    <tr>\n",
       "      <th>0</th>\n",
       "      <td>1</td>\n",
       "      <td>60.059998</td>\n",
       "      <td>NaN</td>\n",
       "      <td>NaN</td>\n",
       "      <td>NaN</td>\n",
       "      <td>NaN</td>\n",
       "      <td>NaN</td>\n",
       "      <td>NaN</td>\n",
       "      <td>NaN</td>\n",
       "      <td>NaN</td>\n",
       "    </tr>\n",
       "    <tr>\n",
       "      <th>1</th>\n",
       "      <td>2</td>\n",
       "      <td>96.052315</td>\n",
       "      <td>NaN</td>\n",
       "      <td>NaN</td>\n",
       "      <td>NaN</td>\n",
       "      <td>NaN</td>\n",
       "      <td>NaN</td>\n",
       "      <td>NaN</td>\n",
       "      <td>NaN</td>\n",
       "      <td>NaN</td>\n",
       "    </tr>\n",
       "    <tr>\n",
       "      <th>2</th>\n",
       "      <td>3</td>\n",
       "      <td>91.160157</td>\n",
       "      <td>NaN</td>\n",
       "      <td>NaN</td>\n",
       "      <td>NaN</td>\n",
       "      <td>NaN</td>\n",
       "      <td>NaN</td>\n",
       "      <td>NaN</td>\n",
       "      <td>NaN</td>\n",
       "      <td>NaN</td>\n",
       "    </tr>\n",
       "    <tr>\n",
       "      <th>3</th>\n",
       "      <td>4</td>\n",
       "      <td>89.063515</td>\n",
       "      <td>NaN</td>\n",
       "      <td>NaN</td>\n",
       "      <td>NaN</td>\n",
       "      <td>NaN</td>\n",
       "      <td>NaN</td>\n",
       "      <td>NaN</td>\n",
       "      <td>NaN</td>\n",
       "      <td>NaN</td>\n",
       "    </tr>\n",
       "    <tr>\n",
       "      <th>4</th>\n",
       "      <td>5</td>\n",
       "      <td>89.238236</td>\n",
       "      <td>9.11456</td>\n",
       "      <td>NaN</td>\n",
       "      <td>NaN</td>\n",
       "      <td>NaN</td>\n",
       "      <td>NaN</td>\n",
       "      <td>NaN</td>\n",
       "      <td>NaN</td>\n",
       "      <td>NaN</td>\n",
       "    </tr>\n",
       "  </tbody>\n",
       "</table>\n",
       "</div>"
      ],
      "text/plain": [
       "   key     Wire 1   Wire 2  Wire 3  Wire 4  Wire 5  Wire 6  Wire 7  Wire 8  \\\n",
       "0    1  60.059998      NaN     NaN     NaN     NaN     NaN     NaN     NaN   \n",
       "1    2  96.052315      NaN     NaN     NaN     NaN     NaN     NaN     NaN   \n",
       "2    3  91.160157      NaN     NaN     NaN     NaN     NaN     NaN     NaN   \n",
       "3    4  89.063515      NaN     NaN     NaN     NaN     NaN     NaN     NaN   \n",
       "4    5  89.238236  9.11456     NaN     NaN     NaN     NaN     NaN     NaN   \n",
       "\n",
       "   Wire 9  \n",
       "0     NaN  \n",
       "1     NaN  \n",
       "2     NaN  \n",
       "3     NaN  \n",
       "4     NaN  "
      ]
     },
     "execution_count": 25,
     "metadata": {},
     "output_type": "execute_result"
    }
   ],
   "source": [
    "wire_data.head()"
   ]
  },
  {
   "cell_type": "code",
   "execution_count": 26,
   "metadata": {},
   "outputs": [],
   "source": [
    "wire_data.columns = [re.sub(' ', '_', column).lower() for column in wire_data.columns]"
   ]
  },
  {
   "cell_type": "code",
   "execution_count": 27,
   "metadata": {},
   "outputs": [
    {
     "name": "stdout",
     "output_type": "stream",
     "text": [
      "<class 'pandas.core.frame.DataFrame'>\n",
      "RangeIndex: 3081 entries, 0 to 3080\n",
      "Data columns (total 10 columns):\n",
      " #   Column  Non-Null Count  Dtype  \n",
      "---  ------  --------------  -----  \n",
      " 0   key     3081 non-null   int64  \n",
      " 1   wire_1  3055 non-null   float64\n",
      " 2   wire_2  1079 non-null   float64\n",
      " 3   wire_3  63 non-null     float64\n",
      " 4   wire_4  14 non-null     float64\n",
      " 5   wire_5  1 non-null      float64\n",
      " 6   wire_6  73 non-null     float64\n",
      " 7   wire_7  11 non-null     float64\n",
      " 8   wire_8  19 non-null     float64\n",
      " 9   wire_9  29 non-null     float64\n",
      "dtypes: float64(9), int64(1)\n",
      "memory usage: 240.8 KB\n"
     ]
    }
   ],
   "source": [
    "wire_data.info()"
   ]
  },
  {
   "cell_type": "markdown",
   "metadata": {},
   "source": [
    "В отношении количества и природы пропусков данные о проволочных матриалах не отличаются от сыпучих, поэтому для их заполнения применим тот же подход:"
   ]
  },
  {
   "cell_type": "code",
   "execution_count": 28,
   "metadata": {},
   "outputs": [],
   "source": [
    "wire_data.fillna(0, inplace=True)"
   ]
  },
  {
   "cell_type": "markdown",
   "metadata": {},
   "source": [
    "### Данные о результатах измерения температуры"
   ]
  },
  {
   "cell_type": "code",
   "execution_count": 29,
   "metadata": {},
   "outputs": [
    {
     "name": "stdout",
     "output_type": "stream",
     "text": [
      "<class 'pandas.core.frame.DataFrame'>\n",
      "RangeIndex: 15907 entries, 0 to 15906\n",
      "Data columns (total 3 columns):\n",
      " #   Column        Non-Null Count  Dtype  \n",
      "---  ------        --------------  -----  \n",
      " 0   key           15907 non-null  int64  \n",
      " 1   Время замера  15907 non-null  object \n",
      " 2   Температура   13006 non-null  float64\n",
      "dtypes: float64(1), int64(1), object(1)\n",
      "memory usage: 372.9+ KB\n"
     ]
    }
   ],
   "source": [
    "temp_data.info()"
   ]
  },
  {
   "cell_type": "markdown",
   "metadata": {},
   "source": [
    "Переименуем колонки, а столбцец со временем сконвертируем в соответствующий формат"
   ]
  },
  {
   "cell_type": "code",
   "execution_count": 30,
   "metadata": {},
   "outputs": [],
   "source": [
    "temp_data.columns = ['key', 'time', 'temp']\n",
    "temp_data.loc[:, 'time'] = pd.to_datetime(temp_data.loc[:, 'time'])"
   ]
  },
  {
   "cell_type": "code",
   "execution_count": 31,
   "metadata": {},
   "outputs": [
    {
     "data": {
      "text/html": [
       "<div>\n",
       "<style scoped>\n",
       "    .dataframe tbody tr th:only-of-type {\n",
       "        vertical-align: middle;\n",
       "    }\n",
       "\n",
       "    .dataframe tbody tr th {\n",
       "        vertical-align: top;\n",
       "    }\n",
       "\n",
       "    .dataframe thead th {\n",
       "        text-align: right;\n",
       "    }\n",
       "</style>\n",
       "<table border=\"1\" class=\"dataframe\">\n",
       "  <thead>\n",
       "    <tr style=\"text-align: right;\">\n",
       "      <th></th>\n",
       "      <th>key</th>\n",
       "      <th>time</th>\n",
       "      <th>temp</th>\n",
       "    </tr>\n",
       "  </thead>\n",
       "  <tbody>\n",
       "    <tr>\n",
       "      <th>0</th>\n",
       "      <td>1</td>\n",
       "      <td>2019-05-03 11:16:18</td>\n",
       "      <td>1571.0</td>\n",
       "    </tr>\n",
       "    <tr>\n",
       "      <th>1</th>\n",
       "      <td>1</td>\n",
       "      <td>2019-05-03 11:25:53</td>\n",
       "      <td>1604.0</td>\n",
       "    </tr>\n",
       "    <tr>\n",
       "      <th>2</th>\n",
       "      <td>1</td>\n",
       "      <td>2019-05-03 11:29:11</td>\n",
       "      <td>1618.0</td>\n",
       "    </tr>\n",
       "    <tr>\n",
       "      <th>3</th>\n",
       "      <td>1</td>\n",
       "      <td>2019-05-03 11:30:01</td>\n",
       "      <td>1601.0</td>\n",
       "    </tr>\n",
       "    <tr>\n",
       "      <th>4</th>\n",
       "      <td>1</td>\n",
       "      <td>2019-05-03 11:30:39</td>\n",
       "      <td>1613.0</td>\n",
       "    </tr>\n",
       "  </tbody>\n",
       "</table>\n",
       "</div>"
      ],
      "text/plain": [
       "   key                time    temp\n",
       "0    1 2019-05-03 11:16:18  1571.0\n",
       "1    1 2019-05-03 11:25:53  1604.0\n",
       "2    1 2019-05-03 11:29:11  1618.0\n",
       "3    1 2019-05-03 11:30:01  1601.0\n",
       "4    1 2019-05-03 11:30:39  1613.0"
      ]
     },
     "execution_count": 31,
     "metadata": {},
     "output_type": "execute_result"
    }
   ],
   "source": [
    "temp_data.head()"
   ]
  },
  {
   "cell_type": "markdown",
   "metadata": {},
   "source": [
    "В данных присутствуют пропуски, в том числе отсутствует измеренная температура в последнем цикле у многих партий, например:"
   ]
  },
  {
   "cell_type": "code",
   "execution_count": 32,
   "metadata": {},
   "outputs": [
    {
     "data": {
      "text/html": [
       "<div>\n",
       "<style scoped>\n",
       "    .dataframe tbody tr th:only-of-type {\n",
       "        vertical-align: middle;\n",
       "    }\n",
       "\n",
       "    .dataframe tbody tr th {\n",
       "        vertical-align: top;\n",
       "    }\n",
       "\n",
       "    .dataframe thead th {\n",
       "        text-align: right;\n",
       "    }\n",
       "</style>\n",
       "<table border=\"1\" class=\"dataframe\">\n",
       "  <thead>\n",
       "    <tr style=\"text-align: right;\">\n",
       "      <th></th>\n",
       "      <th>key</th>\n",
       "      <th>time</th>\n",
       "      <th>temp</th>\n",
       "    </tr>\n",
       "  </thead>\n",
       "  <tbody>\n",
       "    <tr>\n",
       "      <th>12267</th>\n",
       "      <td>2500</td>\n",
       "      <td>2019-08-06 03:11:31</td>\n",
       "      <td>1539.0</td>\n",
       "    </tr>\n",
       "    <tr>\n",
       "      <th>12268</th>\n",
       "      <td>2500</td>\n",
       "      <td>2019-08-06 03:24:43</td>\n",
       "      <td>NaN</td>\n",
       "    </tr>\n",
       "    <tr>\n",
       "      <th>12269</th>\n",
       "      <td>2500</td>\n",
       "      <td>2019-08-06 03:25:16</td>\n",
       "      <td>NaN</td>\n",
       "    </tr>\n",
       "    <tr>\n",
       "      <th>12270</th>\n",
       "      <td>2500</td>\n",
       "      <td>2019-08-06 03:28:21</td>\n",
       "      <td>NaN</td>\n",
       "    </tr>\n",
       "  </tbody>\n",
       "</table>\n",
       "</div>"
      ],
      "text/plain": [
       "        key                time    temp\n",
       "12267  2500 2019-08-06 03:11:31  1539.0\n",
       "12268  2500 2019-08-06 03:24:43     NaN\n",
       "12269  2500 2019-08-06 03:25:16     NaN\n",
       "12270  2500 2019-08-06 03:28:21     NaN"
      ]
     },
     "execution_count": 32,
     "metadata": {},
     "output_type": "execute_result"
    }
   ],
   "source": [
    "temp_data[temp_data.key == 2500]"
   ]
  },
  {
   "cell_type": "markdown",
   "metadata": {},
   "source": [
    "Эти данные не получится использовать для обучения модели, чуть ниже мы увидим, почему. Пока просто сгруппируем данные по партиям, чтобы получить первое и последнее измерение температуры для каждой из них"
   ]
  },
  {
   "cell_type": "code",
   "execution_count": 33,
   "metadata": {},
   "outputs": [],
   "source": [
    "batch_last_temp = temp_data.groupby('key').last()\n",
    "batch_first_temp = temp_data.groupby('key').first()\n",
    "batch_last_temp = batch_last_temp.reset_index()\n",
    "batch_first_temp = batch_first_temp.reset_index()"
   ]
  },
  {
   "cell_type": "markdown",
   "metadata": {},
   "source": [
    "Объединим получившиеся таблицы в одну"
   ]
  },
  {
   "cell_type": "code",
   "execution_count": 34,
   "metadata": {},
   "outputs": [],
   "source": [
    "batch_temp = pd.merge(batch_first_temp, batch_last_temp, on='key', suffixes=['_first', '_last'])"
   ]
  },
  {
   "cell_type": "code",
   "execution_count": 35,
   "metadata": {},
   "outputs": [
    {
     "data": {
      "text/html": [
       "<div>\n",
       "<style scoped>\n",
       "    .dataframe tbody tr th:only-of-type {\n",
       "        vertical-align: middle;\n",
       "    }\n",
       "\n",
       "    .dataframe tbody tr th {\n",
       "        vertical-align: top;\n",
       "    }\n",
       "\n",
       "    .dataframe thead th {\n",
       "        text-align: right;\n",
       "    }\n",
       "</style>\n",
       "<table border=\"1\" class=\"dataframe\">\n",
       "  <thead>\n",
       "    <tr style=\"text-align: right;\">\n",
       "      <th></th>\n",
       "      <th>key</th>\n",
       "      <th>time_first</th>\n",
       "      <th>temp_first</th>\n",
       "      <th>time_last</th>\n",
       "      <th>temp_last</th>\n",
       "    </tr>\n",
       "  </thead>\n",
       "  <tbody>\n",
       "    <tr>\n",
       "      <th>0</th>\n",
       "      <td>1</td>\n",
       "      <td>2019-05-03 11:16:18</td>\n",
       "      <td>1571.0</td>\n",
       "      <td>2019-05-03 11:30:39</td>\n",
       "      <td>1613.0</td>\n",
       "    </tr>\n",
       "    <tr>\n",
       "      <th>1</th>\n",
       "      <td>2</td>\n",
       "      <td>2019-05-03 11:37:27</td>\n",
       "      <td>1581.0</td>\n",
       "      <td>2019-05-03 11:59:12</td>\n",
       "      <td>1602.0</td>\n",
       "    </tr>\n",
       "    <tr>\n",
       "      <th>2</th>\n",
       "      <td>3</td>\n",
       "      <td>2019-05-03 12:13:17</td>\n",
       "      <td>1596.0</td>\n",
       "      <td>2019-05-03 12:34:57</td>\n",
       "      <td>1599.0</td>\n",
       "    </tr>\n",
       "    <tr>\n",
       "      <th>3</th>\n",
       "      <td>4</td>\n",
       "      <td>2019-05-03 12:52:57</td>\n",
       "      <td>1601.0</td>\n",
       "      <td>2019-05-03 12:59:25</td>\n",
       "      <td>1625.0</td>\n",
       "    </tr>\n",
       "    <tr>\n",
       "      <th>4</th>\n",
       "      <td>5</td>\n",
       "      <td>2019-05-03 13:23:19</td>\n",
       "      <td>1576.0</td>\n",
       "      <td>2019-05-03 13:36:01</td>\n",
       "      <td>1602.0</td>\n",
       "    </tr>\n",
       "  </tbody>\n",
       "</table>\n",
       "</div>"
      ],
      "text/plain": [
       "   key          time_first  temp_first           time_last  temp_last\n",
       "0    1 2019-05-03 11:16:18      1571.0 2019-05-03 11:30:39     1613.0\n",
       "1    2 2019-05-03 11:37:27      1581.0 2019-05-03 11:59:12     1602.0\n",
       "2    3 2019-05-03 12:13:17      1596.0 2019-05-03 12:34:57     1599.0\n",
       "3    4 2019-05-03 12:52:57      1601.0 2019-05-03 12:59:25     1625.0\n",
       "4    5 2019-05-03 13:23:19      1576.0 2019-05-03 13:36:01     1602.0"
      ]
     },
     "execution_count": 35,
     "metadata": {},
     "output_type": "execute_result"
    }
   ],
   "source": [
    "batch_temp.head()"
   ]
  },
  {
   "cell_type": "markdown",
   "metadata": {},
   "source": [
    "Построим график зависимости между начальной и конечной температурой (__*добавлено после обучения прототипа*__)"
   ]
  },
  {
   "cell_type": "code",
   "execution_count": null,
   "metadata": {
    "scrolled": false
   },
   "outputs": [],
   "source": [
    "batch_temp = batch_temp[1300 <= batch_temp['temp_first']] # drop extreeeme outliers\n",
    "fig = px.scatter(batch_temp, x='temp_first', y='temp_last', width=500, height=500)\n",
    "fig.update_xaxes(range=[1500, 1700])\n",
    "fig.update_yaxes(\n",
    "    scaleanchor = \"x\",\n",
    "    scaleratio = 1,\n",
    "  )"
   ]
  },
  {
   "cell_type": "markdown",
   "metadata": {},
   "source": [
    "Наблюдаем кучное скопление точек по центру с некоторым количеством нестандартных значений от 1650 градусов и выше, а также явно выделяющуюся прямую от левого нижнего угла к правому верхнему. При этом при наведении на точки (да и \"на глаз\") легко заметить, что данная линия образована из значений, для которых начальная температура равна конечной.\n",
    "Даже при беглом взгляде на график видно, что эти всоедствие этого температуры достаточно сильно коррелируют между собой. Изначально я не учел в модели начальную температуру вовсе, и MAE составило около 9-10. После включения же в модель этого признака метрика улучшилась до ~8.5, при этом анализ значимости признаков показал, что именно начальная температура сильнее всего влияла на предсказания модели. Таким образом, это важный признак, и его нужно учитывать.\n",
    "\n",
    "Однако значение целевой метрики было далеко от требуемого заказчиком. В чем же дело? Возможно, выбросы мешают обучению модели. Для проверки этой гипотезы стал отбрасывать некоторый процент самых больших и самых маленьких значений признаков. Чем больше отбрасывал - тем лучше работала модель. При дальнейшем исследовании выяснил, что проблема только в одном признаке - начальной температуре стали. Мы уже знаем, что признак очень важный и положительно влияет на точность предсказаний модели. Тем не менее что-то в нем мешает обучению. Для выяснения причин необходимо посмотреть, как эти признаки коррелируют друг с другом. Так мы выходим на график выше.\n",
    "\n",
    "Откуда же берутся точки с одинаковыми значениями начальной и конечной температур? Легко показать, что в таких строках другие признаки ненулевые. Т.е. для этих наблюдений и примеси добавляли, и производили нагрев электродами, и при этом значение температуры не изменилось ни на тысячную долю градуса. Такое представить практически невозможно - даже если не делать совсем ничего, температура поменяется. И уж точно не могут совпасть температуры у многих наблюдений. А их довольно много - покажем это:"
   ]
  },
  {
   "cell_type": "code",
   "execution_count": 37,
   "metadata": {},
   "outputs": [
    {
     "data": {
      "text/plain": [
       "782"
      ]
     },
     "execution_count": 37,
     "metadata": {},
     "output_type": "execute_result"
    }
   ],
   "source": [
    "sum(batch_temp['temp_first'] == batch_temp['temp_last'])"
   ]
  },
  {
   "cell_type": "markdown",
   "metadata": {},
   "source": [
    "Во многих партиях пропущено значение последнего замера температуры. Изначально была мысль заполнить их через forward fill, однако позже я отказался от этой идеи, поскольку, во-первых, это не улучшало качество предсказаний прототипа модели, во-вторых, такой подход рождает еще больше значений из \"прямой линии\" на графике выше, от которых, как мы увидим далее, необходимо избавиться, наконец, в-третьих, значение последнего измерения температуры является целевым признаком и заполнять его какими-либо расчетными значениями было бы в корне неверно.\n",
    "\n",
    "Если совпадающие начальные и конечные значения температуры получены не путем наблюдений, то они получились \"искусственно\" - при обработке данных. В нашем случае их появления обусловлено применением метода groupby. Посмотрим, сколько существует групп, в которых всего одно значение - в таких группах единственная температура является одновременно и первой, и последной замеренной:"
   ]
  },
  {
   "cell_type": "code",
   "execution_count": 38,
   "metadata": {},
   "outputs": [
    {
     "data": {
      "text/plain": [
       "741"
      ]
     },
     "execution_count": 38,
     "metadata": {},
     "output_type": "execute_result"
    }
   ],
   "source": [
    "sum(temp_data.groupby('key').count()['temp'] == 1)"
   ]
  },
  {
   "cell_type": "markdown",
   "metadata": {},
   "source": [
    "Т.е. их количество почти совпадает с количеством точек на прямой \"идеальной корреляции\" с графика выше. Практический опыт показал, что от них необходимо избавиться - фактически, для них отсутствует целевой признак. В нашем случае, чтобы иметь возможность отличить его от нецелевого (начальной температуры), необходимо иметь как минимум два наблюдения в группе (партии). Поэтому нам придется отбросить достаточно большое количество данных."
   ]
  },
  {
   "cell_type": "code",
   "execution_count": 39,
   "metadata": {},
   "outputs": [],
   "source": [
    "batch_temp = batch_temp[batch_temp['temp_first'] != batch_temp['temp_last']]"
   ]
  },
  {
   "cell_type": "markdown",
   "metadata": {},
   "source": [
    "# Шаг 2. Подготовка данных для обучения"
   ]
  },
  {
   "cell_type": "markdown",
   "metadata": {},
   "source": [
    "Исходя из имеющихся данных, предположим, что на финальную температуру могут влиять следующие параметры:\n",
    "1. Общая затраченная мощность (без учета количества циклов) - чем больше энергии затратили, тем больше нагрев\n",
    "2. Начальная температура стали\n",
    "3. Количество затраченных циклов\n",
    "4. Общее количество добавок\n",
    "\n",
    "Как мы видели выше, многие виды добавок встречаются очень редко. Представляется хорошей стратегией либо вообще не брать такие добавки, либо попробовать L1-регуляризацию, которая, как известно, предпочитает sparse-решения. Реализуем второй вариант, поскольку модели машинного обучения, как правило, сами неплохо справляются с выделением важных признаков, а регуляризацию удобно включить в параметры перебора по сетке (GridSearch).\n",
    "\n",
    "Сгруппируем данные по партиям, чтобы получить общую таблицу признаков"
   ]
  },
  {
   "cell_type": "markdown",
   "metadata": {},
   "source": [
    "Создаем датафрейм. Поскольку время нас не интересует, избавимся от этих данных, и возьмем только температуру:"
   ]
  },
  {
   "cell_type": "code",
   "execution_count": 40,
   "metadata": {},
   "outputs": [],
   "source": [
    "steel_data = batch_temp.drop(['time_first', 'time_last'], axis=1)"
   ]
  },
  {
   "cell_type": "markdown",
   "metadata": {},
   "source": [
    "Группируем данные по добавочным материалам, суммируем по каждой партии:"
   ]
  },
  {
   "cell_type": "code",
   "execution_count": 41,
   "metadata": {},
   "outputs": [],
   "source": [
    "bulk_summed = bulk_data.groupby('key').sum()\n",
    "wire_summed = wire_data.groupby('key').sum()"
   ]
  },
  {
   "cell_type": "markdown",
   "metadata": {},
   "source": [
    "Сливаем все таблицы в одну:"
   ]
  },
  {
   "cell_type": "code",
   "execution_count": 42,
   "metadata": {},
   "outputs": [],
   "source": [
    "dfs = [steel_data, bulk_summed, wire_summed, gas_data, arc_pivot]\n",
    "steel_data = reduce(lambda left, right: pd.merge(left, right, on='key'), dfs)"
   ]
  },
  {
   "cell_type": "markdown",
   "metadata": {},
   "source": [
    "У нас есть столбцы, где абсолютно все значения нулевые. На финальный результат это, может, и не влияет, но увеличивает время обучения. Стоит избаваться от них:"
   ]
  },
  {
   "cell_type": "code",
   "execution_count": 43,
   "metadata": {},
   "outputs": [],
   "source": [
    "zeros = [column for column in steel_data.columns if not np.any(steel_data[column])]\n",
    "steel_data = steel_data.drop(zeros, axis=1)"
   ]
  },
  {
   "cell_type": "markdown",
   "metadata": {},
   "source": [
    "Теперь выделим целевой признак и поделим данные на выборки"
   ]
  },
  {
   "cell_type": "code",
   "execution_count": 44,
   "metadata": {},
   "outputs": [],
   "source": [
    "target = steel_data['temp_last']\n",
    "features = steel_data.drop(['temp_last', 'key'], axis=1)"
   ]
  },
  {
   "cell_type": "markdown",
   "metadata": {},
   "source": [
    "Проверим признаки на мультиколлинеарность"
   ]
  },
  {
   "cell_type": "code",
   "execution_count": 45,
   "metadata": {},
   "outputs": [],
   "source": [
    "feat_corr = features.corr()"
   ]
  },
  {
   "cell_type": "code",
   "execution_count": 46,
   "metadata": {},
   "outputs": [
    {
     "data": {
      "image/png": "[encoded data removed]",
      "text/plain": [
       "<Figure size 720x576 with 2 Axes>"
      ]
     },
     "metadata": {
      "needs_background": "light"
     },
     "output_type": "display_data"
    }
   ],
   "source": [
    "plt.figure(figsize=(10,8))\n",
    "sns.heatmap(feat_corr, cmap='RdBu', cbar=True)\n",
    "plt.show()"
   ]
  },
  {
   "cell_type": "markdown",
   "metadata": {},
   "source": [
    "Видим сильную зависимость в паре *bulk_9* - *wire_8*, а также в сгенерированных нами признаках = количестве циклах и сумме активной/реактивной мощностей и затраченного времени\n",
    "\n",
    "Убираем 3 таких признака (опытным путем установлено, что удаление других ухудшает качество модели)"
   ]
  },
  {
   "cell_type": "code",
   "execution_count": 47,
   "metadata": {},
   "outputs": [],
   "source": [
    "features = features.drop(['bulk_9', 'sum_reactive', 'sum_time'], axis=1)"
   ]
  },
  {
   "cell_type": "markdown",
   "metadata": {},
   "source": [
    "Также в ходе обучения моделей и анализа используемых ими признаков, был выявлен ряд фич с крайне низкой (строго говоря, нулевой) значимостью. Их мы тоже убираем для ускорения обучения. При этом важно отметить, что метрика не только не просела, но и немного улучшилась (после удаления признаков в *предыдущей* ячейке))"
   ]
  },
  {
   "cell_type": "code",
   "execution_count": 48,
   "metadata": {},
   "outputs": [],
   "source": [
    "features = features.drop(['bulk_2', 'bulk_7', 'bulk_8', 'bulk_13',\n",
    "                         'wire_4', 'wire_7', 'wire_8', 'wire_9'], axis=1)"
   ]
  },
  {
   "cell_type": "markdown",
   "metadata": {},
   "source": [
    "Теперь поделим выборку на обучающую и тестовую"
   ]
  },
  {
   "cell_type": "code",
   "execution_count": 49,
   "metadata": {},
   "outputs": [],
   "source": [
    "X_train, X_test, y_train, y_test = train_test_split(features, target, test_size=0.2, random_state=146)"
   ]
  },
  {
   "cell_type": "markdown",
   "metadata": {},
   "source": [
    "Проверяем размерность"
   ]
  },
  {
   "cell_type": "code",
   "execution_count": 50,
   "metadata": {},
   "outputs": [
    {
     "name": "stdout",
     "output_type": "stream",
     "text": [
      "(1831, 18) (458, 18) (1831,) (458,)\n"
     ]
    }
   ],
   "source": [
    "print(X_train.shape, X_test.shape, y_train.shape, y_test.shape)"
   ]
  },
  {
   "cell_type": "markdown",
   "metadata": {},
   "source": [
    "Данные подготовлены, можно приступать к обучению"
   ]
  },
  {
   "cell_type": "markdown",
   "metadata": {},
   "source": [
    "# Шаг 3. Обучение и выбор модели"
   ]
  },
  {
   "cell_type": "markdown",
   "metadata": {},
   "source": [
    "Рассмотрим несколько популярных библиотек машинного обучения. Для обучения нейронных сетей у нас недостаточно данных, к тому же вряд ли мы имеем дело с неявными зависимостями между входными и выходными данными, поэтому ограничимся линейными моделями и бустингом."
   ]
  },
  {
   "cell_type": "markdown",
   "metadata": {},
   "source": [
    "#### Модель-заглушка"
   ]
  },
  {
   "cell_type": "markdown",
   "metadata": {},
   "source": [
    "Начнем с модели-заглушки, это позволит сразу проверять используемые модели на адекватность"
   ]
  },
  {
   "cell_type": "code",
   "execution_count": 51,
   "metadata": {},
   "outputs": [
    {
     "data": {
      "text/plain": [
       "8.479457380055758"
      ]
     },
     "execution_count": 51,
     "metadata": {},
     "output_type": "execute_result"
    }
   ],
   "source": [
    "dummy = DummyRegressor()\n",
    "dummy.fit(X_train, y_train)\n",
    "dum_pred = dummy.predict(X_test)\n",
    "mean_absolute_error(y_test, dum_pred)"
   ]
  },
  {
   "cell_type": "markdown",
   "metadata": {},
   "source": [
    "#### Линейная регрессия"
   ]
  },
  {
   "cell_type": "code",
   "execution_count": 52,
   "metadata": {},
   "outputs": [
    {
     "data": {
      "text/plain": [
       "-6.107969329056925"
      ]
     },
     "execution_count": 52,
     "metadata": {},
     "output_type": "execute_result"
    }
   ],
   "source": [
    "lin1 = LinearRegression()\n",
    "cross_val_score(lin1, X_train, y_train, scoring='neg_mean_absolute_error').mean()"
   ]
  },
  {
   "cell_type": "code",
   "execution_count": 53,
   "metadata": {},
   "outputs": [],
   "source": [
    "lin2 = Lasso()\n",
    "param_grid = {'alpha': np.arange(0.01, 1, 0.05)}\n",
    "las_cv = GridSearchCV(lin2, param_grid, cv=5, scoring='neg_mean_absolute_error')"
   ]
  },
  {
   "cell_type": "code",
   "execution_count": 54,
   "metadata": {},
   "outputs": [
    {
     "data": {
      "text/plain": [
       "GridSearchCV(cv=5, estimator=Lasso(),\n",
       "             param_grid={'alpha': array([0.01, 0.06, 0.11, 0.16, 0.21, 0.26, 0.31, 0.36, 0.41, 0.46, 0.51,\n",
       "       0.56, 0.61, 0.66, 0.71, 0.76, 0.81, 0.86, 0.91, 0.96])},\n",
       "             scoring='neg_mean_absolute_error')"
      ]
     },
     "execution_count": 54,
     "metadata": {},
     "output_type": "execute_result"
    }
   ],
   "source": [
    "las_cv.fit(X_train, y_train)"
   ]
  },
  {
   "cell_type": "code",
   "execution_count": 55,
   "metadata": {},
   "outputs": [
    {
     "data": {
      "text/plain": [
       "-6.107828992289667"
      ]
     },
     "execution_count": 55,
     "metadata": {},
     "output_type": "execute_result"
    }
   ],
   "source": [
    "las_cv.best_score_"
   ]
  },
  {
   "cell_type": "code",
   "execution_count": 56,
   "metadata": {},
   "outputs": [
    {
     "data": {
      "text/plain": [
       "{'alpha': 0.060000000000000005}"
      ]
     },
     "execution_count": 56,
     "metadata": {},
     "output_type": "execute_result"
    }
   ],
   "source": [
    "las_cv.best_params_"
   ]
  },
  {
   "cell_type": "markdown",
   "metadata": {},
   "source": [
    "#### LightGBM"
   ]
  },
  {
   "cell_type": "code",
   "execution_count": 57,
   "metadata": {},
   "outputs": [],
   "source": [
    "lgb_model = lgb.LGBMRegressor()\n",
    "param_grid = {\n",
    "    'learning_rate': np.arange(0.01, 0.1, 0.02),\n",
    "    'max_depth': np.arange(1, 8, 2),\n",
    "    'verbose': [-1],\n",
    "    'num_leaves': [5, 10, 20],\n",
    "    'n_estimators': [50, 100, 200],\n",
    "    'reg_lambda': np.arange(0, 0.4, 0.1)\n",
    "}\n",
    "\n",
    "cv = GridSearchCV(lgb_model, param_grid, cv=5, scoring='neg_mean_absolute_error')"
   ]
  },
  {
   "cell_type": "code",
   "execution_count": 58,
   "metadata": {},
   "outputs": [
    {
     "name": "stdout",
     "output_type": "stream",
     "text": [
      "CPU times: user 6min 17s, sys: 22 s, total: 6min 39s\n",
      "Wall time: 1min 43s\n"
     ]
    },
    {
     "data": {
      "text/plain": [
       "GridSearchCV(cv=5, estimator=LGBMRegressor(),\n",
       "             param_grid={'learning_rate': array([0.01, 0.03, 0.05, 0.07, 0.09]),\n",
       "                         'max_depth': array([1, 3, 5, 7]),\n",
       "                         'n_estimators': [50, 100, 200],\n",
       "                         'num_leaves': [5, 10, 20],\n",
       "                         'reg_lambda': array([0. , 0.1, 0.2, 0.3]),\n",
       "                         'verbose': [-1]},\n",
       "             scoring='neg_mean_absolute_error')"
      ]
     },
     "execution_count": 58,
     "metadata": {},
     "output_type": "execute_result"
    }
   ],
   "source": [
    "%%time\n",
    "cv.fit(X_train, y_train)"
   ]
  },
  {
   "cell_type": "code",
   "execution_count": 59,
   "metadata": {
    "scrolled": true
   },
   "outputs": [
    {
     "data": {
      "text/plain": [
       "-5.863273839486268"
      ]
     },
     "execution_count": 59,
     "metadata": {},
     "output_type": "execute_result"
    }
   ],
   "source": [
    "cv.best_score_"
   ]
  },
  {
   "cell_type": "code",
   "execution_count": 60,
   "metadata": {},
   "outputs": [
    {
     "data": {
      "text/plain": [
       "{'learning_rate': 0.06999999999999999,\n",
       " 'max_depth': 7,\n",
       " 'n_estimators': 100,\n",
       " 'num_leaves': 20,\n",
       " 'reg_lambda': 0.0,\n",
       " 'verbose': -1}"
      ]
     },
     "execution_count": 60,
     "metadata": {},
     "output_type": "execute_result"
    }
   ],
   "source": [
    "cv.best_params_"
   ]
  },
  {
   "cell_type": "code",
   "execution_count": 61,
   "metadata": {},
   "outputs": [
    {
     "data": {
      "text/plain": [
       "array([312,  45,  57,  50,  14,  72,   3,  12,  77, 154,  90, 168,  92,\n",
       "        17,   6, 177,  71, 326], dtype=int32)"
      ]
     },
     "execution_count": 61,
     "metadata": {},
     "output_type": "execute_result"
    }
   ],
   "source": [
    "cv.best_estimator_.feature_importances_"
   ]
  },
  {
   "cell_type": "code",
   "execution_count": 62,
   "metadata": {},
   "outputs": [
    {
     "data": {
      "image/png": "[encoded data removed]",
      "text/plain": [
       "<Figure size 720x288 with 1 Axes>"
      ]
     },
     "metadata": {
      "needs_background": "light"
     },
     "output_type": "display_data"
    }
   ],
   "source": [
    "plt.figure(figsize=(10,4))\n",
    "plt.title('Уровень значимости признаков в модели бустинга LightGBM')\n",
    "feat_imp = sns.barplot(x=features.columns, y=cv.best_estimator_.feature_importances_, color='black')\n",
    "for item in feat_imp.get_xticklabels():\n",
    "    item.set_rotation(45)\n",
    "plt.show()"
   ]
  },
  {
   "cell_type": "markdown",
   "metadata": {},
   "source": [
    "**Вывод**: модель опирается в первую очередь на потребленную мощность и начальную температуру, но также учитывает уровень многих добавочных материалов"
   ]
  },
  {
   "cell_type": "markdown",
   "metadata": {},
   "source": [
    "#### CatBoost"
   ]
  },
  {
   "cell_type": "code",
   "execution_count": 63,
   "metadata": {},
   "outputs": [
    {
     "name": "stdout",
     "output_type": "stream",
     "text": [
      "\n",
      "bestTest = 963.7521124\n",
      "bestIteration = 49\n",
      "\n",
      "0:\tloss: 963.7521124\tbest: 963.7521124 (0)\ttotal: 93.2ms\tremaining: 7.36s\n",
      "\n",
      "bestTest = 347.6242475\n",
      "bestIteration = 49\n",
      "\n",
      "1:\tloss: 347.6242475\tbest: 347.6242475 (1)\ttotal: 124ms\tremaining: 4.82s\n",
      "\n",
      "bestTest = 122.9334105\n",
      "bestIteration = 49\n",
      "\n",
      "2:\tloss: 122.9334105\tbest: 122.9334105 (2)\ttotal: 145ms\tremaining: 3.71s\n",
      "\n",
      "bestTest = 42.72517114\n",
      "bestIteration = 49\n",
      "\n",
      "3:\tloss: 42.7251711\tbest: 42.7251711 (3)\ttotal: 166ms\tremaining: 3.15s\n",
      "\n",
      "bestTest = 15.04164257\n",
      "bestIteration = 49\n",
      "\n",
      "4:\tloss: 15.0416426\tbest: 15.0416426 (4)\ttotal: 186ms\tremaining: 2.78s\n",
      "\n",
      "bestTest = 352.9627578\n",
      "bestIteration = 149\n",
      "\n",
      "5:\tloss: 352.9627578\tbest: 15.0416426 (4)\ttotal: 244ms\tremaining: 3s\n",
      "\n",
      "bestTest = 17.08432363\n",
      "bestIteration = 149\n",
      "\n",
      "6:\tloss: 17.0843236\tbest: 15.0416426 (4)\ttotal: 308ms\tremaining: 3.21s\n",
      "\n",
      "bestTest = 6.38843589\n",
      "bestIteration = 149\n",
      "\n",
      "7:\tloss: 6.3884359\tbest: 6.3884359 (7)\ttotal: 373ms\tremaining: 3.36s\n",
      "\n",
      "bestTest = 5.865770485\n",
      "bestIteration = 149\n",
      "\n",
      "8:\tloss: 5.8657705\tbest: 5.8657705 (8)\ttotal: 450ms\tremaining: 3.55s\n",
      "\n",
      "bestTest = 5.814126546\n",
      "bestIteration = 149\n",
      "\n",
      "9:\tloss: 5.8141265\tbest: 5.8141265 (9)\ttotal: 554ms\tremaining: 3.87s\n",
      "\n",
      "bestTest = 78.49292004\n",
      "bestIteration = 299\n",
      "\n",
      "10:\tloss: 78.4929200\tbest: 5.8141265 (9)\ttotal: 688ms\tremaining: 4.31s\n",
      "\n",
      "bestTest = 6.124170644\n",
      "bestIteration = 299\n",
      "\n",
      "11:\tloss: 6.1241706\tbest: 5.8141265 (9)\ttotal: 829ms\tremaining: 4.7s\n",
      "\n",
      "bestTest = 5.832713342\n",
      "bestIteration = 299\n",
      "\n",
      "12:\tloss: 5.8327133\tbest: 5.8141265 (9)\ttotal: 998ms\tremaining: 5.14s\n",
      "\n",
      "bestTest = 5.753900982\n",
      "bestIteration = 289\n",
      "\n",
      "13:\tloss: 5.7539010\tbest: 5.7539010 (13)\ttotal: 1.18s\tremaining: 5.58s\n",
      "\n",
      "bestTest = 5.722654784\n",
      "bestIteration = 294\n",
      "\n",
      "14:\tloss: 5.7226548\tbest: 5.7226548 (14)\ttotal: 1.31s\tremaining: 5.7s\n",
      "\n",
      "bestTest = 11.8514814\n",
      "bestIteration = 499\n",
      "\n",
      "15:\tloss: 11.8514814\tbest: 5.7226548 (14)\ttotal: 1.54s\tremaining: 6.18s\n",
      "\n",
      "bestTest = 5.871330348\n",
      "bestIteration = 499\n",
      "\n",
      "16:\tloss: 5.8713303\tbest: 5.7226548 (14)\ttotal: 1.79s\tremaining: 6.63s\n",
      "\n",
      "bestTest = 5.775935258\n",
      "bestIteration = 483\n",
      "\n",
      "17:\tloss: 5.7759353\tbest: 5.7226548 (14)\ttotal: 2.04s\tremaining: 7.01s\n",
      "\n",
      "bestTest = 5.720704081\n",
      "bestIteration = 499\n",
      "\n",
      "18:\tloss: 5.7207041\tbest: 5.7207041 (18)\ttotal: 2.3s\tremaining: 7.37s\n",
      "\n",
      "bestTest = 5.70376667\n",
      "bestIteration = 481\n",
      "\n",
      "19:\tloss: 5.7037667\tbest: 5.7037667 (19)\ttotal: 2.55s\tremaining: 7.65s\n",
      "\n",
      "bestTest = 964.1571766\n",
      "bestIteration = 49\n",
      "\n",
      "20:\tloss: 964.1571766\tbest: 5.7037667 (19)\ttotal: 2.58s\tremaining: 7.25s\n",
      "\n",
      "bestTest = 348.4146584\n",
      "bestIteration = 49\n",
      "\n",
      "21:\tloss: 348.4146584\tbest: 5.7037667 (19)\ttotal: 2.62s\tremaining: 6.91s\n",
      "\n",
      "bestTest = 123.8696432\n",
      "bestIteration = 49\n",
      "\n",
      "22:\tloss: 123.8696432\tbest: 5.7037667 (19)\ttotal: 2.65s\tremaining: 6.58s\n",
      "\n",
      "bestTest = 43.72188048\n",
      "bestIteration = 49\n",
      "\n",
      "23:\tloss: 43.7218805\tbest: 5.7037667 (19)\ttotal: 2.7s\tremaining: 6.3s\n",
      "\n",
      "bestTest = 15.95888475\n",
      "bestIteration = 49\n",
      "\n",
      "24:\tloss: 15.9588848\tbest: 5.7037667 (19)\ttotal: 2.73s\tremaining: 6.01s\n",
      "\n",
      "bestTest = 353.8939278\n",
      "bestIteration = 149\n",
      "\n",
      "25:\tloss: 353.8939278\tbest: 5.7037667 (19)\ttotal: 2.87s\tremaining: 5.95s\n",
      "\n",
      "bestTest = 18.26815227\n",
      "bestIteration = 149\n",
      "\n",
      "26:\tloss: 18.2681523\tbest: 5.7037667 (19)\ttotal: 2.96s\tremaining: 5.82s\n",
      "\n",
      "bestTest = 7.068566988\n",
      "bestIteration = 149\n",
      "\n",
      "27:\tloss: 7.0685670\tbest: 5.7037667 (19)\ttotal: 3.07s\tremaining: 5.7s\n",
      "\n",
      "bestTest = 6.865958195\n",
      "bestIteration = 149\n",
      "\n",
      "28:\tloss: 6.8659582\tbest: 5.7037667 (19)\ttotal: 3.2s\tremaining: 5.63s\n",
      "\n",
      "bestTest = 6.775760746\n",
      "bestIteration = 149\n",
      "\n",
      "29:\tloss: 6.7757607\tbest: 5.7037667 (19)\ttotal: 3.31s\tremaining: 5.52s\n",
      "\n",
      "bestTest = 79.55497686\n",
      "bestIteration = 299\n",
      "\n",
      "30:\tloss: 79.5549769\tbest: 5.7037667 (19)\ttotal: 3.49s\tremaining: 5.52s\n",
      "\n",
      "bestTest = 6.753262853\n",
      "bestIteration = 299\n",
      "\n",
      "31:\tloss: 6.7532629\tbest: 5.7037667 (19)\ttotal: 3.69s\tremaining: 5.54s\n",
      "\n",
      "bestTest = 6.706692023\n",
      "bestIteration = 299\n",
      "\n",
      "32:\tloss: 6.7066920\tbest: 5.7037667 (19)\ttotal: 3.88s\tremaining: 5.53s\n",
      "\n",
      "bestTest = 6.699422584\n",
      "bestIteration = 293\n",
      "\n",
      "33:\tloss: 6.6994226\tbest: 5.7037667 (19)\ttotal: 4.09s\tremaining: 5.53s\n",
      "\n",
      "bestTest = 6.700150374\n",
      "bestIteration = 299\n",
      "\n",
      "34:\tloss: 6.7001504\tbest: 5.7037667 (19)\ttotal: 4.33s\tremaining: 5.57s\n",
      "\n",
      "bestTest = 12.7056958\n",
      "bestIteration = 499\n",
      "\n",
      "35:\tloss: 12.7056958\tbest: 5.7037667 (19)\ttotal: 4.71s\tremaining: 5.76s\n",
      "\n",
      "bestTest = 6.578203674\n",
      "bestIteration = 497\n",
      "\n",
      "36:\tloss: 6.5782037\tbest: 5.7037667 (19)\ttotal: 5.08s\tremaining: 5.9s\n",
      "\n",
      "bestTest = 6.641122507\n",
      "bestIteration = 491\n",
      "\n",
      "37:\tloss: 6.6411225\tbest: 5.7037667 (19)\ttotal: 5.42s\tremaining: 5.99s\n",
      "\n",
      "bestTest = 6.65351582\n",
      "bestIteration = 499\n",
      "\n",
      "38:\tloss: 6.6535158\tbest: 5.7037667 (19)\ttotal: 5.75s\tremaining: 6.04s\n",
      "\n",
      "bestTest = 6.672433974\n",
      "bestIteration = 454\n",
      "\n",
      "39:\tloss: 6.6724340\tbest: 5.7037667 (19)\ttotal: 6.39s\tremaining: 6.39s\n",
      "\n",
      "bestTest = 965.4488827\n",
      "bestIteration = 49\n",
      "\n",
      "40:\tloss: 965.4488827\tbest: 5.7037667 (19)\ttotal: 6.49s\tremaining: 6.17s\n",
      "\n",
      "bestTest = 350.9687101\n",
      "bestIteration = 49\n",
      "\n",
      "41:\tloss: 350.9687101\tbest: 5.7037667 (19)\ttotal: 6.57s\tremaining: 5.95s\n",
      "\n",
      "bestTest = 126.89411\n",
      "bestIteration = 49\n",
      "\n",
      "42:\tloss: 126.8941100\tbest: 5.7037667 (19)\ttotal: 6.66s\tremaining: 5.73s\n",
      "\n",
      "bestTest = 46.84853571\n",
      "bestIteration = 49\n",
      "\n",
      "43:\tloss: 46.8485357\tbest: 5.7037667 (19)\ttotal: 6.74s\tremaining: 5.51s\n",
      "\n",
      "bestTest = 19.03051897\n",
      "bestIteration = 49\n",
      "\n",
      "44:\tloss: 19.0305190\tbest: 5.7037667 (19)\ttotal: 6.84s\tremaining: 5.32s\n",
      "\n",
      "bestTest = 356.408168\n",
      "bestIteration = 149\n",
      "\n",
      "45:\tloss: 356.4081680\tbest: 5.7037667 (19)\ttotal: 7.08s\tremaining: 5.23s\n",
      "\n",
      "bestTest = 21.32690596\n",
      "bestIteration = 149\n",
      "\n",
      "46:\tloss: 21.3269060\tbest: 5.7037667 (19)\ttotal: 7.3s\tremaining: 5.13s\n",
      "\n",
      "bestTest = 9.503415697\n",
      "bestIteration = 149\n",
      "\n",
      "47:\tloss: 9.5034157\tbest: 5.7037667 (19)\ttotal: 7.51s\tremaining: 5s\n",
      "\n",
      "bestTest = 9.310396168\n",
      "bestIteration = 148\n",
      "\n",
      "48:\tloss: 9.3103962\tbest: 5.7037667 (19)\ttotal: 7.79s\tremaining: 4.93s\n",
      "\n",
      "bestTest = 9.246437228\n",
      "bestIteration = 143\n",
      "\n",
      "49:\tloss: 9.2464372\tbest: 5.7037667 (19)\ttotal: 8.05s\tremaining: 4.83s\n",
      "\n",
      "bestTest = 82.71255838\n",
      "bestIteration = 299\n",
      "\n",
      "50:\tloss: 82.7125584\tbest: 5.7037667 (19)\ttotal: 8.38s\tremaining: 4.76s\n",
      "\n",
      "bestTest = 9.216256325\n",
      "bestIteration = 299\n",
      "\n",
      "51:\tloss: 9.2162563\tbest: 5.7037667 (19)\ttotal: 8.74s\tremaining: 4.71s\n",
      "\n",
      "bestTest = 9.239977531\n",
      "bestIteration = 285\n",
      "\n",
      "52:\tloss: 9.2399775\tbest: 5.7037667 (19)\ttotal: 9.09s\tremaining: 4.63s\n",
      "\n",
      "bestTest = 9.198321061\n",
      "bestIteration = 282\n",
      "\n",
      "53:\tloss: 9.1983211\tbest: 5.7037667 (19)\ttotal: 9.45s\tremaining: 4.55s\n",
      "\n",
      "bestTest = 9.234784451\n",
      "bestIteration = 196\n",
      "\n",
      "54:\tloss: 9.2347845\tbest: 5.7037667 (19)\ttotal: 9.8s\tremaining: 4.45s\n",
      "\n",
      "bestTest = 15.76933494\n",
      "bestIteration = 499\n",
      "\n",
      "55:\tloss: 15.7693349\tbest: 5.7037667 (19)\ttotal: 10.4s\tremaining: 4.46s\n",
      "\n",
      "bestTest = 9.118240394\n",
      "bestIteration = 499\n",
      "\n",
      "56:\tloss: 9.1182404\tbest: 5.7037667 (19)\ttotal: 11s\tremaining: 4.45s\n",
      "\n",
      "bestTest = 9.239977531\n",
      "bestIteration = 285\n",
      "\n",
      "57:\tloss: 9.2399775\tbest: 5.7037667 (19)\ttotal: 11.7s\tremaining: 4.45s\n",
      "\n",
      "bestTest = 9.17653609\n",
      "bestIteration = 365\n",
      "\n",
      "58:\tloss: 9.1765361\tbest: 5.7037667 (19)\ttotal: 12.4s\tremaining: 4.42s\n",
      "\n",
      "bestTest = 9.234784451\n",
      "bestIteration = 196\n",
      "\n",
      "59:\tloss: 9.2347845\tbest: 5.7037667 (19)\ttotal: 13.1s\tremaining: 4.35s\n",
      "\n",
      "bestTest = 968.3808427\n",
      "bestIteration = 49\n",
      "\n",
      "60:\tloss: 968.3808427\tbest: 5.7037667 (19)\ttotal: 13.2s\tremaining: 4.13s\n",
      "\n",
      "bestTest = 356.997749\n",
      "bestIteration = 49\n",
      "\n",
      "61:\tloss: 356.9977490\tbest: 5.7037667 (19)\ttotal: 13.4s\tremaining: 3.9s\n",
      "\n",
      "bestTest = 134.3828077\n",
      "bestIteration = 49\n",
      "\n",
      "62:\tloss: 134.3828077\tbest: 5.7037667 (19)\ttotal: 13.6s\tremaining: 3.67s\n",
      "\n",
      "bestTest = 55.23174737\n",
      "bestIteration = 49\n",
      "\n",
      "63:\tloss: 55.2317474\tbest: 5.7037667 (19)\ttotal: 13.8s\tremaining: 3.44s\n",
      "\n",
      "bestTest = 27.95520515\n",
      "bestIteration = 49\n",
      "\n",
      "64:\tloss: 27.9552052\tbest: 5.7037667 (19)\ttotal: 13.9s\tremaining: 3.21s\n",
      "\n",
      "bestTest = 362.0369974\n",
      "bestIteration = 149\n",
      "\n",
      "65:\tloss: 362.0369974\tbest: 5.7037667 (19)\ttotal: 14.4s\tremaining: 3.05s\n",
      "\n",
      "bestTest = 28.64084317\n",
      "bestIteration = 149\n",
      "\n",
      "66:\tloss: 28.6408432\tbest: 5.7037667 (19)\ttotal: 14.9s\tremaining: 2.89s\n",
      "\n",
      "bestTest = 16.76433035\n",
      "bestIteration = 149\n",
      "\n",
      "67:\tloss: 16.7643303\tbest: 5.7037667 (19)\ttotal: 15.5s\tremaining: 2.73s\n",
      "\n",
      "bestTest = 17.30475216\n",
      "bestIteration = 145\n",
      "\n",
      "68:\tloss: 17.3047522\tbest: 5.7037667 (19)\ttotal: 16s\tremaining: 2.55s\n",
      "\n",
      "bestTest = 17.78697404\n",
      "bestIteration = 131\n",
      "\n",
      "69:\tloss: 17.7869740\tbest: 5.7037667 (19)\ttotal: 16.6s\tremaining: 2.37s\n",
      "\n",
      "bestTest = 89.48676746\n",
      "bestIteration = 299\n",
      "\n",
      "70:\tloss: 89.4867675\tbest: 5.7037667 (19)\ttotal: 17.6s\tremaining: 2.23s\n"
     ]
    },
    {
     "name": "stdout",
     "output_type": "stream",
     "text": [
      "\n",
      "bestTest = 15.69764752\n",
      "bestIteration = 297\n",
      "\n",
      "71:\tloss: 15.6976475\tbest: 5.7037667 (19)\ttotal: 18.6s\tremaining: 2.06s\n",
      "\n",
      "bestTest = 16.48396788\n",
      "bestIteration = 238\n",
      "\n",
      "72:\tloss: 16.4839679\tbest: 5.7037667 (19)\ttotal: 19.7s\tremaining: 1.89s\n",
      "\n",
      "bestTest = 17.26481474\n",
      "bestIteration = 251\n",
      "\n",
      "73:\tloss: 17.2648147\tbest: 5.7037667 (19)\ttotal: 21s\tremaining: 1.7s\n",
      "\n",
      "bestTest = 17.76458967\n",
      "bestIteration = 162\n",
      "\n",
      "74:\tloss: 17.7645897\tbest: 5.7037667 (19)\ttotal: 21.9s\tremaining: 1.46s\n",
      "\n",
      "bestTest = 22.5356101\n",
      "bestIteration = 499\n",
      "\n",
      "75:\tloss: 22.5356101\tbest: 5.7037667 (19)\ttotal: 23.4s\tremaining: 1.23s\n",
      "\n",
      "bestTest = 15.5923385\n",
      "bestIteration = 476\n",
      "\n",
      "76:\tloss: 15.5923385\tbest: 5.7037667 (19)\ttotal: 25s\tremaining: 974ms\n",
      "\n",
      "bestTest = 16.47757382\n",
      "bestIteration = 477\n",
      "\n",
      "77:\tloss: 16.4775738\tbest: 5.7037667 (19)\ttotal: 26.7s\tremaining: 684ms\n",
      "\n",
      "bestTest = 17.26481474\n",
      "bestIteration = 251\n",
      "\n",
      "78:\tloss: 17.2648147\tbest: 5.7037667 (19)\ttotal: 28.4s\tremaining: 360ms\n",
      "\n",
      "bestTest = 17.76458967\n",
      "bestIteration = 162\n",
      "\n",
      "79:\tloss: 17.7645897\tbest: 5.7037667 (19)\ttotal: 30.2s\tremaining: 0us\n",
      "Estimating final quality...\n",
      "CPU times: user 1min 27s, sys: 11.4 s, total: 1min 38s\n",
      "Wall time: 38 s\n"
     ]
    }
   ],
   "source": [
    "%%time\n",
    "cat_model = CatBoostRegressor(loss_function='MAE')\n",
    "cats_gs = cat_model.grid_search({'learning_rate': np.arange(0.01, 0.1, 0.02),\n",
    "                                 'depth': np.arange(2, 9, 2), 'n_estimators': [50, 150, 300, 500]}, X_train, y_train)"
   ]
  },
  {
   "cell_type": "code",
   "execution_count": 64,
   "metadata": {},
   "outputs": [
    {
     "name": "stdout",
     "output_type": "stream",
     "text": [
      "{'depth': 2, 'iterations': 500, 'learning_rate': 0.08999999999999998}\n"
     ]
    }
   ],
   "source": [
    "print(cats_gs['params'])"
   ]
  },
  {
   "cell_type": "code",
   "execution_count": 65,
   "metadata": {},
   "outputs": [
    {
     "data": {
      "image/png": "[encoded data removed]",
      "text/plain": [
       "<Figure size 720x288 with 1 Axes>"
      ]
     },
     "metadata": {
      "needs_background": "light"
     },
     "output_type": "display_data"
    }
   ],
   "source": [
    "plt.figure(figsize=(10,4))\n",
    "plt.title('Уровень значимости признаков в модели бустинга CatBoost')\n",
    "feat_imp_cat = sns.barplot(x=features.columns, y=cat_model.feature_importances_, color='black')\n",
    "for item in feat_imp_cat.get_xticklabels():\n",
    "    item.set_rotation(45)\n",
    "plt.show()"
   ]
  },
  {
   "cell_type": "markdown",
   "metadata": {},
   "source": [
    "**Вывод**: данная модель опирается в большей части на сумму потребленной мощности и начальную температуру стали, а признаки добавляемых материалов использует лишь выборочно, при этом некоторые из них практически не оказывают влияния на итоговый результат"
   ]
  },
  {
   "cell_type": "markdown",
   "metadata": {},
   "source": [
    "#### XGBoost"
   ]
  },
  {
   "cell_type": "code",
   "execution_count": 66,
   "metadata": {},
   "outputs": [],
   "source": [
    "xmodel = xgb.XGBRegressor(objective='reg:squarederror', n_jobs=8)\n",
    "x_param_grid = {\n",
    "    'learning_rate': np.arange(0.01, 0.18, 0.05),\n",
    "    'max_depth': np.arange(2, 8, 2),\n",
    "    'n_estimators': [50, 150, 300],\n",
    "    'reg_alpha': [0, 0.1, 0.3]\n",
    "}\n",
    "\n",
    "xcv = GridSearchCV(xmodel, x_param_grid, cv=5, scoring='neg_mean_absolute_error')"
   ]
  },
  {
   "cell_type": "code",
   "execution_count": 67,
   "metadata": {},
   "outputs": [
    {
     "name": "stdout",
     "output_type": "stream",
     "text": [
      "CPU times: user 2min 29s, sys: 3min 19s, total: 5min 49s\n",
      "Wall time: 1min 32s\n"
     ]
    },
    {
     "data": {
      "text/plain": [
       "GridSearchCV(cv=5,\n",
       "             estimator=XGBRegressor(base_score=None, booster=None,\n",
       "                                    colsample_bylevel=None,\n",
       "                                    colsample_bynode=None,\n",
       "                                    colsample_bytree=None, gamma=None,\n",
       "                                    gpu_id=None, importance_type='gain',\n",
       "                                    interaction_constraints=None,\n",
       "                                    learning_rate=None, max_delta_step=None,\n",
       "                                    max_depth=None, min_child_weight=None,\n",
       "                                    missing=nan, monotone_constraints=None,\n",
       "                                    n_estimators=100, n_jobs=8,\n",
       "                                    num_parallel_tree=None, random_state=None,\n",
       "                                    reg_alpha=None, reg_lambda=None,\n",
       "                                    scale_pos_weight=None, subsample=None,\n",
       "                                    tree_method=None, validate_parameters=None,\n",
       "                                    verbosity=None),\n",
       "             param_grid={'learning_rate': array([0.01, 0.06, 0.11, 0.16]),\n",
       "                         'max_depth': array([2, 4, 6]),\n",
       "                         'n_estimators': [50, 150, 300],\n",
       "                         'reg_alpha': [0, 0.1, 0.3]},\n",
       "             scoring='neg_mean_absolute_error')"
      ]
     },
     "execution_count": 67,
     "metadata": {},
     "output_type": "execute_result"
    }
   ],
   "source": [
    "%%time\n",
    "xcv.fit(X_train, y_train)"
   ]
  },
  {
   "cell_type": "code",
   "execution_count": 68,
   "metadata": {},
   "outputs": [
    {
     "data": {
      "text/plain": [
       "-5.8449721933566705"
      ]
     },
     "execution_count": 68,
     "metadata": {},
     "output_type": "execute_result"
    }
   ],
   "source": [
    "xcv.best_score_"
   ]
  },
  {
   "cell_type": "code",
   "execution_count": 69,
   "metadata": {},
   "outputs": [
    {
     "data": {
      "image/png": "[encoded data removed]",
      "text/plain": [
       "<Figure size 720x288 with 1 Axes>"
      ]
     },
     "metadata": {
      "needs_background": "light"
     },
     "output_type": "display_data"
    }
   ],
   "source": [
    "plt.figure(figsize=(10,4))\n",
    "plt.title('Уровень значимости признаков в модели бустинга XGBoost')\n",
    "feat_imp_xgb = sns.barplot(x=features.columns, y=xcv.best_estimator_.feature_importances_, color='black')\n",
    "for item in feat_imp_xgb.get_xticklabels():\n",
    "    item.set_rotation(45)\n",
    "plt.show()"
   ]
  },
  {
   "cell_type": "markdown",
   "metadata": {},
   "source": [
    "**Вывод**: по сравнению с предыдущими кандидатами данная модель гораздо более равномерно использует признаковое пространство, используя большинство информации о добавкам и присваивая им гораздо большие относительные веса"
   ]
  },
  {
   "cell_type": "markdown",
   "metadata": {},
   "source": [
    "# Шаг 4. Анализ моделей"
   ]
  },
  {
   "cell_type": "markdown",
   "metadata": {},
   "source": [
    "Обучим модели с оптимальными гиперпараметрами и сравним результаты на тестовой выборке"
   ]
  },
  {
   "cell_type": "code",
   "execution_count": 70,
   "metadata": {},
   "outputs": [],
   "source": [
    "results = {}"
   ]
  },
  {
   "cell_type": "markdown",
   "metadata": {},
   "source": [
    "#### Линейная регрессия"
   ]
  },
  {
   "cell_type": "code",
   "execution_count": 71,
   "metadata": {},
   "outputs": [],
   "source": [
    "las_final = Lasso(alpha=0.06)\n",
    "las_final.fit(X_train, y_train)\n",
    "start_pred = datetime.datetime.now()\n",
    "las_pred = las_final.predict(X_test)\n",
    "end_pred = datetime.datetime.now()\n",
    "las_score = mean_absolute_error(y_test, las_pred)\n",
    "results['Lasso'] = [(end_pred-start_pred).microseconds//1000, np.round(las_score, decimals=2)]"
   ]
  },
  {
   "cell_type": "markdown",
   "metadata": {},
   "source": [
    "#### LightGBM"
   ]
  },
  {
   "cell_type": "code",
   "execution_count": 72,
   "metadata": {},
   "outputs": [],
   "source": [
    "lgb_final = lgb.LGBMRegressor(**cv.best_params_)\n",
    "lgb_final.fit(X_train, y_train)\n",
    "start_pred = datetime.datetime.now()\n",
    "lgb_pred = lgb_final.predict(X_test)\n",
    "end_pred = datetime.datetime.now()\n",
    "lgb_score = mean_absolute_error(y_test, lgb_pred)\n",
    "results['LightGBM'] = [(end_pred-start_pred).microseconds//1000, np.round(lgb_score, decimals=2)]"
   ]
  },
  {
   "cell_type": "markdown",
   "metadata": {},
   "source": [
    "#### CatBoost"
   ]
  },
  {
   "cell_type": "code",
   "execution_count": 73,
   "metadata": {},
   "outputs": [],
   "source": [
    "cat_final = CatBoostRegressor(**cats_gs['params'])\n",
    "cat_final.fit(X_train, y_train)\n",
    "start_pred = datetime.datetime.now()\n",
    "cat_pred = cat_final.predict(X_test)\n",
    "end_pred = datetime.datetime.now()\n",
    "cat_score = mean_absolute_error(y_test, cat_pred)\n",
    "results['CatBoost'] = [(end_pred-start_pred).microseconds//1000, np.round(cat_score, decimals=2)]\n",
    "clear_output()"
   ]
  },
  {
   "cell_type": "markdown",
   "metadata": {},
   "source": [
    "#### XGBoost"
   ]
  },
  {
   "cell_type": "code",
   "execution_count": 74,
   "metadata": {},
   "outputs": [],
   "source": [
    "xgb_final = xgb.XGBRegressor(objective='reg:squarederror', eval_metric='mae', n_jobs=8, **xcv.best_params_)\n",
    "xgb_final.fit(X_train, y_train)\n",
    "start_pred = datetime.datetime.now()\n",
    "xgb_pred = xgb_final.predict(X_test)\n",
    "end_pred = datetime.datetime.now()\n",
    "xgb_score = mean_absolute_error(y_test, xgb_pred)\n",
    "results['XGBoost'] = [(end_pred-start_pred).microseconds//1000, np.round(xgb_score, decimals=2)]"
   ]
  },
  {
   "cell_type": "markdown",
   "metadata": {},
   "source": [
    "### Итоговая таблица"
   ]
  },
  {
   "cell_type": "code",
   "execution_count": 75,
   "metadata": {},
   "outputs": [
    {
     "data": {
      "text/html": [
       "<div>\n",
       "<style scoped>\n",
       "    .dataframe tbody tr th:only-of-type {\n",
       "        vertical-align: middle;\n",
       "    }\n",
       "\n",
       "    .dataframe tbody tr th {\n",
       "        vertical-align: top;\n",
       "    }\n",
       "\n",
       "    .dataframe thead th {\n",
       "        text-align: right;\n",
       "    }\n",
       "</style>\n",
       "<table border=\"1\" class=\"dataframe\">\n",
       "  <thead>\n",
       "    <tr style=\"text-align: right;\">\n",
       "      <th></th>\n",
       "      <th>Lasso</th>\n",
       "      <th>LightGBM</th>\n",
       "      <th>CatBoost</th>\n",
       "      <th>XGBoost</th>\n",
       "    </tr>\n",
       "  </thead>\n",
       "  <tbody>\n",
       "    <tr>\n",
       "      <th>Время предсказания, мс</th>\n",
       "      <td>2.00</td>\n",
       "      <td>2.00</td>\n",
       "      <td>3.00</td>\n",
       "      <td>2.00</td>\n",
       "    </tr>\n",
       "    <tr>\n",
       "      <th>MAE (тест)</th>\n",
       "      <td>6.08</td>\n",
       "      <td>5.96</td>\n",
       "      <td>5.92</td>\n",
       "      <td>6.06</td>\n",
       "    </tr>\n",
       "  </tbody>\n",
       "</table>\n",
       "</div>"
      ],
      "text/plain": [
       "                        Lasso  LightGBM  CatBoost  XGBoost\n",
       "Время предсказания, мс   2.00      2.00      3.00     2.00\n",
       "MAE (тест)               6.08      5.96      5.92     6.06"
      ]
     },
     "execution_count": 75,
     "metadata": {},
     "output_type": "execute_result"
    }
   ],
   "source": [
    "pd.DataFrame(results, index=['Время предсказания, мс', 'MAE (тест)'])"
   ]
  },
  {
   "cell_type": "markdown",
   "metadata": {},
   "source": [
    "# Отчет о проделанной работе"
   ]
  },
  {
   "cell_type": "markdown",
   "metadata": {},
   "source": [
    "**Краткий итог**: Мы разработали модель для предсказания температуры стали. Наилучший результат показала модель градиентного бустинга CatBoost. LightGBM и CatBoost полностью удовлетворяет требованиям заказчика по точности, но XGBoost имеет чуть меньшее время предсказания. Стоит уточнить у заказчика, насколько критично время предсказания (возможно, к примеру, на принятие решения есть буквально доли секунды, когда заливают ковш), в таком случае рекомендовать будем модель XGBoost, поскольку она лишь немного уступает по качеству \"соперникам\". В ином случае - CatBoost или LightGBM.\n",
    "\n",
    "Стоит также обратить внимание заказчика на то, что финальная температура в первую очередь зависит от температуры начальной, в то время как некоторые добавки (сыпучие под №№ 2,7,8,13 и проволочные под №№ 4,7,8,9) имеют минимальное (даже нулевое) влияние на результат. Возможно, это поспособствует в принятии решения об оптимизации процесса обработки.\n",
    "\n",
    "**Все ли пункты плана были выполнены**: Да. Мы провели исследовательский анализ и предобработку данных, создали признаки, поделили выборку на обучающую и тестовую, затем обучили несколько моделей и выбрали наиболее оптимальные\n",
    "\n",
    "**Какие трудности возникли при решении задачи**: Не сразу удалось выделить оптимальные признаки. \n",
    "\n",
    "При первом обучении прототипа я не учел начальную температуру, как стало понятно в дальнейшем, именно она является признаком, наиболее сильно влияющим на признак целевой - конечную температуру. Однако после добавления начальной температуры в модель качество последней было весьма посредственным - MAE ~8-9. Это совершенно неприемлемо, поскольку позднее даже заглушка показала 8.5, то есть модель не проходила проверку на адекватность. При этом анализ значимости используемых ею признаков показал, что именно начальная температура сильнее всего влияла на предсказания модели. Таким образом, это важный признак, и его нужно учитывать. Я предположил, что обучению модели мешают какие-то выбросы в данных. \n",
    "\n",
    "Для проверки этой гипотезы стал отбрасывать некоторый процент самых больших и самых маленьких значений признаков. Чем больше отбрасывал - тем лучше работала модель. При дальнейшем исследовании выяснил, что проблема только в одном признаке - как раз начальной температуре стали. Как писал чуть выше, признак этот очень важный и положительно влияет на точность предсказаний модели. Тем не менее что-то в нем мешало обучению. Для выяснения причин было необходимо посмотреть, как начальная и конечная температуры коррелируют друг с другом. Я построил график их зависимости. График (он есть в разделе *Данные о результатах измерения температуры*) представлял собой скопление точек по центру с явно выделяющейся прямой от левого нижнего угла к правому верхнему. Эти точки были образованы из значений, для которых начальная температура равна конечной. Вследствие этого температуры достаточно сильно коррелировали между собой. \n",
    "\n",
    "Откуда же взядись точки с одинаковыми значениями начальной и конечной температур? Беглый анализ показал, что в таких строках другие признаки ненулевые. Т.е. для этих партий и примеси добавляли, и производили нагрев электродами, и при этом значение температуры не изменилось ни на тысячную долю градуса. Такое представить практически невозможно - даже если не делать совсем ничего, температура поменяется. И уж точно не могут совпасть температуры у многих наблюдений. А их оказалось довольно много - несколько сотен.\n",
    "\n",
    "Во многих партиях было пропущено значение последнего замера температуры. Изначально была мысль заполнить их через forward fill, однако позже я отказался от этой идеи, поскольку, во-первых, это не улучшало качество предсказаний прототипа модели, во-вторых, такой подход рождает еще больше наблюдений с совпадающими температурами, наконец, в-третьих, значение последнего измерения температуры является целевым признаком и заполнять его какими-либо расчетными значениями было бы в корне неверно.\n",
    "\n",
    "Если совпадающие начальные и конечные значения температуры получены не путем наблюдений, то они получились \"искусственно\" - при обработке данных. В нашем случае их появление было обусловлено применением метода groupby. Дальнейший анализ показал, что количество групп (партий), в которых всего одно значение (в таких группах единственная температура является одновременно и первой, и последной замеренной), почти совпадает с количеством точек на прямой \"идеальной корреляции\" на графике зависимостей между признаками. Фактически, для таких партий отсутствовал целевой признак, а чтобы иметь возможность отличить его от нецелевого (начальной температуры), необходимо иметь как минимум два наблюдения в группе (партии). Поэтому пришлось отбросить достаточно большое количество данных.\n",
    "\n",
    "**Какие ключевые шаги в решении задачи выделили**: По моему мнению, наиболее важный этап в решении данной задачи - это подготовка признаков. Необходимо не только сгруппировать признаки по партиям, но и учесть такие моменты, как в предыдущем пункте - одного измерения температуры недостаточно для включения конкретного наблюдения в модель, а также учесть мультиколлинеарность факторов. Еще можно отменить такой момент: многие из добавляемых материалов (сыпчатых и проволочных) имеют минимальное, иногда нулевое влияние на модель. Несмотря на то, что данные признаки могут не оказать влияния на непосредственное качество модели, избавившись от них, мы уменьшим время обучения, а кроме того, такая информация может быть полезна заказчику при оптимизации рабочих процессов (к примеру, решить, какие материалы можно исключить из процесса)\n",
    "\n",
    "**Итоговая модель и её качество**: CatBoost, **MAE=5.92**"
   ]
  }
 ],
 "metadata": {
  "kernelspec": {
   "display_name": "Python 3",
   "language": "python",
   "name": "python3"
  },
  "language_info": {
   "codemirror_mode": {
    "name": "ipython",
    "version": 3
   },
   "file_extension": ".py",
   "mimetype": "text/x-python",
   "name": "python",
   "nbconvert_exporter": "python",
   "pygments_lexer": "ipython3",
   "version": "3.7.8"
  }
 },
 "nbformat": 4,
 "nbformat_minor": 4
}
